{
 "cells": [
  {
   "attachments": {},
   "cell_type": "markdown",
   "metadata": {},
   "source": [
    "## Assignment 3"
   ]
  },
  {
   "attachments": {},
   "cell_type": "markdown",
   "metadata": {},
   "source": [
    "#### Import Required libraries"
   ]
  },
  {
   "cell_type": "code",
   "execution_count": 11,
   "metadata": {},
   "outputs": [],
   "source": [
    "import os\n",
    "import matplotlib.pyplot as plt\n",
    "import numpy as np\n",
    "import pandas as pd\n",
    "import csv\n",
    "import chess\n",
    "import chess.pgn\n",
    "import io\n",
    "import re\n",
    "import seaborn as sns\n",
    "\n",
    "from sklearn.linear_model import LogisticRegression\n",
    "from sklearn.neighbors import KNeighborsClassifier\n",
    "from sklearn.preprocessing import StandardScaler\n",
    "from sklearn.pipeline import make_pipeline"
   ]
  },
  {
   "attachments": {},
   "cell_type": "markdown",
   "metadata": {},
   "source": [
    "#### Import csv file"
   ]
  },
  {
   "cell_type": "code",
   "execution_count": 4,
   "metadata": {},
   "outputs": [],
   "source": [
    "# todo: i forgor what the exact file is called, update this\n",
    "CHESS_DATA_LOCATION = \"data/club_games_data.csv\"\n",
    "# MOVIES_DATA_LOCATION = \"data/movies.csv\"\n",
    "\n",
    "# load csv into a big dataframe\n",
    "chess_data = pd.read_csv(CHESS_DATA_LOCATION)\n",
    "# print(chess.head())"
   ]
  },
  {
   "cell_type": "code",
   "execution_count": 5,
   "metadata": {},
   "outputs": [
    {
     "name": "stdout",
     "output_type": "stream",
     "text": [
      "white_username    object\n",
      "black_username    object\n",
      "white_id          object\n",
      "black_id          object\n",
      "white_rating       int64\n",
      "black_rating       int64\n",
      "white_result      object\n",
      "black_result      object\n",
      "time_class        object\n",
      "time_control      object\n",
      "rules             object\n",
      "rated               bool\n",
      "fen               object\n",
      "pgn               object\n",
      "dtype: object\n"
     ]
    }
   ],
   "source": [
    "print(chess_data.dtypes)\n",
    "# print(chess[\"rules\"].unique())\n",
    "# ['chess' 'chess960' 'threecheck' 'crazyhouse' 'kingofthehill']\n",
    "# dunno if we should filter by chess only\n",
    "\n",
    "# time control\n",
    "#['1/259200' '1/172800' '1800' '1/86400' '1/432000' '1/604800' '600'\n",
    "#  '120+1' '900+10' '300' '180+2' '3600+5' '2700+45' '3600' '1/1209600'\n",
    "#  '180' '600+10' '60' '480+3' '300+5' '420+3' '600+5' '600+2' '1200' '30'\n",
    "#  '60+1' '120' '1500+3' '900+2' '1500+5' '1500+10' '1/864000' '900' '300+2'\n",
    "#  '1500' '7200' '300+1' '5400' '3600+60' '2700+30' '3480+45' '10' '2700+10'\n",
    "#  '15' '2700' '3600+20' '4500' '4200' '900+5' '1800+10' '2700+5' '480+5'\n",
    "#  '1800+30' '300+3' '600+1' '1800+5' '420+5' '5400+30' '240+10' '420' '303'\n",
    "#  '60+10']\n",
    "# so many types of time control -_-\n",
    "\n",
    "# time class\n",
    "# ['daily' 'rapid' 'bullet' 'blitz']"
   ]
  },
  {
   "attachments": {},
   "cell_type": "markdown",
   "metadata": {},
   "source": [
    "#### Clean data\n",
    "Filter out NaN\n",
    "Lila come back here, can't think of anything else for now"
   ]
  },
  {
   "cell_type": "code",
   "execution_count": 6,
   "metadata": {},
   "outputs": [],
   "source": [
    "# Drops rows if any value is a NaN\n",
    "# chess_data.dropna(axis = 0, how = 'any')\n",
    "# filter out alternative rulese like chess960 etc\n",
    "chess_data = chess_data[chess_data['rules'] == \"chess\"]\n",
    "# remove any game that starts with rnbqkbnr cos that shows the game barely developed\n",
    "chess_data = chess_data[~chess_data['fen'].str.startswith(\"rnbqkbnr/\")]\n",
    "\n",
    "chess_data = chess_data[~(chess_data['white_result'] == chess_data['black_result'])]\n",
    "chess_data = chess_data.reset_index(drop=True)"
   ]
  },
  {
   "attachments": {},
   "cell_type": "markdown",
   "metadata": {},
   "source": [
    "#### Get pgn from last column - can we import things for this?\n",
    "Idk if it works yet cos am not actually using the file\n",
    "Lila come back to this\n",
    "\n",
    "Lila see if can do by getting to '] {new line} 1. ' in one swoop, instead of finding '[Link ' then '1. '"
   ]
  },
  {
   "cell_type": "code",
   "execution_count": 7,
   "metadata": {},
   "outputs": [
    {
     "name": "stdout",
     "output_type": "stream",
     "text": [
      "1. d4 {[%clk 0:10:00]} 1... e6 {[%clk 0:09:22.2]} 2. c4 {[%clk 0:09:58.5]} 2... c5 {[%clk 0:09:18.8]} 3. d5 {[%clk 0:09:55.1]} 3... Nf6 {[%clk 0:09:14.3]} 4. Nc3 {[%clk 0:09:51.3]} 4... a6 {[%clk 0:09:09.2]} 5. Bg5 {[%clk 0:09:48.9]} 5... h6 {[%clk 0:09:07.6]} 6. Bh4 {[%clk 0:09:45.9]} 6... Be7 {[%clk 0:09:07.5]} 7. dxe6 {[%clk 0:09:40.4]} 7... fxe6 {[%clk 0:09:06.5]} 8. e4 {[%clk 0:09:36.2]} 8... O-O {[%clk 0:09:03.1]} 9. Be2 {[%clk 0:09:29.9]} 9... Nc6 {[%clk 0:08:50.9]} 10. Nf3 {[%clk 0:09:26.4]} 10... b6 {[%clk 0:08:41.2]} 11. a3 {[%clk 0:09:22.4]} 11... Bb7 {[%clk 0:08:40.7]} 12. Qc2 {[%clk 0:09:18.3]} 12... d6 {[%clk 0:08:34.3]} 13. O-O {[%clk 0:09:16.1]} 13... e5 {[%clk 0:08:32.7]} 14. Qd2 {[%clk 0:09:08.9]} 14... Nd4 {[%clk 0:08:22]} 15. Nxd4 {[%clk 0:09:06.6]} 15... exd4 {[%clk 0:08:20.8]} 16. Nb1 {[%clk 0:08:54.3]} 16... Nxe4 {[%clk 0:08:20.5]} 17. Qd3 {[%clk 0:08:50.9]} 17... Bxh4 {[%clk 0:08:05.8]} 18. Bf3 {[%clk 0:08:48.7]} 18... Nxf2 {[%clk 0:07:56.4]} 19. Rxf2 {[%clk 0:08:46.8]} 19... Bxf2+ {[%clk 0:07:54.7]} 20. Kxf2 {[%clk 0:08:46.2]} 20... Bxf3 {[%clk 0:07:54.6]} 21. gxf3 {[%clk 0:08:43.3]} 21... Qf6 {[%clk 0:07:51.3]} 22. Nd2 {[%clk 0:08:41.4]} 22... Rf7 {[%clk 0:07:49.2]} 23. Rf1 {[%clk 0:08:37.6]} 23... Qh4+ {[%clk 0:07:44.6]} 24. Ke2 {[%clk 0:08:32.6]} 24... Qxh2+ {[%clk 0:07:42.1]} 25. Kd1 {[%clk 0:08:31.4]} 25... Re8 {[%clk 0:07:34.2]} 26. b3 {[%clk 0:08:05.4]} 26... Rfe7 {[%clk 0:07:26.5]} 27. Ne4 {[%clk 0:08:00.5]} 27... Re6 {[%clk 0:06:57.3]} 28. Rf2 {[%clk 0:07:36.2]} 28... Qe5 {[%clk 0:06:34.9]} 29. Re2 {[%clk 0:07:31.2]} 29... d5 {[%clk 0:06:28.9]} 30. cxd5 {[%clk 0:07:29.2]} 30... Qxd5 {[%clk 0:06:27.3]} 31. Kd2 {[%clk 0:07:16.5]} 31... b5 {[%clk 0:06:20.1]} 32. Kc2 {[%clk 0:07:13.2]} 32... c4 {[%clk 0:06:18.4]} 33. bxc4 {[%clk 0:07:11.3]} 33... bxc4 {[%clk 0:06:16.7]} 34. Qd1 {[%clk 0:06:49.4]} 34... d3+ {[%clk 0:06:16.6]} 35. Kc3 {[%clk 0:06:46.2]} 35... dxe2 {[%clk 0:06:06.1]} 36. Qxd5 {[%clk 0:06:44.5]} 36... e1=Q+ {[%clk 0:06:04.7]} 37. Kxc4 {[%clk 0:06:43.2]} 37... Rc8+ {[%clk 0:06:00.5]} 38. Kd4 {[%clk 0:06:41.5]} 38... Qd1+ {[%clk 0:05:45.8]} 39. Ke3 {[%clk 0:06:37.2]} 39... Rc3+ {[%clk 0:05:43.3]} 40. Kf4 {[%clk 0:06:35.3]} 40... Qxf3# {[%clk 0:05:33]} 0-1\n"
     ]
    }
   ],
   "source": [
    "# Save pgn column from dataframe\n",
    "full_pgn = chess_data['pgn']\n",
    "\n",
    "def get_moves(entry):\n",
    "    '''\n",
    "    Retrive series of moves in a game when given the whole full_pgn entry\n",
    "    '''\n",
    "    # # Find last occurrence of ']' in each full_pgn entry\n",
    "    # link_bracket = entry.rindex('[Link ')\n",
    "\n",
    "    # # Cut non-move info of full_pgn\n",
    "    # pgn = full_pgn[link_bracket ::]\n",
    "\n",
    "    # # Find first occurrence of '1. ', signifying first move, in each full_pgn entry\n",
    "    # first_move_index = pgn.rindex('1. ')\n",
    "\n",
    "\n",
    "    # pgn is just a string \"separated\" by newlines so turn into an array, and pgn is\n",
    "    # always the final entry in the array. though turning into array may not be the most\n",
    "    # efficient maybe? not sure tho  - leon\n",
    "    pgn = entry.splitlines()[-1]\n",
    "    return pgn\n",
    "\n",
    "chess_data['move_list'] = full_pgn.apply(get_moves)\n",
    "print(chess_data['move_list'][134])\n",
    "# get_moves(full_pgn[0])\n",
    "# ouput: '1. d4 Nf6 2. c4 e6 3. Nc3 Bb4 4. Qb3 Bxc3+ 5. Qxc3 O-O 6. Bg5 c5 7. dxc5 Nc6 8. Nf3 Qa5 9. Bxf6 gxf6 10. Qxa5 Nxa5 11. e3 Rd8 12. Rd1 Kg7 13. Be2 b6 14. Rd4 bxc5 15. Rg4+ Kh6 16. Bd3 f5 17. Rh4+ Kg6 18. g4 Ba6 19. gxf5+ exf5 20. Ne5+ Kf6 21. Rh6+ Kxe5 22. f4# 1-0'"
   ]
  },
  {
   "attachments": {},
   "cell_type": "markdown",
   "metadata": {},
   "source": [
    "#### Import chess info\n",
    "https://python-chess.readthedocs.io/en/latest/core.html#chess.Board.san\n",
    "\n",
    "\n",
    "#### En Passant functions\n",
    "- has_legal_en_passant() tests if en passant capturing would actually be possible on the next move.\n",
    "- has_pseudo_legal_en_passant()\n",
    "- has_legal_en_passant()\n",
    "- is_en_passant(move: Move) Checks if the given pseudo-legal move is an en passant capture.\n",
    "\n",
    "\n",
    "\n",
    "\n",
    "Use StringIO to parse games from a string. Lila Use this to apply the en passant functions to for each game???\n",
    "\n",
    "```python\n",
    "import io\n",
    "pgn = io.StringIO(\"1. e4 e5 2. Nf3 *\")\n",
    "game = chess.pgn.read_game(pgn)\n",
    "```"
   ]
  },
  {
   "cell_type": "raw",
   "metadata": {},
   "source": [
    "# chess testing\n",
    "fen = \"6k1/6p1/p3r2p/3Q4/4NK2/P1r2q2/8/8 w - -\"\n",
    "board = chess.Board(fen)\n",
    "# print(board)\n",
    "\n",
    "pgntext = \"1. d4 d5 2. e3 c6 3. c4 dxc4 4. Bxc4 b5 5. Bb3 a5 6. Qf3 Bb7 7. Bxf7+ Kd7 8. Qf5+ Kc7 9. Nf3 Nh6 10. Qe5+ Kb6 11. a4 bxa4 12. Nc3 Ng4 13. Nxa4+ Ka6 14. Bc4+ Ka7 15. Qc5+ 1-0\"\n",
    "\n",
    "pgn_en = \"1. e4 h5 2. e5 f5 3. exf6 b5\"\n",
    "\n",
    "pgn_en2 = \"1. d4 h5 2. d5 e5 3. h3\"\n",
    "\n",
    "# pgn = io.StringIO(chess_data['pgn'][134])\n",
    "pgn = io.StringIO(pgn_en)\n",
    "game = chess.pgn.read_game(pgn)\n",
    "board = game.board()\n",
    "\n",
    "# print(game)\n",
    "\n",
    "check = False\n",
    "\n",
    "def check_pgn(pgn_in, check_actual_ep):\n",
    "    '''\n",
    "    \n",
    "    check_actual_ep is True if you want to know whether ep was a move\n",
    "    Is False if you are just checking whether it could happen at any point\n",
    "    '''\n",
    "    pgn = io.StringIO(pgn_in)       # PGN as a file\n",
    "    game = chess.pgn.read_game(pgn) # Read PGN and put into game\n",
    "    board = game.board()            # \"board\" of a game\n",
    "    \n",
    "    precheck = False                # is en passant possible\n",
    "    moved = False                   # was en passant moved?\n",
    "    for move in game.mainline_moves():\n",
    "        # B bishop Q queen K king N knight R rook O castle ELSE pawn\n",
    "        # print(move)\n",
    "        turn = board.turn\n",
    "        san = board.san(move)\n",
    "        move_piece = san[0]\n",
    "        # print(move_piece)\n",
    "        match move_piece:\n",
    "            case \"K\":\n",
    "                board.push(move)\n",
    "                continue\n",
    "                # print(\"king\")\n",
    "            case \"Q\":\n",
    "                board.push(move)\n",
    "                continue\n",
    "                # print(\"queen\")\n",
    "            case \"B\":\n",
    "                board.push(move)\n",
    "                continue\n",
    "                # print(\"bishop\")\n",
    "            case \"N\":\n",
    "                board.push(move)\n",
    "                continue\n",
    "                # print(\"knight\")\n",
    "            case \"R\":\n",
    "                board.push(move)\n",
    "                continue\n",
    "                # print(\"rook\")\n",
    "            case \"O\":\n",
    "                board.push(move)\n",
    "                continue\n",
    "                # print(\"castled\")\n",
    "            case _: # pawn\n",
    "                # if we are checking for actual e.p. moves\n",
    "                if (check_actual_ep):\n",
    "                    moved = board.is_en_passant(move)\n",
    "                    board.push(move)\n",
    "                # if we are only checking for e.p. opportunity\n",
    "                else:\n",
    "                    # push the move before checking the board\n",
    "                    board.push(move)\n",
    "                    precheck = board.has_legal_en_passant()\n",
    "                # if a condition is true return True\n",
    "                if moved:\n",
    "                    return [True, turn]\n",
    "                if precheck:\n",
    "                    return [True, not(turn)]\n",
    "    # if ran through every move without true then return False\n",
    "    return [False, \"\"]\n",
    "\n",
    "# create new series\n",
    "ep = [False] * len(chess_data)\n",
    "ep_series = pd.Series(ep)\n",
    "\n",
    "turn = [\"\"] * len(chess_data)\n",
    "ep_turn = pd.Series(turn)\n",
    "\n",
    "print(check_pgn(pgn_en2, True))\n",
    "# true is white\n",
    "\n",
    "# for each game in chess_data\n",
    "for i in range(len(chess_data)):\n",
    "    # check if there is e.p. opportunity and store in series if yes\n",
    "    checkpgn = check_pgn(chess_data['pgn'][i], False)\n",
    "    if (checkpgn[0] == True):\n",
    "        ep_series[i] = True\n",
    "        if (checkpgn[1] == True):\n",
    "            ep_turn[i] = \"White\"\n",
    "        else:\n",
    "            ep_turn[i] = \"Black\"\n",
    "\n",
    "# append series to main dataframe\n",
    "chess_data['en_passant'] = ep_series\n",
    "chess_data['ep_turn'] = ep_turn"
   ]
  },
  {
   "cell_type": "raw",
   "metadata": {},
   "source": [
    "# new series\n",
    "ep_acted = pd.Series(ep)\n",
    "\n",
    "# for each in chess data\n",
    "for i in range(len(chess_data)):\n",
    "    # if there is e.p. opportunity, check if the player acted on it store if yes\n",
    "    if (chess_data['en_passant'][i] == True and check_pgn(chess_data['pgn'][i], True)):\n",
    "        ep_acted[i] = True\n",
    "\n",
    "# append series to main dataframe\n",
    "chess_data['ep_acted'] = ep_acted"
   ]
  },
  {
   "cell_type": "raw",
   "metadata": {},
   "source": [
    "print(\"number of E.P. opportunities:\")\n",
    "print(len(chess_data[chess_data['en_passant'] == True]))\n",
    "print(\"number of E.P. moves\")\n",
    "print(len(chess_data[chess_data['ep_acted'] == True]))"
   ]
  },
  {
   "attachments": {},
   "cell_type": "markdown",
   "metadata": {},
   "source": [
    "### Number of games with at least 1 possible en-passant move:\n",
    "## 4750\n",
    "(maybe 4913 or even 4945)\n",
    "\n",
    "### Number of games with an actual en-passant move:\n",
    "## 1566"
   ]
  },
  {
   "cell_type": "code",
   "execution_count": 43,
   "metadata": {},
   "outputs": [
    {
     "name": "stdout",
     "output_type": "stream",
     "text": [
      "Beta 0: 0.07551271047259894, Beta 1: 0.01021420661632921\n"
     ]
    },
    {
     "data": {
      "text/plain": [
       "Text(0, 0.5, 'Win probability')"
      ]
     },
     "execution_count": 43,
     "metadata": {},
     "output_type": "execute_result"
    },
    {
     "data": {
      "image/png": "[encoded data removed]",
      "text/plain": [
       "<Figure size 1200x600 with 1 Axes>"
      ]
     },
     "metadata": {},
     "output_type": "display_data"
    }
   ],
   "source": [
    "# chess_data\n",
    "\n",
    "# empty wins and ELO difference array\n",
    "wins = []\n",
    "diffs = []\n",
    "\n",
    "for i in range(len(chess_data)):\n",
    "    # get the ratings of each and the results\n",
    "    white = chess_data[\"white_rating\"][i]\n",
    "    black = chess_data[\"black_rating\"][i]\n",
    "    result = chess_data[\"white_result\"][i]\n",
    "\n",
    "    # find ELO mismatch size\n",
    "    diff = white - black\n",
    "    # if white wins then append 1\n",
    "    if (result == \"win\"):    \n",
    "        wins.append(1)\n",
    "    # if black wins then append 0\n",
    "    else:\n",
    "        wins.append(0)\n",
    "    # append the elo mismatch\n",
    "    diffs.append(diff)\n",
    "\n",
    "# set to numpy array to be able to do logistic regression\n",
    "np_diffs = np.array(diffs).reshape(-1,1)\n",
    "np_wins = np.array(wins)\n",
    "\n",
    "# fit logistic regression\n",
    "model = LogisticRegression().fit(np_diffs, np_wins)\n",
    "beta0 = model.intercept_[0]\n",
    "beta1 = model.coef_[0][0]\n",
    "print(\"Beta 0: \" + str(beta0) + \", Beta 1: \" + str(beta1))\n",
    "\n",
    "fig, ax1 = plt.subplots(figsize=(12,6))\n",
    "# binary scatter plot\n",
    "ax1.scatter(diffs, wins)\n",
    "\n",
    "# np.arange for the range of values in the difference of ELO\n",
    "x = np.arange(np_diffs.min(), np_diffs.max(), 0.1)\n",
    "ax1.axvline(x = 0, color=\"gray\", linestyle=\"dashed\")\n",
    "\n",
    "# plot logistic regresion estimator\n",
    "ax1.plot(x, model.predict_proba(np.reshape(x, (-1, 1)))[:,1], color=\"red\")\n",
    "ax1.set_title(\"Logistic Regression of ELO gap on win rates\", fontsize=18)\n",
    "ax1.set_xlabel(\"ELO mismatch size\")\n",
    "ax1.set_ylabel(\"Win probability\")"
   ]
  }
 ],
 "metadata": {
  "kernelspec": {
   "display_name": "Python 3.10.0 64-bit",
   "language": "python",
   "name": "python3"
  },
  "language_info": {
   "codemirror_mode": {
    "name": "ipython",
    "version": 3
   },
   "file_extension": ".py",
   "mimetype": "text/x-python",
   "name": "python",
   "nbconvert_exporter": "python",
   "pygments_lexer": "ipython3",
   "version": "3.10.0"
  },
  "orig_nbformat": 4,
  "vscode": {
   "interpreter": {
    "hash": "9112fe3e2dae33b69188b1195510ef537e931a9b15228f951e97333c147361b1"
   }
  }
 },
 "nbformat": 4,
 "nbformat_minor": 2
}
