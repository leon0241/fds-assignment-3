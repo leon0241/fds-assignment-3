{
 "cells": [
  {
   "attachments": {},
   "cell_type": "markdown",
   "metadata": {},
   "source": [
    "## Assignment 3"
   ]
  },
  {
   "attachments": {},
   "cell_type": "markdown",
   "metadata": {},
   "source": [
    "#### Import Required libraries"
   ]
  },
  {
   "cell_type": "code",
   "execution_count": 2,
   "metadata": {},
   "outputs": [],
   "source": [
    "import os\n",
    "import matplotlib as mpl\n",
    "import numpy as np\n",
    "import pandas as pd"
   ]
  },
  {
   "attachments": {},
   "cell_type": "markdown",
   "metadata": {},
   "source": [
    "#### Import csv file"
   ]
  },
  {
   "cell_type": "code",
   "execution_count": null,
   "metadata": {},
   "outputs": [],
   "source": [
    "# todo: i forgor what the exact file is called, update this\n",
    "CHESS_DATA_LOCATION = \"data/chess.csv\"\n",
    "MOVIES_DATA_LOCATION = \"data/movies.csv\"\n",
    "\n",
    "# yada yada os import csv files\n"
   ]
  },
  {
   "attachments": {},
   "cell_type": "markdown",
   "metadata": {},
   "source": [
    "#### Clean data\n",
    "Filter out NaN\n",
    "Lila come back here, can't think of anything else for now"
   ]
  },
  {
   "cell_type": "code",
   "execution_count": null,
   "metadata": {},
   "outputs": [],
   "source": [
    "# Drops rows if any value is a NaN\n",
    "chess.dropna(axis = 0, how = 'any')"
   ]
  },
  {
   "attachments": {},
   "cell_type": "markdown",
   "metadata": {},
   "source": [
    "#### Get pgn from last column - can we import things for this?\n",
    "Idk if it works yet cos am not actually using the file\n",
    "Lila come back to this\n",
    "\n",
    "Lila see if can do by getting to '] {new line} 1. ' in one swoop, instead of finding '[Link ' then '1. '"
   ]
  },
  {
   "cell_type": "code",
   "execution_count": null,
   "metadata": {},
   "outputs": [],
   "source": [
    "# Save pgn column from dataframe\n",
    "full_pgn = chess['pgn']\n",
    "\n",
    "\n",
    "\n",
    "\n",
    "def get_moves(entry):\n",
    "    '''\n",
    "    Retrive series of moves in a game when given the whole full_pgn entry\n",
    "    '''\n",
    "    # Find last occurrence of ']' in each full_pgn entry\n",
    "    link_bracket = entry.rindex('[Link ')\n",
    "\n",
    "    # Cut non-move info of full_pgn\n",
    "    pgn = full_pgn[link_bracket ::]\n",
    "\n",
    "    # Find first occurrence of '1. ', signifying first move, in each full_pgn entry\n",
    "    first_move_index = pgn.rindex('1. ')\n",
    "    pgn = full_pgn[first_move_index ::]\n",
    "    return pgn"
   ]
  },
  {
   "attachments": {},
   "cell_type": "markdown",
   "metadata": {},
   "source": [
    "#### Import chess info\n",
    "https://python-chess.readthedocs.io/en/latest/core.html#chess.Board.san\n",
    "\n",
    "\n",
    "#### En Passant functions\n",
    "- has_legal_en_passant() tests if en passant capturing would actually be possible on the next move.\n",
    "- has_pseudo_legal_en_passant()\n",
    "- has_legal_en_passant()\n",
    "- is_en_passant(move: Move) Checks if the given pseudo-legal move is an en passant capture.\n",
    "\n",
    "\n",
    "\n",
    "\n",
    "Use StringIO to parse games from a string. Lila Use this to apply the en passant functions to for each game???\n",
    "\n",
    ">>> import io\n",
    ">>>\n",
    ">>> pgn = io.StringIO(\"1. e4 e5 2. Nf3 *\")\n",
    ">>> game = chess.pgn.read_game(pgn)"
   ]
  }
 ],
 "metadata": {
  "kernelspec": {
   "display_name": "Python 3",
   "language": "python",
   "name": "python3"
  },
  "language_info": {
   "codemirror_mode": {
    "name": "ipython",
    "version": 3
   },
   "file_extension": ".py",
   "mimetype": "text/x-python",
   "name": "python",
   "nbconvert_exporter": "python",
   "pygments_lexer": "ipython3",
   "version": "3.10.4"
  },
  "orig_nbformat": 4
 },
 "nbformat": 4,
 "nbformat_minor": 2
}
