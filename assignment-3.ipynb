{
 "cells": [
  {
   "attachments": {},
   "cell_type": "markdown",
   "metadata": {},
   "source": [
    "## Assignment 3"
   ]
  },
  {
   "attachments": {},
   "cell_type": "markdown",
   "metadata": {},
   "source": [
    "#### Import Required libraries"
   ]
  },
  {
   "cell_type": "code",
   "execution_count": 49,
   "metadata": {},
   "outputs": [],
   "source": [
    "import os\n",
    "import matplotlib as mpl\n",
    "import numpy as np\n",
    "import pandas as pd\n",
    "import csv\n",
    "import chess\n",
    "import chess.pgn\n",
    "import io\n",
    "import re"
   ]
  },
  {
   "attachments": {},
   "cell_type": "markdown",
   "metadata": {},
   "source": [
    "#### Import csv file"
   ]
  },
  {
   "cell_type": "code",
   "execution_count": 50,
   "metadata": {},
   "outputs": [],
   "source": [
    "# todo: i forgor what the exact file is called, update this\n",
    "CHESS_DATA_LOCATION = \"data/club_games_data.csv\"\n",
    "# MOVIES_DATA_LOCATION = \"data/movies.csv\"\n",
    "\n",
    "# load csv into a big dataframe\n",
    "chess_data = pd.read_csv(CHESS_DATA_LOCATION)\n",
    "# print(chess.head())"
   ]
  },
  {
   "cell_type": "code",
   "execution_count": 51,
   "metadata": {},
   "outputs": [
    {
     "name": "stdout",
     "output_type": "stream",
     "text": [
      "white_username    object\n",
      "black_username    object\n",
      "white_id          object\n",
      "black_id          object\n",
      "white_rating       int64\n",
      "black_rating       int64\n",
      "white_result      object\n",
      "black_result      object\n",
      "time_class        object\n",
      "time_control      object\n",
      "rules             object\n",
      "rated               bool\n",
      "fen               object\n",
      "pgn               object\n",
      "dtype: object\n"
     ]
    }
   ],
   "source": [
    "print(chess_data.dtypes)\n",
    "# print(chess[\"rules\"].unique())\n",
    "# ['chess' 'chess960' 'threecheck' 'crazyhouse' 'kingofthehill']\n",
    "# dunno if we should filter by chess only\n",
    "\n",
    "# time control\n",
    "#['1/259200' '1/172800' '1800' '1/86400' '1/432000' '1/604800' '600'\n",
    "#  '120+1' '900+10' '300' '180+2' '3600+5' '2700+45' '3600' '1/1209600'\n",
    "#  '180' '600+10' '60' '480+3' '300+5' '420+3' '600+5' '600+2' '1200' '30'\n",
    "#  '60+1' '120' '1500+3' '900+2' '1500+5' '1500+10' '1/864000' '900' '300+2'\n",
    "#  '1500' '7200' '300+1' '5400' '3600+60' '2700+30' '3480+45' '10' '2700+10'\n",
    "#  '15' '2700' '3600+20' '4500' '4200' '900+5' '1800+10' '2700+5' '480+5'\n",
    "#  '1800+30' '300+3' '600+1' '1800+5' '420+5' '5400+30' '240+10' '420' '303'\n",
    "#  '60+10']\n",
    "# so many types of time control -_-\n",
    "\n",
    "# time class\n",
    "# ['daily' 'rapid' 'bullet' 'blitz']"
   ]
  },
  {
   "attachments": {},
   "cell_type": "markdown",
   "metadata": {},
   "source": [
    "#### Clean data\n",
    "Filter out NaN\n",
    "Lila come back here, can't think of anything else for now"
   ]
  },
  {
   "cell_type": "code",
   "execution_count": 65,
   "metadata": {},
   "outputs": [
    {
     "name": "stdout",
     "output_type": "stream",
     "text": [
      "64418\n"
     ]
    }
   ],
   "source": [
    "# Drops rows if any value is a NaN\n",
    "chess_data.dropna(axis = 0, how = 'any')\n",
    "\n",
    "# filter out alternative rulese like chess960 etc\n",
    "chess_data = chess_data[chess_data['rules'] == \"chess\"]\n",
    "# remove any game that starts with rnbqkbnr cos that shows the game barely developed\n",
    "chess_data = chess_data[~chess_data['fen'].str.startswith(\"rnbqkbnr/\")]\n",
    "chess_data = chess_data.reset_index()\n",
    "print(len(chess_data))"
   ]
  },
  {
   "attachments": {},
   "cell_type": "markdown",
   "metadata": {},
   "source": [
    "#### Get pgn from last column - can we import things for this?\n",
    "Idk if it works yet cos am not actually using the file\n",
    "Lila come back to this\n",
    "\n",
    "Lila see if can do by getting to '] {new line} 1. ' in one swoop, instead of finding '[Link ' then '1. '"
   ]
  },
  {
   "cell_type": "code",
   "execution_count": 53,
   "metadata": {},
   "outputs": [
    {
     "name": "stdout",
     "output_type": "stream",
     "text": [
      "1. d4 {[%clk 0:09:48]} 1... Nf6 {[%clk 0:09:58.3]} 2. Nc3 {[%clk 0:09:45.4]} 2... d5 {[%clk 0:09:57.2]} 3. e4 {[%clk 0:09:44.5]} 3... dxe4 {[%clk 0:09:55.3]} 4. f3 {[%clk 0:09:43.5]} 4... Nc6 {[%clk 0:09:45.5]} 5. fxe4 {[%clk 0:09:37]} 5... Qxd4 {[%clk 0:09:42.5]} 6. Qxd4 {[%clk 0:09:34]} 6... Nxd4 {[%clk 0:09:41.5]} 7. Bb5+ {[%clk 0:09:21.6]} 7... c6 {[%clk 0:09:37.4]} 8. Ba4 {[%clk 0:09:20.6]} 8... b5 {[%clk 0:09:35.6]} 9. Bb3 {[%clk 0:09:19.2]} 9... b4 {[%clk 0:09:32.9]} 10. Na4 {[%clk 0:09:10.2]} 10... e5 {[%clk 0:09:24.7]} 11. Be3 {[%clk 0:09:05.3]} 11... Nxb3 {[%clk 0:09:12.3]} 12. cxb3 {[%clk 0:08:56.7]} 12... Nxe4 {[%clk 0:09:10.4]} 13. Nf3 {[%clk 0:08:48.1]} 13... Bg4 {[%clk 0:09:00.7]} 14. O-O {[%clk 0:08:45.3]} 14... Be7 {[%clk 0:08:54.4]} 15. Nxe5 {[%clk 0:08:40.4]} 15... Be2 {[%clk 0:08:41.1]} 16. Rxf7 {[%clk 0:08:25.6]} 16... Bf6 {[%clk 0:08:20.3]} 17. Bf4 {[%clk 0:08:01.1]} 17... Bxe5 {[%clk 0:08:17.8]} 18. Rf5 {[%clk 0:07:50.3]} 18... Bd4+ {[%clk 0:08:04.6]} 19. Kh1 {[%clk 0:07:42]} 19... Nf2+ {[%clk 0:07:57.7]} 20. Kg1 {[%clk 0:07:39.7]} 20... Ng4+ {[%clk 0:07:46.3]} 21. Kh1 {[%clk 0:07:36.6]} 21... Nf6 {[%clk 0:07:02.3]} 22. Re1 {[%clk 0:07:23]} 22... O-O {[%clk 0:06:52.1]} 23. Rxe2 {[%clk 0:07:12.6]} 23... Rae8 {[%clk 0:06:48.7]} 24. Rxe8 {[%clk 0:06:56]} 24... Rxe8 {[%clk 0:06:47.2]} 25. h3 {[%clk 0:06:52.7]} 25... Re1+ {[%clk 0:06:15.5]} 26. Kh2 {[%clk 0:06:50.5]} 26... Ra1 {[%clk 0:06:14.2]} 27. Be5 {[%clk 0:06:07]} 27... Bg1+ {[%clk 0:05:57.8]} 28. Kg3 {[%clk 0:06:02]} 28... Ne4+ {[%clk 0:05:55.5]} 29. Kf4 {[%clk 0:05:52.7]} 29... g6 {[%clk 0:05:26.4]} 30. Rh5 {[%clk 0:04:33.2]} 30... gxh5 {[%clk 0:05:05.6]} 31. Kxe4 {[%clk 0:04:30.4]} 31... Re1+ {[%clk 0:05:00]} 32. Kf5 {[%clk 0:04:22.4]} 32... Re2 {[%clk 0:04:54.1]} 33. g3 {[%clk 0:03:57.5]} 33... h6 {[%clk 0:04:09.9]} 34. h4 {[%clk 0:03:53.3]} 34... Kf7 {[%clk 0:03:57.8]} 35. Bd6 {[%clk 0:03:32.5]} 35... Rd2 {[%clk 0:03:41.2]} 36. Bxb4 {[%clk 0:03:22.2]} 36... Rd5+ {[%clk 0:03:27.6]} 37. Ke4 {[%clk 0:03:19.4]} 37... Bf2 {[%clk 0:03:18.9]} 38. Kf3 {[%clk 0:03:15.1]} 38... Bg1 {[%clk 0:03:12.2]} 39. Nc3 {[%clk 0:03:12.8]} 39... Rd2 {[%clk 0:03:04.4]} 40. Ne4 {[%clk 0:02:39.4]} 40... Rxb2 {[%clk 0:02:57.3]} 41. Nd6+ {[%clk 0:02:25.9]} 41... Kg6 {[%clk 0:02:45.6]} 42. Bc5 {[%clk 0:02:12.5]} 42... Bxc5 {[%clk 0:02:42.3]} 43. Ne4 {[%clk 0:02:09]} 43... Bb6 {[%clk 0:02:35.5]} 44. Nc3 {[%clk 0:02:05.3]} 44... Ba5 {[%clk 0:02:32.1]} 45. Na4 {[%clk 0:01:59.4]} 45... Rxa2 {[%clk 0:02:30.1]} 46. Nc5 {[%clk 0:01:53.2]} 46... Rc2 {[%clk 0:02:20.2]} 47. Ne6 {[%clk 0:01:47.6]} 47... Rc3+ {[%clk 0:02:14.7]} 48. Kf2 {[%clk 0:01:46.3]} 48... Rxb3 {[%clk 0:02:12.5]} 49. Nf4+ {[%clk 0:01:44.2]} 49... Kf5 {[%clk 0:02:06.2]} 50. Nxh5 {[%clk 0:01:42.9]} 50... Bb6+ {[%clk 0:02:02.4]} 51. Ke2 {[%clk 0:01:40.9]} 51... a5 {[%clk 0:01:59.7]} 52. Ng7+ {[%clk 0:01:34.7]} 52... Kg4 {[%clk 0:01:56.8]} 53. Ne6 {[%clk 0:01:29.6]} 53... Kxg3 {[%clk 0:01:50.5]} 54. h5 {[%clk 0:01:25.5]} 54... Kg4 {[%clk 0:01:46.7]} 55. Kf1 {[%clk 0:01:16.4]} 55... Kxh5 {[%clk 0:01:42.1]} 56. Ke2 {[%clk 0:01:15.3]} 56... Kg4 {[%clk 0:01:37.5]} 57. Kd2 {[%clk 0:01:13.8]} 57... h5 {[%clk 0:01:35.5]} 58. Ke2 {[%clk 0:01:11.7]} 58... h4 {[%clk 0:01:34.1]} 59. Kf1 {[%clk 0:01:11]} 59... h3 {[%clk 0:01:32.8]} 60. Nd8 {[%clk 0:00:58.1]} 60... Bxd8 {[%clk 0:01:30.4]} 61. Kg1 {[%clk 0:00:56.3]} 61... a4 {[%clk 0:01:29.2]} 62. Kh2 {[%clk 0:00:55.3]} 62... Rb2+ {[%clk 0:01:27.2]} 63. Kh1 {[%clk 0:00:54.2]} 63... a3 {[%clk 0:01:26.3]} 64. Kg1 {[%clk 0:00:52]} 64... a2 {[%clk 0:01:25.7]} 65. Kh1 {[%clk 0:00:49.9]} 65... a1=R# {[%clk 0:01:23.7]} 0-1\n"
     ]
    }
   ],
   "source": [
    "# Save pgn column from dataframe\n",
    "full_pgn = chess_data['pgn']\n",
    "\n",
    "def get_moves(entry):\n",
    "    '''\n",
    "    Retrive series of moves in a game when given the whole full_pgn entry\n",
    "    '''\n",
    "    # # Find last occurrence of ']' in each full_pgn entry\n",
    "    # link_bracket = entry.rindex('[Link ')\n",
    "\n",
    "    # # Cut non-move info of full_pgn\n",
    "    # pgn = full_pgn[link_bracket ::]\n",
    "\n",
    "    # # Find first occurrence of '1. ', signifying first move, in each full_pgn entry\n",
    "    # first_move_index = pgn.rindex('1. ')\n",
    "\n",
    "\n",
    "    # pgn is just a string \"separated\" by newlines so turn into an array, and pgn is\n",
    "    # always the final entry in the array. though turning into array may not be the most\n",
    "    # efficient maybe? not sure tho  - leon\n",
    "    pgn = entry.splitlines()[-1]\n",
    "    return pgn\n",
    "\n",
    "chess_data['move_list'] = full_pgn.apply(get_moves)\n",
    "print(chess_data['move_list'][134])\n",
    "# get_moves(full_pgn[0])\n",
    "# ouput: '1. d4 Nf6 2. c4 e6 3. Nc3 Bb4 4. Qb3 Bxc3+ 5. Qxc3 O-O 6. Bg5 c5 7. dxc5 Nc6 8. Nf3 Qa5 9. Bxf6 gxf6 10. Qxa5 Nxa5 11. e3 Rd8 12. Rd1 Kg7 13. Be2 b6 14. Rd4 bxc5 15. Rg4+ Kh6 16. Bd3 f5 17. Rh4+ Kg6 18. g4 Ba6 19. gxf5+ exf5 20. Ne5+ Kf6 21. Rh6+ Kxe5 22. f4# 1-0'"
   ]
  },
  {
   "attachments": {},
   "cell_type": "markdown",
   "metadata": {},
   "source": [
    "#### Import chess info\n",
    "https://python-chess.readthedocs.io/en/latest/core.html#chess.Board.san\n",
    "\n",
    "\n",
    "#### En Passant functions\n",
    "- has_legal_en_passant() tests if en passant capturing would actually be possible on the next move.\n",
    "- has_pseudo_legal_en_passant()\n",
    "- has_legal_en_passant()\n",
    "- is_en_passant(move: Move) Checks if the given pseudo-legal move is an en passant capture.\n",
    "\n",
    "\n",
    "\n",
    "\n",
    "Use StringIO to parse games from a string. Lila Use this to apply the en passant functions to for each game???\n",
    "\n",
    "```python\n",
    "import io\n",
    "pgn = io.StringIO(\"1. e4 e5 2. Nf3 *\")\n",
    "game = chess.pgn.read_game(pgn)\n",
    "```"
   ]
  },
  {
   "cell_type": "code",
   "execution_count": 113,
   "metadata": {},
   "outputs": [
    {
     "name": "stdout",
     "output_type": "stream",
     "text": [
      "       index white_username black_username  \\\n",
      "37        40      Lovejoy79         -Amos-   \n",
      "45        48         -Amos-   kombinezon34   \n",
      "52        55         -Amos-         ivor12   \n",
      "53        56        thnkbck         -Amos-   \n",
      "62        81         -basu-   Gatotkaca123   \n",
      "...      ...            ...            ...   \n",
      "64388  66849      symonithy  abdullahnasib   \n",
      "64389  66850   WARDOGCLIQUE  abdullahnasib   \n",
      "64405  66866        ecocode  abdullahnasib   \n",
      "64412  66873        2811981  abdullahnasib   \n",
      "64413  66874      Alyushkov  abdullahnasib   \n",
      "\n",
      "                                            white_id  \\\n",
      "37        https://api.chess.com/pub/player/lovejoy79   \n",
      "45           https://api.chess.com/pub/player/-amos-   \n",
      "52           https://api.chess.com/pub/player/-amos-   \n",
      "53          https://api.chess.com/pub/player/thnkbck   \n",
      "62           https://api.chess.com/pub/player/-basu-   \n",
      "...                                              ...   \n",
      "64388     https://api.chess.com/pub/player/symonithy   \n",
      "64389  https://api.chess.com/pub/player/wardogclique   \n",
      "64405       https://api.chess.com/pub/player/ecocode   \n",
      "64412       https://api.chess.com/pub/player/2811981   \n",
      "64413     https://api.chess.com/pub/player/alyushkov   \n",
      "\n",
      "                                             black_id  white_rating  \\\n",
      "37            https://api.chess.com/pub/player/-amos-          1569   \n",
      "45      https://api.chess.com/pub/player/kombinezon34          1505   \n",
      "52            https://api.chess.com/pub/player/ivor12          1468   \n",
      "53            https://api.chess.com/pub/player/-amos-          1530   \n",
      "62      https://api.chess.com/pub/player/gatotkaca123          1498   \n",
      "...                                               ...           ...   \n",
      "64388  https://api.chess.com/pub/player/abdullahnasib           831   \n",
      "64389  https://api.chess.com/pub/player/abdullahnasib           774   \n",
      "64405  https://api.chess.com/pub/player/abdullahnasib           851   \n",
      "64412  https://api.chess.com/pub/player/abdullahnasib           861   \n",
      "64413  https://api.chess.com/pub/player/abdullahnasib           866   \n",
      "\n",
      "       black_rating white_result black_result time_class time_control  rules  \\\n",
      "37             1546          win      timeout      daily     1/259200  chess   \n",
      "45             1635      timeout          win      daily     1/259200  chess   \n",
      "52             1870      timeout          win      daily     1/259200  chess   \n",
      "53             1459          win      timeout      daily     1/172800  chess   \n",
      "62             1540     resigned          win      rapid          600  chess   \n",
      "...             ...          ...          ...        ...          ...    ...   \n",
      "64388           719          win   checkmated      blitz        180+2  chess   \n",
      "64389           744      timeout          win      blitz        180+2  chess   \n",
      "64405           862          win   checkmated      blitz          300  chess   \n",
      "64412           892   checkmated          win      blitz          300  chess   \n",
      "64413           901     resigned          win      blitz          300  chess   \n",
      "\n",
      "       rated                                                fen  \\\n",
      "37      True  r5k1/2b2pp1/p6p/1p2Q3/8/1P5P/1PPr1P1P/5RK1 b -...   \n",
      "45      True  r1b2rk1/1p1n1qbp/p2pp1p1/P1p3Bn/2P1P3/2N2N2/1P...   \n",
      "52      True  r2q1rk1/1p1n2pp/p6b/2pPp3/P3N3/2N4P/1PP1QPP1/R...   \n",
      "53      True  r3r1k1/pb3p1p/1p4p1/6P1/3pPq2/3P1B1P/P4K2/Q6R ...   \n",
      "62      True  r4k2/1p3r2/p2p2n1/2pPp3/2P1P1b1/1P2b1P1/P3NR1P...   \n",
      "...      ...                                                ...   \n",
      "64388   True      7R/8/1p1pr2k/pPp1p1Rp/P1n4P/6N1/6P1/6K1 b - -   \n",
      "64389   True  r2qk1r1/pp1b1p2/3p2p1/2pPp1n1/2P1P3/8/PP2NPPP/...   \n",
      "64405   True     5Q1k/p5pp/1p6/2p2p2/4pP2/PPq5/6PP/3R1RK1 b - -   \n",
      "64412   True              5rk1/8/1p4pp/1Pp4P/3r4/3qK3/8/8 w - -   \n",
      "64413   True  1k1q1bnr/p1pb2pp/Bp2p3/3pPp2/3P4/N1P2N2/1P3PPP...   \n",
      "\n",
      "                                                     pgn  \\\n",
      "37     [Event \"Enjoyable games 2 - Round 1\"]\\n[Site \"...   \n",
      "45     [Event \"Besiktas J.K - Round 1\"]\\n[Site \"Chess...   \n",
      "52     [Event \"Enjoyable games 2 - Round 1\"]\\n[Site \"...   \n",
      "53     [Event \"Let's Play!\"]\\n[Site \"Chess.com\"]\\n[Da...   \n",
      "62     [Event \"Live Chess\"]\\n[Site \"Chess.com\"]\\n[Dat...   \n",
      "...                                                  ...   \n",
      "64388  [Event \"Live Chess\"]\\n[Site \"Chess.com\"]\\n[Dat...   \n",
      "64389  [Event \"Live Chess\"]\\n[Site \"Chess.com\"]\\n[Dat...   \n",
      "64405  [Event \"Live Chess\"]\\n[Site \"Chess.com\"]\\n[Dat...   \n",
      "64412  [Event \"Live Chess\"]\\n[Site \"Chess.com\"]\\n[Dat...   \n",
      "64413  [Event \"Live Chess\"]\\n[Site \"Chess.com\"]\\n[Dat...   \n",
      "\n",
      "                                               move_list  en_passant  \n",
      "37     1. e4 c5 2. Bc4 e6 3. e5 Nc6 4. Nf3 d5 5. exd6...        True  \n",
      "45     1. d4 Nf6 2. c4 g6 3. Nc3 Bg7 4. e4 d6 5. Nf3 ...        True  \n",
      "52     1. d4 c5 2. d5 e5 3. e4 d6 4. Nc3 Nf6 5. Nf3 B...        True  \n",
      "53     1. e4 e5 2. f4 exf4 3. Nf3 d5 4. Nc3 d4 5. Ne2...        True  \n",
      "62     1. d4 {[%clk 0:10:00]} 1... c5 {[%clk 0:09:58....        True  \n",
      "...                                                  ...         ...  \n",
      "64388  1. e4 {[%clk 0:03:02]} 1... e5 {[%clk 0:03:00....        True  \n",
      "64389  1. d4 {[%clk 0:03:02]} 1... d6 {[%clk 0:02:59]...        True  \n",
      "64405  1. e4 {[%clk 0:05:00]} 1... e5 {[%clk 0:04:58....        True  \n",
      "64412  1. e4 {[%clk 0:04:59.7]} 1... e5 {[%clk 0:04:5...        True  \n",
      "64413  1. e4 {[%clk 0:05:00]} 1... e6 {[%clk 0:04:56....        True  \n",
      "\n",
      "[5365 rows x 17 columns]\n"
     ]
    }
   ],
   "source": [
    "# chess testing\n",
    "fen = \"6k1/6p1/p3r2p/3Q4/4NK2/P1r2q2/8/8 w - -\"\n",
    "board = chess.Board(fen)\n",
    "# print(board)\n",
    "\n",
    "pgntext = \"1. d4 d5 2. e3 c6 3. c4 dxc4 4. Bxc4 b5 5. Bb3 a5 6. Qf3 Bb7 7. Bxf7+ Kd7 8. Qf5+ Kc7 9. Nf3 Nh6 10. Qe5+ Kb6 11. a4 bxa4 12. Nc3 Ng4 13. Nxa4+ Ka6 14. Bc4+ Ka7 15. Qc5+ 1-0\"\n",
    "\n",
    "pgn_en = \"1. e4 h5 2. e5 f5 3. exf6 b5\"\n",
    "\n",
    "pgn_en2 = \"1. d4 h5 2. d5 e5 3. h3\"\n",
    "\n",
    "# pgn = io.StringIO(chess_data['pgn'][134])\n",
    "pgn = io.StringIO(pgn_en)\n",
    "game = chess.pgn.read_game(pgn)\n",
    "board = game.board()\n",
    "\n",
    "# print(game)\n",
    "\n",
    "check = False\n",
    "\n",
    "def check_pgn(pgn_in, check_actual_ep):\n",
    "    '''\n",
    "    \n",
    "    check_actual_ep is True if you want to know whether ep was a move\n",
    "    Is False if you are just checking whether it could happen at any point\n",
    "    '''\n",
    "    pgn = io.StringIO(pgn_in)       # PGN as a file\n",
    "    game = chess.pgn.read_game(pgn) # Read PGN and put into game\n",
    "    board = game.board()            # \"board\" of a game\n",
    "    \n",
    "    precheck = False                # is en passant possible\n",
    "    moved = False                   # was en passant moved?\n",
    "    for move in game.mainline_moves():\n",
    "        # B bishop Q queen K king N knight R rook O castle ELSE pawn\n",
    "        # print(move)\n",
    "        san = board.san(move)\n",
    "        move_piece = san[0]\n",
    "        # print(move_piece)\n",
    "        match move_piece:\n",
    "            case \"K\":\n",
    "                board.push(move)\n",
    "                continue\n",
    "                # print(\"king\")\n",
    "            case \"Q\":\n",
    "                board.push(move)\n",
    "                continue\n",
    "                # print(\"queen\")\n",
    "            case \"B\":\n",
    "                board.push(move)\n",
    "                continue\n",
    "                # print(\"bishop\")\n",
    "            case \"N\":\n",
    "                board.push(move)\n",
    "                continue\n",
    "                # print(\"knight\")\n",
    "            case \"R\":\n",
    "                board.push(move)\n",
    "                continue\n",
    "                # print(\"rook\")\n",
    "            case \"O\":\n",
    "                board.push(move)\n",
    "                continue\n",
    "                # print(\"castled\")\n",
    "            case _: # pawn\n",
    "                # if we are checking for actual e.p. moves\n",
    "                if (check_actual_ep):\n",
    "                    moved = board.is_en_passant(move)\n",
    "                    board.push(move)\n",
    "                # if we are only checking for e.p. opportunity\n",
    "                else:\n",
    "                    # push the move before checking the board\n",
    "                    board.push(move)\n",
    "                    precheck = board.has_legal_en_passant()\n",
    "                # if a condition is true return True\n",
    "                if moved or precheck:\n",
    "                    return True\n",
    "    # if ran through every move without true then return False\n",
    "    return False\n",
    "\n",
    "# create new series\n",
    "ep = [False] * len(chess_data)\n",
    "ep_series = pd.Series(ep)\n",
    "\n",
    "# for each game in chess_data\n",
    "for i in range(len(chess_data)):\n",
    "    # check if there is e.p. opportunity and store in series if yes\n",
    "    if (check_pgn(chess_data['pgn'][i], False) == True):\n",
    "        ep_series[i] = True\n",
    "\n",
    "# append series to main dataframe\n",
    "chess_data['en_passant'] = ep_series"
   ]
  },
  {
   "cell_type": "code",
   "execution_count": 117,
   "metadata": {},
   "outputs": [
    {
     "name": "stdout",
     "output_type": "stream",
     "text": [
      "5365\n",
      "1750\n"
     ]
    }
   ],
   "source": [
    "print(len(chess_data[chess_data['en_passant'] == True]))\n",
    "\n",
    "ep_acted = pd.Series(ep)\n",
    "\n",
    "for i in range(len(chess_data)):\n",
    "    if (chess_data['en_passant'][i] == True and check_pgn(chess_data['pgn'][i], True)):\n",
    "        ep_acted[i] = True\n",
    "chess_data['ep_acted'] = ep_acted        \n",
    "print(len(chess_data[chess_data['ep_acted'] == True]))"
   ]
  },
  {
   "attachments": {},
   "cell_type": "markdown",
   "metadata": {},
   "source": [
    "### Number of games with at least 1 possible en-passant move:\n",
    "## 4750\n",
    "(maybe 4913 or even 4945)\n",
    "\n",
    "### Number of games with an actual en-passant move:\n",
    "## 1566"
   ]
  }
 ],
 "metadata": {
  "kernelspec": {
   "display_name": "Python 3.10.0 64-bit",
   "language": "python",
   "name": "python3"
  },
  "language_info": {
   "codemirror_mode": {
    "name": "ipython",
    "version": 3
   },
   "file_extension": ".py",
   "mimetype": "text/x-python",
   "name": "python",
   "nbconvert_exporter": "python",
   "pygments_lexer": "ipython3",
   "version": "3.10.0"
  },
  "orig_nbformat": 4,
  "vscode": {
   "interpreter": {
    "hash": "9112fe3e2dae33b69188b1195510ef537e931a9b15228f951e97333c147361b1"
   }
  }
 },
 "nbformat": 4,
 "nbformat_minor": 2
}
