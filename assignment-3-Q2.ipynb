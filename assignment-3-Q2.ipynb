{
 "cells": [
  {
   "attachments": {},
   "cell_type": "markdown",
   "metadata": {},
   "source": [
    "## Assignment 3 Question 2\n",
    "\n",
    "Is it possible to predict ELO of a player based on context of a potential en passant move?\n",
    "\n",
    "Only investigating the player who is in the position of making the en passant move.\n",
    "\n",
    "Lila See FDS PCA solutions for 3 good points for what PCA is good for - include in report?"
   ]
  },
  {
   "attachments": {},
   "cell_type": "markdown",
   "metadata": {},
   "source": [
    "#### Import Libraries"
   ]
  },
  {
   "cell_type": "code",
   "execution_count": 24,
   "metadata": {},
   "outputs": [],
   "source": [
    "import pandas as pd\n",
    "import chess\n",
    "import chess.pgn\n",
    "import chess.engine\n",
    "import io\n",
    "import os\n",
    "import numpy as np\n",
    "import seaborn as sns\n",
    "import matplotlib.pyplot as plt\n",
    "import re\n",
    "import time\n",
    "\n",
    "from pandarallel import pandarallel\n",
    "\n",
    "import data_cleaning\n",
    "\n",
    "# PCA\n",
    "from sklearn.decomposition import PCA\n",
    "from sklearn.preprocessing import StandardScaler"
   ]
  },
  {
   "cell_type": "markdown",
   "metadata": {},
   "source": [
    "#### Import stockfish 🐟🐟🐟"
   ]
  },
  {
   "cell_type": "code",
   "execution_count": 25,
   "metadata": {},
   "outputs": [
    {
     "name": "stderr",
     "output_type": "stream",
     "text": [
      "Exception ignored in: <function Stockfish.__del__ at 0x7f43365dfc10>\n",
      "Traceback (most recent call last):\n",
      "  File \"/afs/inf.ed.ac.uk/user/s22/s2202694/.local/lib/python3.8/site-packages/stockfish/models.py\", line 757, in __del__\n",
      "    if self._stockfish.poll() is None:\n",
      "AttributeError: 'Stockfish' object has no attribute '_stockfish'\n"
     ]
    }
   ],
   "source": [
    "# Windows installation\n",
    "STOCKFISH_LOC = os.getcwd() + \"\\stockfish\\stockfish-windows-2022-x86-64-avx2.exe\"\n",
    "# Unix based installation i.e. DICE/Codespaces\n",
    "STOCKFISH_LOC_UNIX = os.getcwd() + \"/stockfish_14_linux/stockfish_14_x64\"\n",
    "\n",
    "# Import stockfish package\n",
    "from stockfish import Stockfish\n",
    "# Try and read windows location\n",
    "try:\n",
    "    fish = Stockfish(path=STOCKFISH_LOC, depth=10, parameters={\"Threads\": 2, \"Hash\": 32})\n",
    "    \n",
    "# If error, read the linux location\n",
    "except:\n",
    "    fish = Stockfish(path=STOCKFISH_LOC_UNIX, depth=10, parameters={\"Threads\": 2, \"Hash\": 32})\n",
    "    \n",
    "# It will throw an error but if it still runs then ignore it :D"
   ]
  },
  {
   "attachments": {},
   "cell_type": "markdown",
   "metadata": {},
   "source": [
    "#### Import CSV file\n",
    "\n",
    "66879 entries in dataframe"
   ]
  },
  {
   "cell_type": "code",
   "execution_count": 26,
   "metadata": {},
   "outputs": [
    {
     "name": "stdout",
     "output_type": "stream",
     "text": [
      "white_username    object\n",
      "black_username    object\n",
      "white_id          object\n",
      "black_id          object\n",
      "white_rating       int64\n",
      "black_rating       int64\n",
      "white_result      object\n",
      "black_result      object\n",
      "time_class        object\n",
      "time_control      object\n",
      "rules             object\n",
      "rated               bool\n",
      "fen               object\n",
      "pgn               object\n",
      "dtype: object\n"
     ]
    }
   ],
   "source": [
    "chess_data = data_cleaning.import_data()\n",
    "print(chess_data.dtypes)"
   ]
  },
  {
   "attachments": {},
   "cell_type": "markdown",
   "metadata": {},
   "source": [
    "#### Dataframe info\n",
    "\n",
    "Using:\n",
    "print(chess_data.dtypes)\n",
    "print(chess[\"rules\"].unique())\n",
    "\n",
    "\n",
    "Chess rules:\n",
    "['chess' 'chess960' 'threecheck' 'crazyhouse' 'kingofthehill']\n",
    "\n",
    "Time control:\n",
    "['1/259200' '1/172800' '1800' '1/86400' '1/432000' '1/604800' '600'\n",
    " '120+1' '900+10' '300' '180+2' '3600+5' '2700+45' '3600' '1/1209600'\n",
    " '180' '600+10' '60' '480+3' '300+5' '420+3' '600+5' '600+2' '1200' '30'\n",
    " '60+1' '120' '1500+3' '900+2' '1500+5' '1500+10' '1/864000' '900' '300+2'\n",
    " '1500' '7200' '300+1' '5400' '3600+60' '2700+30' '3480+45' '10' '2700+10'\n",
    " '15' '2700' '3600+20' '4500' '4200' '900+5' '1800+10' '2700+5' '480+5'\n",
    " '1800+30' '300+3' '600+1' '1800+5' '420+5' '5400+30' '240+10' '420' '303'\n",
    " '60+10']\n",
    "\n",
    " Time class:\n",
    "['daily' 'rapid' 'bullet' 'blitz']"
   ]
  },
  {
   "attachments": {},
   "cell_type": "markdown",
   "metadata": {},
   "source": [
    "#### Clean data\n",
    "\n",
    "Undeveloped board shouldn't matter if we're filtering games for potential ep\n",
    "\n",
    "Same for draws\n",
    "\n",
    "Can filter our time class if are looking at time controls\n",
    "\n",
    "After making a new move_list column, should we drop the pgn column?\n",
    "\n",
    "\n",
    "Variables we are considering when predicting ELO (for a player who could potentially make en passant move) are: (Y = DONE, N = NOT DONE)\n",
    "- Y: Colour who had ep opportunity (boolean)\n",
    "- Y: Did they take the en passant? (boolean)\n",
    "- N: Does their choice on taking/not taking support them if gaining an advantage? (numerical value for how much of an advantage it gives)\n",
    "- N: Time taken to decide to capture/not capture en passant (... whatever can be time, a number in seconds ig)\n",
    "- Y: Is the game rated? (boolean)\n",
    "- Y: Game time class\n",
    "\n",
    "\n",
    "To do:\n",
    "- Work out which colour is making the potential en passant move, add a column to dataframe detailing this\n",
    "- Make dataframe columns for other variables\n",
    "- Apply PCA reduction"
   ]
  },
  {
   "cell_type": "code",
   "execution_count": 27,
   "metadata": {},
   "outputs": [],
   "source": [
    "# Save PGN column from dataframe\n",
    "full_pgn = chess_data['pgn']\n",
    "\n",
    "def get_moves(entry):\n",
    "    '''\n",
    "    Retrive series of moves in a game when given the whole full_pgn entry\n",
    "    '''\n",
    "    pgn = entry.splitlines()[-1]\n",
    "    return pgn\n",
    "\n",
    "# Add list of moves (string) as a new column to dataframe\n",
    "chess_data['move_list'] = full_pgn.apply(get_moves)\n",
    "# Drop irrelevant columns\n",
    "chess_data = chess_data.drop(['time_control', 'white_username', 'black_username','white_id', 'black_id', 'white_result', 'black_result', 'rules'], axis=1)"
   ]
  },
  {
   "cell_type": "code",
   "execution_count": 28,
   "metadata": {},
   "outputs": [
    {
     "name": "stdout",
     "output_type": "stream",
     "text": [
      "white_rating                                                 1708\n",
      "black_rating                                                 1608\n",
      "time_class                                                  daily\n",
      "rated                                                        True\n",
      "fen             r2r4/p2p1p1p/b6R/n1p1kp2/2P2P2/3BP3/PP5P/4K2R ...\n",
      "pgn             [Event \"Enjoyable games 2 - Round 1\"]\\n[Site \"...\n",
      "move_list       1. d4 Nf6 2. c4 e6 3. Nc3 Bb4 4. Qb3 Bxc3+ 5. ...\n",
      "Name: 0, dtype: object\n"
     ]
    }
   ],
   "source": [
    "print(chess_data.iloc[0])"
   ]
  },
  {
   "attachments": {},
   "cell_type": "markdown",
   "metadata": {},
   "source": [
    "#### Import chess info\n",
    "https://python-chess.readthedocs.io/en/latest/core.html#chess.Board.san\n",
    "\n",
    "\n",
    "#### En Passant functions\n",
    "- has_legal_en_passant() tests if en passant capturing would actually be possible on the next move.\n",
    "- has_pseudo_legal_en_passant()\n",
    "- has_legal_en_passant()\n",
    "- is_en_passant(move: Move) Checks if the given pseudo-legal move is an en passant capture.\n",
    "\n",
    "\n",
    "\n",
    "\n",
    "Use StringIO to parse games from a string.\n",
    "\n",
    "```python\n",
    "import io\n",
    "pgn = io.StringIO(\"1. e4 e5 2. Nf3 *\")\n",
    "game = chess.pgn.read_game(pgn)\n",
    "```"
   ]
  },
  {
   "attachments": {},
   "cell_type": "markdown",
   "metadata": {},
   "source": [
    "#### Clean data specifically for ep\n",
    "\n",
    "Filter out columns that don't have potential ep\n",
    "Add columns for: whether ep happened, which colour had potential to take ep"
   ]
  },
  {
   "cell_type": "code",
   "execution_count": 29,
   "metadata": {},
   "outputs": [
    {
     "name": "stdout",
     "output_type": "stream",
     "text": [
      "INFO: Pandarallel will run on 4 workers.\n",
      "INFO: Pandarallel will use Memory file system to transfer data between the main process and workers.\n",
      "278.0660400390625\n"
     ]
    }
   ],
   "source": [
    "def check_pgn(df_row):\n",
    "    '''\n",
    "    Checks PGN for whether opportunity for EP happened in the game.\n",
    "    '''\n",
    "    \n",
    "    pgn_file = io.StringIO(df_row[\"pgn\"])   # PGN as a file\n",
    "    game = chess.pgn.read_game(pgn_file)    # Read PGN and put into game\n",
    "    board = game.board()                    # \"board\" of a game\n",
    "    # pre-initialise df_row values\n",
    "    precheck = False\n",
    "    moved = False\n",
    "    move_colour = \"\"\n",
    "    \n",
    "    time1 = \"\"\n",
    "    time2 = \"\"\n",
    "    time3 = \"\"\n",
    "    \n",
    "    # comparison sets when checking move piece\n",
    "    ep_set = set([\"ax\",\"bx\",\"cx\",\"dx\",\"ex\",\"fx\",\"gx\", \"hx\"])\n",
    "    check_set = set(\"abcdefgh\")\n",
    "    \n",
    "    # Find only pawn moves in game\n",
    "    for move in game.mainline_moves():\n",
    "        san = board.san(move)\n",
    "        turn = board.turn\n",
    "        move_piece = san[0]\n",
    "        # check if precheck was flagged in previous move\n",
    "        if precheck:\n",
    "            # get first 2 letters, and compare to a set\n",
    "            move_ep_piece = san[:2]\n",
    "            if move_ep_piece in ep_set:\n",
    "                # check if e.p. actually happened\n",
    "                moved = board.is_en_passant(move)\n",
    "            # break out for loop, no need to check further\n",
    "            break\n",
    "        \n",
    "        # if the move was a pawn (lower case)\n",
    "        if move_piece in check_set:\n",
    "            # Push the move before checking the board\n",
    "            board.push(move)\n",
    "            # check if the next move can be en passant\n",
    "            precheck = board.has_legal_en_passant()\n",
    "            # if precheck is true then set the turn\n",
    "            if precheck:\n",
    "                if turn:\n",
    "                    move_colour = 'Black'\n",
    "                else:\n",
    "                    move_colour = 'White'\n",
    "        # if the move wasn't a pawn then just continue as normal\n",
    "        else:\n",
    "            board.push(move)\n",
    "    \n",
    "    # set row values\n",
    "    df_row[\"ep_opportunity\"] = precheck\n",
    "    df_row[\"ep_happened\"] = moved\n",
    "    df_row[\"ep_colour\"] = move_colour\n",
    "    return df_row\n",
    "\n",
    "# chess_filter = chess_data[chess_data[\"time_class\"] != \"daily\"].sample(100).copy(deep=True)\n",
    "chess_filter = chess_data.copy(deep=True)\n",
    "chess_filter = chess_filter\n",
    "pandarallel.initialize()\n",
    "\n",
    "start = time.time()\n",
    "# apply e.p. finding function\n",
    "chess_filter = chess_filter.parallel_apply(check_pgn, axis=1)\n",
    "end = time.time()\n",
    "print(end - start)"
   ]
  },
  {
   "cell_type": "code",
   "execution_count": 30,
   "metadata": {},
   "outputs": [
    {
     "name": "stdout",
     "output_type": "stream",
     "text": [
      "5074\n",
      "1563\n"
     ]
    }
   ],
   "source": [
    "chess_filter = chess_filter[chess_filter['ep_opportunity'] == True]\n",
    "chess_filter = chess_filter.drop(['ep_opportunity'], axis=1)\n",
    "chess_filter = chess_filter[chess_filter['time_class'] != \"daily\"]\n",
    "chess_filter = chess_filter.reset_index(drop=True)\n",
    "print(len(chess_filter))\n",
    "print(len(chess_filter[chess_filter['ep_happened'] == True]))\n",
    "# print(chess_filter[\"move_list\"].sample(50).head(20))"
   ]
  },
  {
   "cell_type": "code",
   "execution_count": 31,
   "metadata": {},
   "outputs": [],
   "source": [
    "# print(chess_filter.values)"
   ]
  },
  {
   "cell_type": "code",
   "execution_count": 32,
   "metadata": {},
   "outputs": [],
   "source": [
    "# samp = chess_filter.sample(1000)"
   ]
  },
  {
   "attachments": {},
   "cell_type": "markdown",
   "metadata": {},
   "source": [
    "#### Cleaning data for EP - Advantage for ep\n",
    "\n",
    "Analysing game - finding if ep move would have given an edvantage\n",
    "\n",
    "\n",
    "Split into cases: ep happened and ep didn't happen\n",
    "\n",
    "\n",
    "NOT DONE YET"
   ]
  },
  {
   "cell_type": "code",
   "execution_count": 33,
   "metadata": {},
   "outputs": [],
   "source": [
    "def increment_letter(letter):\n",
    "    '''dumb increment function'''\n",
    "    if letter == \"h\":\n",
    "        return \"z\"\n",
    "    return chr(ord(letter) + 1)\n",
    "\n",
    "def decrement_letter(letter):\n",
    "    '''dumb decrement function'''\n",
    "    if letter == \"a\":\n",
    "        return \"y\"\n",
    "    return chr(ord(letter) - 1)\n",
    "\n",
    "def check_adjacent_piece(square, pawn):\n",
    "    '''Checks if a piece on a square is an opponent pawn'''\n",
    "    piece = fish.get_what_is_on_square(square)\n",
    "    return True if piece == pawn else False\n",
    "\n",
    "def get_abs_advantage(post, pre, col):\n",
    "    '''Centipawns is always from white side so account for that'''\n",
    "    difference = post - pre\n",
    "    if col==\"White\":\n",
    "        return difference\n",
    "    else:\n",
    "        return difference * -1\n",
    "        \n",
    "\n",
    "def get_best_move_evaluation(pre_eval, col):\n",
    "    best_move = fish.get_best_move()\n",
    "    # print(\"best move: \" + str(best_move))\n",
    "    \n",
    "    ep_best = False\n",
    "    if fish.will_move_be_a_capture(best_move) == fish.Capture.EN_PASSANT:\n",
    "        ep_best = True\n",
    "    \n",
    "    # make best move and measure\n",
    "    fish.make_moves_from_current_position([best_move])\n",
    "    post_eval = fish.get_evaluation()\n",
    "    # print(\"post-evaluation: \" + str(post_eval[\"value\"]))\n",
    "    \n",
    "    post_eval_best_diff = get_abs_advantage(post_eval[\"value\"], pre_eval[\"value\"], col)\n",
    "\n",
    "    # print(\"post-evaluation diff: \" + str(post_eval_best_diff))\n",
    "    # print(\"----\")\n",
    "    return [post_eval_best_diff, ep_best]\n",
    "\n",
    "def get_adj_squares(board, col, last_move):\n",
    "    # column in the form \"a - g\"\n",
    "    pawn_move_col = last_move[-2]\n",
    "    # row in the form \"1 - 8\"\n",
    "    pawn_move_row = last_move[-1]\n",
    "    left_sq = decrement_letter(pawn_move_col) + pawn_move_row\n",
    "    right_sq = increment_letter(pawn_move_col) + pawn_move_row\n",
    "    return [left_sq, right_sq]\n",
    "    \n",
    "def check_valid_pawn(board, col, bounds, squares):\n",
    "    left_bound, right_bound = bounds\n",
    "    left_square, right_square = squares\n",
    "    \n",
    "    # if colour is white, we are looking for a white pawn\n",
    "    if col == \"White\":\n",
    "        FISH_PAWN = fish.Piece.WHITE_PAWN\n",
    "    # if colour is black, we are looking for a black pawn\n",
    "    else:\n",
    "        FISH_PAWN = fish.Piece.BLACK_PAWN\n",
    "\n",
    "    # set the fen\n",
    "    fish.set_fen_position(board.fen())\n",
    "    # print(fish.get_board_visual())\n",
    "    # if corresponding square is a pawn of correct colour\n",
    "    valid_left = False\n",
    "    valid_right = False\n",
    "    # if somewhere in the middle then check both sides\n",
    "    if (not left_bound) and (not right_bound):\n",
    "        valid_left = check_adjacent_piece(left_square, FISH_PAWN)\n",
    "        valid_right = check_adjacent_piece(right_square, FISH_PAWN)\n",
    "    \n",
    "    # if pawn is on A file (leftmost)\n",
    "    elif left_bound:\n",
    "        # check right only\n",
    "        valid_right = check_adjacent_piece(right_square, FISH_PAWN)\n",
    "    \n",
    "    # if pawn is on H file (rightmost)\n",
    "    elif right_bound:\n",
    "        # check left only\n",
    "        valid_left = check_adjacent_piece(left_square, FISH_PAWN)\n",
    "    \n",
    "    return valid_left, valid_right\n",
    "\n",
    "def ep_eval(fen, move, col):\n",
    "    # reset board to pre-move FEN\n",
    "    fish.set_fen_position(fen)\n",
    "    # print(fish.get_board_visual())\n",
    "    # make the move on stockfish\n",
    "    fish.make_moves_from_current_position([move])\n",
    "    \n",
    "    # print(fish.get_board_visual())\n",
    "    val = fish.get_evaluation()[\"value\"]\n",
    "    # print(\"e.p. evaluation: \" + str(val))\n",
    "    return val\n",
    "\n",
    "\n",
    "def stockfish_analyse_board(df_row, board):\n",
    "    col = df_row[\"ep_colour\"]\n",
    "    # print(col)\n",
    "    \n",
    "    fish.set_fen_position(board.fen())\n",
    "    \n",
    "    # get pre-move evaluation\n",
    "    pre_eval = fish.get_evaluation()\n",
    "    # print(pre_eval)\n",
    "    # print(\"pre-evaluation: \" + str(pre_eval[\"value\"]))\n",
    "\n",
    "    post_eval_best_diff, ep_best = get_best_move_evaluation(pre_eval, col)\n",
    "    \n",
    "    if ep_best:\n",
    "        return [pre_eval, post_eval_best_diff, post_eval_best_diff]\n",
    "    \n",
    "    # e.g. \"e7e5\"\n",
    "    last_move = str(board.peek())\n",
    "    \n",
    "    # get adjacent squares of the pre-e.p. move\n",
    "    squares = get_adj_squares(board, col, last_move)\n",
    "    left_square, right_square = squares\n",
    "    # checks the move is in leftmost or rightmost column\n",
    "    left_bound = True if left_square[-2] == \"y\" else False\n",
    "    right_bound = True if right_square[-2] == \"z\" else False\n",
    "    bounds = [left_bound, right_bound]\n",
    "    ep_left, ep_right = check_valid_pawn(board, col, bounds, squares)\n",
    "    \n",
    "    # if white is attacking then e.p. on row 6\n",
    "    # if black is attacking then e.p. on row 3\n",
    "    resulting_row = \"6\" if col == \"White\" else \"3\"\n",
    "    \n",
    "    eval_ep_left = 0\n",
    "    eval_ep_right = 0\n",
    "    \n",
    "    if ep_left and ep_right:\n",
    "        move_left = decrement_letter(last_move[-2]) + last_move[-1] + last_move[-2] + resulting_row\n",
    "        eval_ep_left = ep_eval(board.fen(), move_left, col)\n",
    "        \n",
    "        move_right = increment_letter(last_move[-2]) + last_move[-1] + last_move[-2] + resulting_row\n",
    "        eval_ep_left = ep_eval(board.fen(), move_right, col)\n",
    "\n",
    "        if col == \"White\":\n",
    "            best_ep_val = max(eval_ep_left, eval_ep_right)\n",
    "        else:\n",
    "            best_ep_val = min(eval_ep_left, eval_ep_right)\n",
    "        \n",
    "    if ep_right:\n",
    "        move = increment_letter(last_move[-2]) + last_move[-1] + last_move[-2] + resulting_row\n",
    "        best_ep_val = ep_eval(board.fen(), move, col)\n",
    "    else:\n",
    "        move = decrement_letter(last_move[-2]) + last_move[-1] + last_move[-2] + resulting_row\n",
    "        best_ep_val = ep_eval(board.fen(), move, col)\n",
    "    \n",
    "    # print(col)\n",
    "    # print(\"pre: \" + str(pre_eval[\"value\"]))\n",
    "    # print(\"best: \" + str(best_ep_val))\n",
    "    if col == \"White\":\n",
    "        post_eval_ep_diff = best_ep_val - pre_eval[\"value\"]\n",
    "        # print(\"diff: \" + str(post_eval_ep_diff))\n",
    "    else:\n",
    "        post_eval_ep_diff = -1*(best_ep_val - pre_eval[\"value\"])\n",
    "        # print(\"diff: \" + str(post_eval_ep_diff))\n",
    "    # print()\n",
    "\n",
    "    \n",
    "    return [pre_eval, post_eval_best_diff, post_eval_ep_diff]\n",
    "\n",
    "def get_advantage(df_row):\n",
    "    check_set = set(\"abcdefgh\")\n",
    "    # print(df_row.name)\n",
    "    \n",
    "    pgn_file = io.StringIO(df_row[\"pgn\"])   # PGN as a file\n",
    "    game = chess.pgn.read_game(pgn_file)    # Read PGN and put into game\n",
    "    board = game.board()                    # \"board\" of a game\n",
    "    precheck = False\n",
    "    \n",
    "    pre_eval = 0\n",
    "    post_eval_best_diff = 0\n",
    "    post_eval_ep_diff = 0\n",
    "    \n",
    "    for move in game.mainline_moves():\n",
    "        san = board.san(move)\n",
    "        move_piece = san[0]\n",
    "\n",
    "        # check if precheck was flagged in previous move\n",
    "        if precheck:\n",
    "            precheck = False\n",
    "            # colour is the colour of the player with the opportunity\n",
    "            values = stockfish_analyse_board(df_row, board)\n",
    "            pre_eval = values[0]\n",
    "            post_eval_best_diff = values[1]\n",
    "            post_eval_ep_diff = values[2]\n",
    "            break\n",
    "            \n",
    "            \n",
    "        # if the move was a pawn (lower case)\n",
    "        if move_piece in check_set:\n",
    "            # Push the move before checking the board\n",
    "            board.push(move)\n",
    "            # check if the next move can be en passant\n",
    "            precheck = board.has_legal_en_passant()\n",
    "        # if the move wasn't a pawn then just continue as normal\n",
    "        else:\n",
    "            board.push(move)\n",
    "\n",
    "    if precheck:\n",
    "        # colour is the colour of the player with the opportunity\n",
    "        values = stockfish_analyse_board(df_row, board)\n",
    "        pre_eval = values[0]\n",
    "        post_eval_best_diff = values[1]\n",
    "        post_eval_ep_diff = values[2]\n",
    "    \n",
    "    df_row[\"pre_state\"] = pre_eval[\"value\"]\n",
    "    df_row[\"state_best\"] = post_eval_best_diff# stockfish eval if e.p. is taken\n",
    "    df_row[\"state_ep\"] = post_eval_ep_diff # stockfish eval if e.p. isn't taken\n",
    "    return df_row\n",
    "\n",
    "# samp3 = get_advantage(samp.loc[2011])\n",
    "# print(samp3)\n",
    "chess_filter = chess_filter.apply(get_advantage, axis=1)"
   ]
  },
  {
   "cell_type": "code",
   "execution_count": 34,
   "metadata": {},
   "outputs": [
    {
     "name": "stdout",
     "output_type": "stream",
     "text": [
      "809\n"
     ]
    }
   ],
   "source": [
    "print(len(chess_filter[(chess_filter[\"state_best\"] == chess_filter[\"state_ep\"]) & (chess_filter[\"ep_happened\"] == True)]))"
   ]
  },
  {
   "attachments": {},
   "cell_type": "markdown",
   "metadata": {},
   "source": [
    "### Number of games with at least 1 possible en-passant move - ???:\n",
    "## 4750\n",
    "(maybe 4913 or even 4945)\n",
    "\n",
    "### Number of games with an actual en-passant move - ???:\n",
    "## 1566"
   ]
  },
  {
   "attachments": {},
   "cell_type": "markdown",
   "metadata": {},
   "source": [
    "#### Applying PCA\n"
   ]
  },
  {
   "cell_type": "code",
   "execution_count": 66,
   "metadata": {},
   "outputs": [
    {
     "name": "stdout",
     "output_type": "stream",
     "text": [
      "   white_rating  black_rating  ep_happened  ep_colour  diff_with_best  \\\n",
      "0          1498          1540            0          1             266   \n",
      "1          1505          1485            1          0              -3   \n",
      "2          1239          1177            0          0            -890   \n",
      "3          1485          1531            1          0           -1078   \n",
      "4          1536          1523            1          0             584   \n",
      "\n",
      "   diff_with_ep  \n",
      "0           173  \n",
      "1             0  \n",
      "2         -1322  \n",
      "3         -1078  \n",
      "4           584  \n",
      "\n",
      "\n",
      "   ep_happened  ep_colour  diff_with_best  diff_with_ep\n",
      "0            0          1             266           173\n",
      "1            1          0              -3             0\n",
      "2            0          0            -890         -1322\n",
      "3            1          0           -1078         -1078\n",
      "4            1          0             584           584\n"
     ]
    }
   ],
   "source": [
    "\n",
    "\n",
    "# Replace Boolean and string variables with numbers\n",
    "chess_filter['ep_happened'] = chess_filter['ep_happened'].replace({True:1, False:0})\n",
    "chess_filter['ep_colour'] = chess_filter['ep_colour'].replace({'White':1, 'Black':0})\n",
    "chess_filter['rated'] = chess_filter['rated'].replace({True:1, False:0})\n",
    "chess_filter['time_class'] = chess_filter['time_class'].replace({'daily':3, 'rapid':2, 'blitz':1, 'bullet':0})\n",
    "\n",
    "# Drop irrelevant columns, and save differently - as a dataframe including the rating and one without\n",
    "chess_data_with_elo = chess_filter.drop(['fen', 'pgn', 'move_list', 'time_class', 'rated'], axis=1)\n",
    "chess_data_without_elo = chess_data_with_elo.drop(['white_rating', 'black_rating'], axis=1)\n",
    "\n",
    "# chess_data_without_elo[\"eval_diff\"] = chess_data_without_elo[\"state_best\"] - chess_data_without_elo[\"state_ep\"]\n",
    "# chess_data_without_elo = chess_data_without_elo.drop(['state_best', 'state_ep'], axis=1)\n",
    "\n",
    "# chess_data_with_elo[\"eval_diff\"] = chess_data_with_elo[\"state_best\"] - chess_data_with_elo[\"state_ep\"]\n",
    "# chess_data_with_elo = chess_data_with_elo.drop(['state_best', 'state_ep'], axis=1)\n",
    "\n",
    "\n",
    "chess_data_without_elo[\"diff_with_best\"] = chess_data_without_elo[\"state_best\"] + chess_data_without_elo[\"pre_state\"]\n",
    "chess_data_without_elo[\"diff_with_ep\"] = chess_data_without_elo[\"state_ep\"] + chess_data_without_elo[\"pre_state\"]\n",
    "chess_data_with_elo[\"diff_with_best\"] = chess_data_with_elo[\"state_best\"] + chess_data_with_elo[\"pre_state\"]\n",
    "chess_data_with_elo[\"diff_with_ep\"] = chess_data_with_elo[\"state_ep\"] + chess_data_with_elo[\"pre_state\"]\n",
    "\n",
    "chess_data_without_elo = chess_data_without_elo.drop(['state_best', 'state_ep', 'pre_state'], axis=1)\n",
    "chess_data_with_elo = chess_data_with_elo.drop(['state_best', 'state_ep', 'pre_state'], axis=1)\n",
    "\n",
    "\n",
    "\n",
    "\n",
    "print(chess_data_with_elo.head())\n",
    "print('\\n')\n",
    "print(chess_data_without_elo.head())"
   ]
  },
  {
   "attachments": {},
   "cell_type": "markdown",
   "metadata": {},
   "source": [
    "##### Data Standardisation (For PCA)\n",
    "\n",
    "Cite week 8 lab sheet in report? Heavily used their code to help"
   ]
  },
  {
   "cell_type": "code",
   "execution_count": 72,
   "metadata": {},
   "outputs": [
    {
     "data": {
      "text/plain": [
       "<seaborn.axisgrid.PairGrid at 0x7f4318474fa0>"
      ]
     },
     "execution_count": 72,
     "metadata": {},
     "output_type": "execute_result"
    },
    {
     "data": {
      "image/png": "[encoded data removed]",
      "text/plain": [
       "<Figure size 691.25x540 with 12 Axes>"
      ]
     },
     "metadata": {
      "needs_background": "light"
     },
     "output_type": "display_data"
    }
   ],
   "source": [
    "# THIS PART IS COPIED AND PASTED FROM WEEK 8 PCA SOLUTIONS:\n",
    "def sort_eigenvalues(eigenvalues, eigenvectors):\n",
    "    idx = eigenvalues.argsort()[::-1]   \n",
    "    eigenvalues = eigenvalues[idx]\n",
    "    eigenvectors = eigenvectors[:,idx]\n",
    "    return eigenvalues, eigenvectors\n",
    "\n",
    "# THE REST IS HEAVILY INFLUENCED BY WEEK 8 PCA SOLUTIONS\n",
    "\n",
    "# Standardise chess_data_without_elo so that it follows the Standard normal distribution\n",
    "for col in chess_data_without_elo.columns:\n",
    "        chess_data_without_elo[col] = (chess_data_without_elo[col] - chess_data_without_elo[col].mean()) / chess_data_without_elo[col].std()\n",
    "\n",
    "# # Create matrix storing covariances of the chess dataframe features\n",
    "# covariances = np.cov(chess_data_without_elo.values.T)\n",
    "\n",
    "# # Record eigenvalues and eigenvectors\n",
    "# eigenvalues, eigenvectors = np.linalg.eig(covariances)\n",
    "# eigenvalues, eigenvalues = sort_eigenvalues(eigenvalues, eigenvectors)\n",
    "\n",
    "# result = chess_data_without_elo.dot(eigenvectors[:,:2])\n",
    "\n",
    "# sns.scatterplot(x= result[0], y = result[1], hue=diagnosis)\n",
    "# plt.xlabel('PC1')\n",
    "# plt.ylabel('PC2')\n",
    "\n",
    "def standardize(df):\n",
    "    standardized = pd.DataFrame()\n",
    "    for col in df.columns: # We can apply mathematical operation to entire columns at once, as they are built on top of numpy arrays\n",
    "        standardized[col] = (df[col]-df[col].mean())/df[col].std() #For each column move the data s.t. it is centered around 0 and has variance=1\n",
    "    return standardized\n",
    "\n",
    "\n",
    "sns.pairplot(hue='ep_happened', data=chess_data_without_elo, palette=\"Set2\")\n",
    "\n",
    "# # Lila Can we instead use this? :\n",
    "# standardise = stan\n",
    "# pca = PCA(n_components=5).fit(chess_data_without_elo.values)\n",
    "# pca_result = pca.transform(chess_data_without_elo.values)\n",
    "# sns.scatterplot(x=pca_result[:, 0], y=pca_result[:, 1], hue=)\n",
    "# plt.xlabel('PC1')\n",
    "# plt.ylabel('PC2')"
   ]
  },
  {
   "cell_type": "code",
   "execution_count": 70,
   "metadata": {},
   "outputs": [
    {
     "data": {
      "text/plain": [
       "Text(0, 0.5, 'PC2')"
      ]
     },
     "execution_count": 70,
     "metadata": {},
     "output_type": "execute_result"
    },
    {
     "data": {
      "image/png": "[encoded data removed]",
      "text/plain": [
       "<Figure size 432x288 with 1 Axes>"
      ]
     },
     "metadata": {
      "needs_background": "light"
     },
     "output_type": "display_data"
    }
   ],
   "source": [
    "ep_happened_result = chess_data_without_elo[\"ep_happened\"]\n",
    "\n",
    "standardized = standardize(chess_data_with_elo)\n",
    "pca = PCA(n_components=4).fit(standardized.values)\n",
    "pca_result = pca.transform(standardized.values)\n",
    "sns.scatterplot(x=pca_result[:, 0], y=pca_result[:, 1], hue=ep_happened_result, palette=\"Set2\")\n",
    "plt.xlabel('PC1')\n",
    "plt.ylabel('PC2')"
   ]
  }
 ],
 "metadata": {
  "kernelspec": {
   "display_name": "Python 3",
   "language": "python",
   "name": "python3"
  },
  "language_info": {
   "codemirror_mode": {
    "name": "ipython",
    "version": 3
   },
   "file_extension": ".py",
   "mimetype": "text/x-python",
   "name": "python",
   "nbconvert_exporter": "python",
   "pygments_lexer": "ipython3",
   "version": "3.8.10"
  },
  "orig_nbformat": 4,
  "vscode": {
   "interpreter": {
    "hash": "767d51c1340bd893661ea55ea3124f6de3c7a262a8b4abca0554b478b1e2ff90"
   }
  }
 },
 "nbformat": 4,
 "nbformat_minor": 2
}
