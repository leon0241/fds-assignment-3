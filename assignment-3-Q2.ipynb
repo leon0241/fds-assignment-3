{
 "cells": [
  {
   "attachments": {},
   "cell_type": "markdown",
   "metadata": {},
   "source": [
    "## Assignment 3 Question 2\n",
    "\n",
    "Is it possible to predict ELO of a player based on context of a potential en passant move?\n",
    "\n",
    "Only investigating the player who is in the position of making the en passant move.\n",
    "\n",
    "Lila See FDS PCA solutions for 3 good points for what PCA is good for - include in report?"
   ]
  },
  {
   "attachments": {},
   "cell_type": "markdown",
   "metadata": {},
   "source": [
    "#### Import Libraries"
   ]
  },
  {
   "cell_type": "code",
   "execution_count": 3,
   "metadata": {},
   "outputs": [],
   "source": [
    "import pandas as pd\n",
    "import chess\n",
    "import chess.pgn\n",
    "import chess.engine\n",
    "import io\n",
    "import os\n",
    "import numpy as np\n",
    "import seaborn as sns\n",
    "import matplotlib.pyplot as plt\n",
    "import time\n",
    "import importlib\n",
    "import math\n",
    "\n",
    "from pandarallel import pandarallel\n",
    "\n",
    "import data_cleaning\n",
    "\n",
    "from sklearn.decomposition import PCA\n",
    "from sklearn.preprocessing import StandardScaler\n",
    "from mpl_toolkits.mplot3d import Axes3D\n",
    "from sklearn.neighbors import KNeighborsClassifier\n",
    "from sklearn.model_selection import train_test_split\n",
    "from sklearn.cluster import KMeans\n",
    "\n",
    "from matplotlib.colors import ListedColormap"
   ]
  },
  {
   "cell_type": "markdown",
   "metadata": {},
   "source": [
    "#### Import stockfish 🐟🐟🐟"
   ]
  },
  {
   "cell_type": "code",
   "execution_count": 4,
   "metadata": {},
   "outputs": [
    {
     "name": "stderr",
     "output_type": "stream",
     "text": [
      "Exception ignored in: <function Stockfish.__del__ at 0x7f578f101dc0>\n",
      "Traceback (most recent call last):\n",
      "  File \"/afs/inf.ed.ac.uk/user/s22/s2202694/.local/lib/python3.8/site-packages/stockfish/models.py\", line 757, in __del__\n",
      "    if self._stockfish.poll() is None:\n",
      "AttributeError: 'Stockfish' object has no attribute '_stockfish'\n"
     ]
    }
   ],
   "source": [
    "# Windows installation\n",
    "STOCKFISH_LOC = os.getcwd() + \"\\stockfish\\stockfish-windows-2022-x86-64-avx2.exe\"\n",
    "# Unix based installation i.e. DICE/Codespaces\n",
    "STOCKFISH_LOC_UNIX = os.getcwd() + \"/stockfish_14_linux/stockfish_14_x64\"\n",
    "\n",
    "# Import stockfish package\n",
    "from stockfish import Stockfish\n",
    "# Try and read windows location\n",
    "try:\n",
    "    fish = Stockfish(path=STOCKFISH_LOC, depth=10, parameters={\"Threads\": 2, \"Hash\": 32})\n",
    "    \n",
    "# If error, read the linux location\n",
    "except:\n",
    "    fish = Stockfish(path=STOCKFISH_LOC_UNIX, depth=10, parameters={\"Threads\": 2, \"Hash\": 32})\n",
    "    \n",
    "# It will throw an error but if it still runs then ignore it :D"
   ]
  },
  {
   "attachments": {},
   "cell_type": "markdown",
   "metadata": {},
   "source": [
    "#### Import CSV file\n",
    "\n",
    "66879 entries in dataframe"
   ]
  },
  {
   "cell_type": "code",
   "execution_count": 5,
   "metadata": {},
   "outputs": [
    {
     "name": "stdout",
     "output_type": "stream",
     "text": [
      "white_username    object\n",
      "black_username    object\n",
      "white_id          object\n",
      "black_id          object\n",
      "white_rating       int64\n",
      "black_rating       int64\n",
      "white_result      object\n",
      "black_result      object\n",
      "time_class        object\n",
      "time_control      object\n",
      "rules             object\n",
      "rated               bool\n",
      "fen               object\n",
      "pgn               object\n",
      "dtype: object\n"
     ]
    }
   ],
   "source": [
    "chess_data = data_cleaning.import_data()\n",
    "print(chess_data.dtypes)"
   ]
  },
  {
   "attachments": {},
   "cell_type": "markdown",
   "metadata": {},
   "source": [
    "#### Dataframe info\n",
    "\n",
    "Using:\n",
    "print(chess_data.dtypes)\n",
    "print(chess[\"rules\"].unique())\n",
    "\n",
    "\n",
    "Chess rules:\n",
    "['chess' 'chess960' 'threecheck' 'crazyhouse' 'kingofthehill']\n",
    "\n",
    "Time control:\n",
    "['1/259200' '1/172800' '1800' '1/86400' '1/432000' '1/604800' '600'\n",
    " '120+1' '900+10' '300' '180+2' '3600+5' '2700+45' '3600' '1/1209600'\n",
    " '180' '600+10' '60' '480+3' '300+5' '420+3' '600+5' '600+2' '1200' '30'\n",
    " '60+1' '120' '1500+3' '900+2' '1500+5' '1500+10' '1/864000' '900' '300+2'\n",
    " '1500' '7200' '300+1' '5400' '3600+60' '2700+30' '3480+45' '10' '2700+10'\n",
    " '15' '2700' '3600+20' '4500' '4200' '900+5' '1800+10' '2700+5' '480+5'\n",
    " '1800+30' '300+3' '600+1' '1800+5' '420+5' '5400+30' '240+10' '420' '303'\n",
    " '60+10']\n",
    "\n",
    " Time class:\n",
    "['daily' 'rapid' 'bullet' 'blitz']"
   ]
  },
  {
   "attachments": {},
   "cell_type": "markdown",
   "metadata": {},
   "source": [
    "#### Clean data\n",
    "\n",
    "Undeveloped board shouldn't matter if we're filtering games for potential ep\n",
    "\n",
    "Same for draws\n",
    "\n",
    "Can filter our time class if are looking at time controls\n",
    "\n",
    "After making a new move_list column, should we drop the pgn column?\n",
    "\n",
    "\n",
    "Variables we are considering when predicting ELO (for a player who could potentially make en passant move) are:\n",
    "- Colour who had ep opportunity (boolean)\n",
    "- Did they take the en passant? (boolean)\n",
    "- Does their choice on taking/not taking support them if gaining an advantage? (numerical value for how much of an advantage it gives) [Lila rn is __________________]\n",
    "- \n",
    "- Time taken to decide to capture/not capture en passant (percentage of total time for the game)\n",
    "- Is the game rated? (boolean)\n",
    "- Game time class (numerical value), don't include daily because daily don't have times attached to move"
   ]
  },
  {
   "cell_type": "code",
   "execution_count": 6,
   "metadata": {},
   "outputs": [],
   "source": [
    "# Save PGN column from dataframe\n",
    "full_pgn = chess_data['pgn']\n",
    "\n",
    "def get_moves(entry):\n",
    "    '''\n",
    "    Retrive series of moves in a game when given the whole full_pgn entry.\n",
    "    '''\n",
    "    pgn = entry.splitlines()[-1]\n",
    "    return pgn\n",
    "\n",
    "# Add list of moves (string) as a new column to dataframe\n",
    "chess_data['move_list'] = full_pgn.apply(get_moves)\n",
    "\n",
    "# Drop irrelevant columns\n",
    "chess_data = chess_data.drop(['white_id', 'black_id', 'white_result', 'black_result', 'rules'], axis=1)"
   ]
  },
  {
   "attachments": {},
   "cell_type": "markdown",
   "metadata": {},
   "source": [
    "### Processing data and adding information"
   ]
  },
  {
   "attachments": {},
   "cell_type": "markdown",
   "metadata": {},
   "source": [
    "#### Checks every game for ones that have potential en-passant moves\n",
    "- Gets whether a game has an en-passant opportunity\n",
    "- Gets whether the said en passant move was played\n",
    "- Gets the colour of the player that has the e.p. opportunity"
   ]
  },
  {
   "cell_type": "code",
   "execution_count": 7,
   "metadata": {},
   "outputs": [
    {
     "name": "stdout",
     "output_type": "stream",
     "text": [
      "INFO: Pandarallel will run on 6 workers.\n",
      "INFO: Pandarallel will use Memory file system to transfer data between the main process and workers.\n",
      "76.95688438415527\n"
     ]
    }
   ],
   "source": [
    "def check_pgn(df_row):\n",
    "    import io\n",
    "    import chess\n",
    "    import chess.pgn\n",
    "    \n",
    "    '''\n",
    "    Checks PGN for whether opportunity for EP happened in the game.\n",
    "    '''\n",
    "    \n",
    "    pgn_file = io.StringIO(df_row[\"pgn\"])   # PGN as a file\n",
    "    game = chess.pgn.read_game(pgn_file)    # Read PGN and put into game\n",
    "    board = game.board()                    # \"board\" of a game\n",
    "    # pre-initialise df_row values\n",
    "    precheck = False\n",
    "    moved = False\n",
    "    move_colour = \"\"\n",
    "\n",
    "    # comparison sets when checking move piece\n",
    "    ep_set = set([\"ax\",\"bx\",\"cx\",\"dx\",\"ex\",\"fx\",\"gx\", \"hx\"])\n",
    "    check_set = set(\"abcdefgh\")\n",
    "    \n",
    "    # Find only pawn moves in game\n",
    "    for board_move in game.mainline():\n",
    "        move = board_move.move\n",
    "        san = board.san(move)\n",
    "        turn = board.turn\n",
    "        move_piece = san[0]\n",
    "        # check if precheck was flagged in previous move\n",
    "        if precheck:\n",
    "            # print(board_move.clock())\n",
    "            # get first 2 letters, and compare to a set\n",
    "            move_ep_piece = san[:2]\n",
    "            if move_ep_piece in ep_set:\n",
    "                # check if e.p. actually happened\n",
    "                moved = board.is_en_passant(move)\n",
    "            # break out for loop, no need to check further\n",
    "            break\n",
    "        \n",
    "        # if the move was a pawn (lower case)\n",
    "        if move_piece in check_set:\n",
    "            # Push the move before checking the board\n",
    "            board.push(move)\n",
    "            # check if the next move can be en passant\n",
    "            precheck = board.has_legal_en_passant()\n",
    "            # if precheck is true then set the turn\n",
    "            if precheck:\n",
    "                if turn:\n",
    "                    move_colour = 'Black'\n",
    "                else:\n",
    "                    move_colour = 'White'\n",
    "        # if the move wasn't a pawn then just continue as normal\n",
    "        else:\n",
    "            board.push(move)\n",
    "    \n",
    "    # set row values\n",
    "    df_row[\"ep_opportunity\"] = precheck\n",
    "    df_row[\"ep_happened\"] = moved\n",
    "    df_row[\"ep_colour\"] = move_colour\n",
    "    return df_row\n",
    "\n",
    "chess_filter = chess_data.copy(deep=True)\n",
    "# chess_filter = chess_data[chess_data[\"time_class\"] != \"daily\"].sample(100).copy(deep=True)\n",
    "pandarallel.initialize()\n",
    "\n",
    "start = time.time()\n",
    "# apply e.p. finding function\n",
    "try:\n",
    "    chess_filter = chess_filter.parallel_apply(check_pgn, axis=1)\n",
    "except:\n",
    "    chess_filter = chess_filter.apply(check_pgn, axis=1)\n",
    "end = time.time()\n",
    "print(end - start)"
   ]
  },
  {
   "attachments": {},
   "cell_type": "markdown",
   "metadata": {},
   "source": [
    "#### Filter out games that don't have en-passant opportunity"
   ]
  },
  {
   "cell_type": "code",
   "execution_count": 8,
   "metadata": {},
   "outputs": [
    {
     "name": "stdout",
     "output_type": "stream",
     "text": [
      "5074\n",
      "1563\n"
     ]
    }
   ],
   "source": [
    "chess_filter = chess_filter[chess_filter['ep_opportunity'] == True]\n",
    "chess_filter = chess_filter.drop(['ep_opportunity'], axis=1)\n",
    "chess_filter = chess_filter.reset_index(drop=True)\n",
    "print(len(chess_filter))\n",
    "print(len(chess_filter[chess_filter['ep_happened'] == True]))\n",
    "# print(chess_filter[\"move_list\"].sample(50).head(20))"
   ]
  },
  {
   "attachments": {},
   "cell_type": "markdown",
   "metadata": {},
   "source": [
    "#### Get the time taken to respond to an en-passant pawn move"
   ]
  },
  {
   "cell_type": "code",
   "execution_count": 9,
   "metadata": {},
   "outputs": [
    {
     "name": "stdout",
     "output_type": "stream",
     "text": [
      "INFO: Pandarallel will run on 6 workers.\n",
      "INFO: Pandarallel will use Memory file system to transfer data between the main process and workers.\n",
      "4.425953149795532\n"
     ]
    }
   ],
   "source": [
    "\n",
    "def check_times(df_row):\n",
    "    import io\n",
    "    import chess\n",
    "    import chess.pgn\n",
    "    \n",
    "    '''\n",
    "    Checks PGN for whether opportunity for EP happened in the game.\n",
    "    '''\n",
    "    # print(df_row[\"move_list\"])\n",
    "    pgn_file = io.StringIO(df_row[\"pgn\"])   # PGN as a file\n",
    "    game = chess.pgn.read_game(pgn_file)    # Read PGN and put into game\n",
    "    board = game.board()                    # \"board\" of a game\n",
    "    # pre-initialise df_row values\n",
    "    precheck = False\n",
    "\n",
    "    # comparison sets when checking move piece\n",
    "    check_set = set(\"abcdefgh\")\n",
    "    \n",
    "    rolling_white_time = [0,0]\n",
    "    rolling_black_time = [0,0]\n",
    "    \n",
    "    # Find only pawn moves in game\n",
    "    for board_move in game.mainline():\n",
    "        # print(board_move.clock())\n",
    "        if board.turn:\n",
    "            rolling_white_time = [board_move.clock(), rolling_white_time[0]]\n",
    "            # print(rolling_white_time)\n",
    "        else:\n",
    "            rolling_black_time = [board_move.clock(), rolling_black_time[0]]\n",
    "            # print(rolling_black_time)\n",
    "        \n",
    "        move = board_move.move\n",
    "        san = board.san(move)\n",
    "        move_piece = san[0]\n",
    "        # check if precheck was flagged in previous move\n",
    "        if precheck:\n",
    "            # print(board_move.clock())\n",
    "            # get first 2 letters, and compare to a set\n",
    "            norm = df_row[\"time_control\"]\n",
    "\n",
    "            if board.turn:\n",
    "                df_row[\"time_taken\"] = (rolling_white_time[1] - rolling_white_time[0])/float(norm)\n",
    "            else:\n",
    "                df_row[\"time_taken\"] = (rolling_black_time[1] - rolling_black_time[0])/float(norm)\n",
    "            # print(df_row)\n",
    "            return df_row\n",
    "        \n",
    "        # if the move was a pawn (lower case)\n",
    "        # print(move_piece)\n",
    "        if move_piece in check_set:\n",
    "            # Push the move before checking the board\n",
    "            board.push(move)\n",
    "            # check if the next move can be en passant\n",
    "            precheck = board.has_legal_en_passant()\n",
    "            # print(precheck)\n",
    "            # if precheck is true then set the turn\n",
    "        # if the move wasn't a pawn then just continue as normal\n",
    "        else:\n",
    "            board.push(move)\n",
    "    return df_row\n",
    "\n",
    "# parallel processing\n",
    "pandarallel.initialize()\n",
    "\n",
    "start = time.time()\n",
    "\n",
    "# if device supports parallel processing then apply, else use regular apply\n",
    "try:\n",
    "    chess_filter = chess_filter.parallel_apply(check_times, axis=1)\n",
    "except:\n",
    "    chess_filter = chess_filter.apply(check_times, axis=1)\n",
    "end = time.time()\n",
    "print(end - start)"
   ]
  },
  {
   "attachments": {},
   "cell_type": "markdown",
   "metadata": {},
   "source": [
    "#### Stockfish Evaluation to get evaluations of board choices\n",
    "- Gets the evaluation before an ep opportunity\n",
    "- Gets the evaluation of the best move calculated by Stockfish\n",
    "- Gets the evaluation of the (best) en passant move calculated by Stockfish"
   ]
  },
  {
   "cell_type": "code",
   "execution_count": 10,
   "metadata": {},
   "outputs": [
    {
     "name": "stdout",
     "output_type": "stream",
     "text": [
      "5074\n"
     ]
    }
   ],
   "source": [
    "import stockfish_eval\n",
    "importlib.reload(stockfish_eval);\n",
    "\n",
    "def stockfish_analyse_board(df_row, board, move):\n",
    "    '''\n",
    "    Gets a stockfish evaluation of the best move played, if e.p. is played,\n",
    "    and the stockfish evaluation of the player's move\n",
    "    \n",
    "    Returns the pre-move evaluation, evaluation of best move, evaluation\n",
    "    of (best) en passant move, evaluation of players move. evals are an absolute\n",
    "    value so the same for both sides, and calculated as the difference from the pre-move\n",
    "\n",
    "    '''\n",
    "    \n",
    "    # initialise stockfish\n",
    "    fish_eval = stockfish_eval.StockfishEval(fish, board, df_row[\"ep_colour\"])\n",
    "\n",
    "    # reset fen to board position\n",
    "    fish_eval.reset_fen()\n",
    "    \n",
    "    # set the player move class variable\n",
    "    fish_eval.set_player_move(move)\n",
    "    # get pre-move stockfish evaluation of board\n",
    "    pre_eval = fish_eval.evaluate_board()[\"value\"]\n",
    "    \n",
    "    # get the best move and store in class variable\n",
    "    fish_eval.find_best_move()\n",
    "    \n",
    "    # find adjacent squares to pawn move\n",
    "    fish_eval.find_adj_squares()\n",
    "    # find if square is on a left bound (A file) or right bound (H file)\n",
    "    fish_eval.find_bounds()\n",
    "    # find if each valid square is also a valid (opposing) pawn\n",
    "    fish_eval.find_valid_pawns()\n",
    "\n",
    "    # find a fen representation of each move\n",
    "    fish_eval.find_ep_moves()\n",
    "        \n",
    "    \n",
    "    move_list = fish_eval.get_movelist()\n",
    "    # should end up with move_list class variable in the following configs\n",
    "    \n",
    "    # | best_move | player_move | ep_move_left | ep_move_right|\n",
    "    # |===========|=============|==============|==============|\n",
    "    # |   move    |    move     |     move     |     move     |\n",
    "    # |   move    |    move     |     ----     |     move     |\n",
    "    # |   move    |    move     |     move     |     ----     |\n",
    "    \n",
    "    # get the evaluation of the best move, and absolute advantage\n",
    "    best_eval = fish_eval.evaluate_move(move_list[\"best_move\"])\n",
    "    best_difference = fish_eval.get_abs_advantage(best_eval, pre_eval)\n",
    "    \n",
    "    \n",
    "    # lookup table of en-passant moves\n",
    "    ep_moves = [move_list[\"ep_move_left\"], move_list[\"ep_move_right\"]]\n",
    "    # if the best move is also an en-passant\n",
    "    \n",
    "    if move_list[\"best_move\"] in ep_moves:\n",
    "        # set the ep_eval to best val. This is for consistency because\n",
    "        # stockfish returns a different evaluation each time you run a move\n",
    "        \n",
    "        ep_eval = best_eval\n",
    "        ep_difference = best_difference\n",
    "    else:\n",
    "        # if it's different, then evaluate e.p. move separately\n",
    "        # evaluate_en_passants() finds evaluation for both moves,\n",
    "        # and returns the maximum value i.e. the better e.p. move\n",
    "        ep_eval = fish_eval.evaluate_en_passants()\n",
    "        ep_difference = fish_eval.get_abs_advantage(ep_eval, pre_eval)\n",
    "    \n",
    "    \n",
    "    # if the player move is the best move\n",
    "    if fish_eval.get_movelist()[\"best_move\"] == move:\n",
    "        # same thing as en-passant\n",
    "        best_eval = best_eval\n",
    "        player_difference = best_difference\n",
    "    else:\n",
    "        player_eval = fish_eval.evaluate_move(move_list[\"player_move\"])\n",
    "        player_difference = fish_eval.get_abs_advantage(player_eval, pre_eval)\n",
    "    \n",
    "    return [pre_eval, best_difference, ep_difference, player_difference]\n",
    "\n",
    "def get_advantage(df_row):\n",
    "    '''\n",
    "    Get stockfish evaluations for a given game. For a dataframe row,\n",
    "    sets columns \"pre_state\", \"state_best\", \"state_ep\", \"state_player\"\n",
    "    '''\n",
    "    \n",
    "    # pawn lookup set\n",
    "    check_set = set(\"abcdefgh\")\n",
    "    # print(df_row.name)\n",
    "    \n",
    "    # initialise board\n",
    "    pgn_file = io.StringIO(df_row[\"pgn\"])   # PGN as a file\n",
    "    game = chess.pgn.read_game(pgn_file)    # Read PGN and put into game\n",
    "    board = game.board()                    # \"board\" of a game\n",
    "\n",
    "    # e.p. check\n",
    "    precheck = False\n",
    "    \n",
    "    # initialise vars\n",
    "    pre_eval = 0\n",
    "    best_eval = 0\n",
    "    ep_eval = 0\n",
    "    player_eval = 0\n",
    "    \n",
    "    # iterate over every move in a game\n",
    "    for move in game.mainline_moves():\n",
    "        # representation of a move\n",
    "        san = board.san(move)\n",
    "        move_piece = san[0]\n",
    "\n",
    "        # check if precheck was flagged in previous move\n",
    "        if precheck:\n",
    "            # reset to not flag final move precheck edge case \n",
    "            precheck = False\n",
    "\n",
    "            # analyse board\n",
    "            values = stockfish_analyse_board(df_row, board, str(move))\n",
    "            # print(values)\n",
    "            # set values\n",
    "            pre_eval = values[0]\n",
    "            best_eval = values[1]\n",
    "            ep_eval = values[2]\n",
    "            player_eval = values[3]\n",
    "            # break out of for loop since we have all values\n",
    "            break\n",
    "            \n",
    "            \n",
    "        # if the move was a pawn (lower case)\n",
    "        if move_piece in check_set:\n",
    "            # Push the move before checking the board\n",
    "            board.push(move)\n",
    "            # check if the next move can be en passant\n",
    "            precheck = board.has_legal_en_passant()\n",
    "        # if the move wasn't a pawn then just continue as normal\n",
    "        else:\n",
    "            board.push(move)\n",
    "\n",
    "    # edge case where the final move was pawn 2 space, and there is no next\n",
    "    # move to run stockfish_analyse_board. In this case just return NA\n",
    "    # since there was no best move to compare to if the game has ended\n",
    "    if precheck:\n",
    "        pre_eval = pd.NA\n",
    "        best_eval = pd.NA\n",
    "        ep_eval = pd.NA\n",
    "        player_eval = pd.NA\n",
    "    \n",
    "    # set dataframe values\n",
    "    df_row[\"pre_state\"] = pre_eval     # pre-moved stockfish eval\n",
    "    df_row[\"state_best\"] = best_eval  # stockfish eval if best move\n",
    "    df_row[\"state_ep\"] = ep_eval\n",
    "    df_row[\"state_player\"] = player_eval\n",
    "    # print(df_row[\"pgn\"])\n",
    "    return df_row\n",
    "\n",
    "print(len(chess_filter))\n",
    "# get_advantage(chess_filter.iloc[486])\n",
    "chess_filter = chess_filter.apply(get_advantage, axis=1)"
   ]
  },
  {
   "cell_type": "code",
   "execution_count": 11,
   "metadata": {},
   "outputs": [
    {
     "name": "stdout",
     "output_type": "stream",
     "text": [
      "  ep_colour  ep_happened                                                fen  \\\n",
      "0     White        False  r4k2/1p3r2/p2p2n1/2pPp3/2P1P1b1/1P2b1P1/P3NR1P...   \n",
      "\n",
      "                                           move_list  \\\n",
      "0  1. d4 {[%clk 0:10:00]} 1... c5 {[%clk 0:09:58....   \n",
      "\n",
      "                                                 pgn  rated time_class  \\\n",
      "0  [Event \"Live Chess\"]\\n[Site \"Chess.com\"]\\n[Dat...   True      rapid   \n",
      "\n",
      "  time_control  time_taken pre_state state_best state_ep state_player  \\\n",
      "0          600    0.013667       277          7      -40            7   \n",
      "\n",
      "   player_rating username  \n",
      "0           1498   -basu-  \n"
     ]
    }
   ],
   "source": [
    "# the only player that matters is the one with e.p. opportunity\n",
    "# so discard the rest\n",
    "\n",
    "def get_player_stats(df_row):\n",
    "    '''\n",
    "    returns the player with e.p. opportunity's ELO and username.\n",
    "    Also deletes the hanging username/rating fields for both sides.\n",
    "    '''\n",
    "    \n",
    "    try:\n",
    "        a = df_row[\"white_rating\"]\n",
    "    except:\n",
    "        return df_row\n",
    "    \n",
    "    # binary check\n",
    "    col = df_row[\"ep_colour\"]\n",
    "    if col == \"White\":\n",
    "        elo = df_row[\"white_rating\"]\n",
    "        user = df_row[\"white_username\"]\n",
    "    else:\n",
    "        elo = df_row[\"black_rating\"]\n",
    "        user = df_row[\"black_username\"]\n",
    "    \n",
    "    # set new fields\n",
    "    df_row[\"player_rating\"] = elo\n",
    "    df_row[\"username\"] = user\n",
    "    \n",
    "    # drop fields\n",
    "    df_row = df_row.drop([\"white_username\", \"black_username\"])\n",
    "    df_row = df_row.drop([\"white_rating\", \"black_rating\"])\n",
    "    return df_row\n",
    "\n",
    "chess_filter = chess_filter.apply(get_player_stats, axis=1)\n",
    "\n",
    "print(chess_filter.head(1))"
   ]
  },
  {
   "attachments": {},
   "cell_type": "markdown",
   "metadata": {},
   "source": [
    "### Applying PCA\n"
   ]
  },
  {
   "cell_type": "markdown",
   "metadata": {},
   "source": [
    "#### Normal distribution of player ELO"
   ]
  },
  {
   "cell_type": "code",
   "execution_count": 12,
   "metadata": {},
   "outputs": [
    {
     "name": "stdout",
     "output_type": "stream",
     "text": [
      "standard deviation: 399.3739962372178\n",
      "mean: 1240.5744974379188\n"
     ]
    },
    {
     "data": {
      "image/png": "[encoded data removed]",
      "text/plain": [
       "<Figure size 360x360 with 1 Axes>"
      ]
     },
     "metadata": {
      "needs_background": "light"
     },
     "output_type": "display_data"
    }
   ],
   "source": [
    "# get mean and std\n",
    "mean = chess_filter[\"player_rating\"].mean()\n",
    "std = chess_filter[\"player_rating\"].std()\n",
    "\n",
    "# display normal distribution\n",
    "fhgt_hist = sns.displot(chess_filter[\"player_rating\"], kde = False, bins = 15)\n",
    "\n",
    "print(\"standard deviation: \" + str(std))\n",
    "print(\"mean: \" + str(mean))"
   ]
  },
  {
   "cell_type": "code",
   "execution_count": 94,
   "metadata": {},
   "outputs": [],
   "source": [
    "def group_elo_tens(df_row):\n",
    "    '''Rounds a player's ELO to the nearest 10 and create a new field for it'''    \n",
    "    \n",
    "    df_row[\"elo_class_tens\"] = int(math.ceil(df_row[\"player_rating\"] / 10.0)) * 10\n",
    "    return df_row\n",
    "\n",
    "def divider(df_row):\n",
    "    '''Divides the amount of times en passant happened in an ELO class by\n",
    "    the total number of en passant opportunities'''\n",
    "    \n",
    "    df_row[\"quotient\"] = df_row[\"instances\"] / df_row[\"total\"]\n",
    "    return df_row\n",
    "\n",
    "def apply_quotient(df_row):\n",
    "    '''For each row, store the probability of someone in\n",
    "    their rounded elo class playing en-passant'''\n",
    "    \n",
    "    num = df_row[\"elo_class_tens\"]\n",
    "    \n",
    "    # get probability from separate grouped dataframe\n",
    "    quot = temptation_quotient.loc[num][\"quotient\"]\n",
    "    df_row[\"quotient\"] = quot\n",
    "    return df_row\n",
    "\n",
    "def temptation(df_row):\n",
    "    '''For a board state, get the en-passant temptation of said state'''\n",
    "    \n",
    "    # arbritrary constant\n",
    "    const = 220\n",
    "    temptation = -1*(np.exp((df_row[\"state_best\"] - df_row[\"state_ep\"])/const)+1)\n",
    "    \n",
    "    # if division by zero just exclude\n",
    "    if (df_row[\"state_best\"] == 0):\n",
    "        df_row[\"temptation\"] = pd.NA\n",
    "    else:\n",
    "        df_row[\"temptation\"] = temptation\n",
    "    return df_row\n",
    "\n",
    "def group_elo_stds(df_row):\n",
    "    '''Group a player's ELO in larger ELO class for PCA and KNN predictions'''\n",
    "    \n",
    "    elo = df_row[\"player_rating\"]\n",
    "    if elo <= 1050: # approx (mean - std)\n",
    "        df_row[\"elo_class\"] = 1 # \"Low ELO: 0 - ~1000\"\n",
    "    elif elo <= 1400: # approx (mean + std)\n",
    "        df_row[\"elo_class\"] = 2 # \"Average ELO: ~1000 - ~1400\"\n",
    "    else:\n",
    "        df_row[\"elo_class\"] = 3 # \"High ELO: ~1400+\"\n",
    "    return df_row\n",
    "\n",
    "# copy chess filter\n",
    "temptation_data = chess_filter.copy(deep=True)\n",
    "\n",
    "# Group data by 10s\n",
    "temptation_data = temptation_data.apply(group_elo_tens, axis=1)\n",
    "\n",
    "# total amount of a group has a potential e.p. move\n",
    "temptation_totals = temptation_data.groupby('elo_class_tens').size().rename(\"total\")\n",
    "# amount of times a group actually made the e.p. move\n",
    "temptation_instances = temptation_data.groupby('elo_class_tens')['ep_happened'].sum().rename(\"instances\")\n",
    "\n",
    "# get quotient\n",
    "temptation_quotient = pd.concat([temptation_instances, temptation_totals], axis=1)\n",
    "temptation_quotient = temptation_quotient.apply(divider, axis=1)\n",
    "\n",
    "# apply quotient and temptation to main dataframe\n",
    "temptation_data = temptation_data.dropna()\n",
    "temptation_data = temptation_data.apply(apply_quotient, axis=1)\n",
    "temptation_data = temptation_data.apply(temptation, axis=1)\n",
    "temptation_data = temptation_data.dropna()\n",
    "\n",
    "# main elo class grouping\n",
    "temptation_data = temptation_data.apply(group_elo_stds, axis=1)\n",
    "\n",
    "# filter out any entries with negative time taken (for some reason there are some)\n",
    "temptation_data = temptation_data[temptation_data[\"time_taken\"] > 0]\n",
    "\n",
    "# filter out crazy high temptations\n",
    "temptation_data = temptation_data[temptation_data[\"temptation\"] > -500]\n",
    "temptation_data = temptation_data[temptation_data[\"temptation\"] <= 500]\n",
    "    # return temptation_data\n",
    "\n",
    "# Save for later function tempting(n)\n",
    "save_temptation_data = temptation_data.copy(deep=True)\n",
    "\n",
    "# temptation_data = make_temptation_dataframe()\n",
    "temp_clone = temptation_data.copy(deep=True)"
   ]
  },
  {
   "cell_type": "code",
   "execution_count": 95,
   "metadata": {},
   "outputs": [
    {
     "name": "stdout",
     "output_type": "stream",
     "text": [
      "1545\n",
      "1566\n",
      "1650\n"
     ]
    }
   ],
   "source": [
    "print(len(save_temptation_data[save_temptation_data[\"elo_class\"] == 1]))\n",
    "print(len(save_temptation_data[save_temptation_data[\"elo_class\"] == 2]))\n",
    "print(len(save_temptation_data[save_temptation_data[\"elo_class\"] == 3]))"
   ]
  },
  {
   "cell_type": "markdown",
   "metadata": {},
   "source": [
    "#### Reason for ELO grouping to classify probability"
   ]
  },
  {
   "cell_type": "code",
   "execution_count": 96,
   "metadata": {},
   "outputs": [
    {
     "name": "stdout",
     "output_type": "stream",
     "text": [
      "ELO grouping\n",
      "standard deviation: 17.943348185429162\n",
      "mean: 22.352422907488986\n",
      "\n",
      "username grouping\n",
      "standard deviation: 4.036735195470273\n",
      "mean: 1.7370763437179049\n"
     ]
    },
    {
     "data": {
      "image/png": "[encoded data removed]",
      "text/plain": [
       "<Figure size 360x360 with 1 Axes>"
      ]
     },
     "metadata": {
      "needs_background": "light"
     },
     "output_type": "display_data"
    },
    {
     "data": {
      "image/png": "[encoded data removed]",
      "text/plain": [
       "<Figure size 360x360 with 1 Axes>"
      ]
     },
     "metadata": {
      "needs_background": "light"
     },
     "output_type": "display_data"
    }
   ],
   "source": [
    "# mini clone of make_temptation_dataframe()\n",
    "temptation_data_2 = chess_filter.copy(deep=True)\n",
    "\n",
    "# Group data by 10s\n",
    "temptation_data_2 = temptation_data_2.apply(group_elo_tens, axis=1)\n",
    "\n",
    "# total amount of a group has a potential e.p. move\n",
    "temptation_totals = temptation_data_2.groupby('elo_class_tens').size().rename(\"total\")\n",
    "# amount of times a group actually made the e.p. move\n",
    "temptation_instances = temptation_data_2.groupby('elo_class_tens')['ep_happened'].sum().rename(\"instances\")\n",
    "\n",
    "# data for groups of 10\n",
    "mean = temptation_totals.mean()\n",
    "std = temptation_totals.std()\n",
    "fhgt_hist = sns.displot(temptation_totals, kde = False, bins = 15)\n",
    "print(\"ELO grouping\")\n",
    "print(\"standard deviation: \" + str(std))\n",
    "print(\"mean: \" + str(mean))\n",
    "print()\n",
    "\n",
    "# data for groups of username\n",
    "username_totals = temptation_data_2.groupby('username').size().rename(\"total\")\n",
    "\n",
    "mean = username_totals.mean()\n",
    "std = username_totals.std()\n",
    "\n",
    "fhgt_hist = sns.displot(username_totals, kde = False, bins = 15)\n",
    "\n",
    "print(\"username grouping\")\n",
    "print(\"standard deviation: \" + str(std))\n",
    "print(\"mean: \" + str(mean))"
   ]
  },
  {
   "cell_type": "markdown",
   "metadata": {},
   "source": [
    "#### Graph of temptation against probability"
   ]
  },
  {
   "cell_type": "code",
   "execution_count": 97,
   "metadata": {},
   "outputs": [
    {
     "data": {
      "text/plain": [
       "Text(0.5, 1.0, 'Charting Temptation of an EP move against probability')"
      ]
     },
     "execution_count": 97,
     "metadata": {},
     "output_type": "execute_result"
    },
    {
     "data": {
      "image/png": "[encoded data removed]",
      "text/plain": [
       "<Figure size 432x288 with 1 Axes>"
      ]
     },
     "metadata": {
      "needs_background": "light"
     },
     "output_type": "display_data"
    }
   ],
   "source": [
    "elo_class_display = temptation_data[\"elo_class\"].replace({\n",
    "    1: \"0 - 1000\",\n",
    "    2: \"1001 - 1250\",\n",
    "    3: \"1250 - 1600\",\n",
    "    4: \"1600+\"\n",
    "})\n",
    "\n",
    "ax1 = sns.scatterplot(x=temptation_data[\"temptation\"], y=temptation_data[\"quotient\"], \n",
    "                hue=elo_class_display, palette=\"colorblind\", hue_order=['0 - 1000', '1001 - 1250', '1250 - 1600', \"1600+\"])\n",
    "sns.move_legend(ax1, title='Elo Class', loc='best')\n",
    "ax1.set_xlabel('Temptation')\n",
    "ax1.set_ylabel('Probability of a player in ELO class making the move')\n",
    "ax1.set_title('Charting Temptation of an EP move against probability')"
   ]
  },
  {
   "cell_type": "code",
   "execution_count": 124,
   "metadata": {},
   "outputs": [
    {
     "name": "stdout",
     "output_type": "stream",
     "text": [
      "     sepal length (cm)  sepal width (cm)  petal length (cm)  petal width (cm)  \\\n",
      "25                 5.0               3.0                1.6               0.2   \n",
      "38                 4.4               3.0                1.3               0.2   \n",
      "32                 5.2               4.1                1.5               0.1   \n",
      "30                 4.8               3.1                1.6               0.2   \n",
      "124                6.7               3.3                5.7               2.1   \n",
      "63                 6.1               2.9                4.7               1.4   \n",
      "85                 6.0               3.4                4.5               1.6   \n",
      "31                 5.4               3.4                1.5               0.4   \n",
      "71                 6.1               2.8                4.0               1.3   \n",
      "3                  4.6               3.1                1.5               0.2   \n",
      "123                6.3               2.7                4.9               1.8   \n",
      "18                 5.7               3.8                1.7               0.3   \n",
      "98                 5.1               2.5                3.0               1.1   \n",
      "28                 5.2               3.4                1.4               0.2   \n",
      "96                 5.7               2.9                4.2               1.3   \n",
      "68                 6.2               2.2                4.5               1.5   \n",
      "19                 5.1               3.8                1.5               0.3   \n",
      "100                6.3               3.3                6.0               2.5   \n",
      "47                 4.6               3.2                1.4               0.2   \n",
      "64                 5.6               2.9                3.6               1.3   \n",
      "12                 4.8               3.0                1.4               0.1   \n",
      "62                 6.0               2.2                4.0               1.0   \n",
      "102                7.1               3.0                5.9               2.1   \n",
      "53                 5.5               2.3                4.0               1.3   \n",
      "81                 5.5               2.4                3.7               1.0   \n",
      "107                7.3               2.9                6.3               1.8   \n",
      "36                 5.5               3.5                1.3               0.2   \n",
      "48                 5.3               3.7                1.5               0.2   \n",
      "55                 5.7               2.8                4.5               1.3   \n",
      "112                6.8               3.0                5.5               2.1   \n",
      "54                 6.5               2.8                4.6               1.5   \n",
      "93                 5.0               2.3                3.3               1.0   \n",
      "97                 6.2               2.9                4.3               1.3   \n",
      "105                7.6               3.0                6.6               2.1   \n",
      "142                5.8               2.7                5.1               1.9   \n",
      "39                 5.1               3.4                1.5               0.2   \n",
      "41                 4.5               2.3                1.3               0.3   \n",
      "9                  4.9               3.1                1.5               0.1   \n",
      "148                6.2               3.4                5.4               2.3   \n",
      "129                7.2               3.0                5.8               1.6   \n",
      "\n",
      "     target  \n",
      "25      0.0  \n",
      "38      0.0  \n",
      "32      0.0  \n",
      "30      0.0  \n",
      "124     2.0  \n",
      "63      1.0  \n",
      "85      1.0  \n",
      "31      0.0  \n",
      "71      1.0  \n",
      "3       0.0  \n",
      "123     2.0  \n",
      "18      0.0  \n",
      "98      1.0  \n",
      "28      0.0  \n",
      "96      1.0  \n",
      "68      1.0  \n",
      "19      0.0  \n",
      "100     2.0  \n",
      "47      0.0  \n",
      "64      1.0  \n",
      "12      0.0  \n",
      "62      1.0  \n",
      "102     2.0  \n",
      "53      1.0  \n",
      "81      1.0  \n",
      "107     2.0  \n",
      "36      0.0  \n",
      "48      0.0  \n",
      "55      1.0  \n",
      "112     2.0  \n",
      "54      1.0  \n",
      "93      1.0  \n",
      "97      1.0  \n",
      "105     2.0  \n",
      "142     2.0  \n",
      "39      0.0  \n",
      "41      0.0  \n",
      "9       0.0  \n",
      "148     2.0  \n",
      "129     2.0  \n"
     ]
    },
    {
     "data": {
      "text/plain": [
       "<seaborn.axisgrid.FacetGrid at 0x7f578ba906a0>"
      ]
     },
     "execution_count": 124,
     "metadata": {},
     "output_type": "execute_result"
    },
    {
     "data": {
      "image/png": "[encoded data removed]",
      "text/plain": [
       "<Figure size 592x360 with 1 Axes>"
      ]
     },
     "metadata": {
      "needs_background": "light"
     },
     "output_type": "display_data"
    }
   ],
   "source": [
    "import numpy as np\n",
    "import pandas as pd\n",
    "from sklearn.datasets import load_iris\n",
    "import seaborn as sns\n",
    "\n",
    "# iris = load_iris()\n",
    "# iris = pd.DataFrame(data=np.c_[iris['data'], iris['target']],\n",
    "#                     columns=iris['feature_names'] + ['target'])\n",
    "print(iris.sample(40))\n",
    "sns.displot(data=iris, x='sepal length (cm)', hue='target', kind='kde', fill=True, palette=sns.color_palette('bright')[:3], height=5, aspect=1.5)"
   ]
  },
  {
   "cell_type": "code",
   "execution_count": 135,
   "metadata": {},
   "outputs": [
    {
     "name": "stdout",
     "output_type": "stream",
     "text": [
      "   temptation  elo_class\n",
      "0   -1.986456        3.0\n",
      "1   -2.000000        3.0\n",
      "2   -2.000000        3.0\n",
      "3   -2.000000        3.0\n",
      "4   -2.000000        2.0\n"
     ]
    },
    {
     "ename": "NameError",
     "evalue": "name 'colorblind' is not defined",
     "output_type": "error",
     "traceback": [
      "\u001b[0;31m---------------------------------------------------------------------------\u001b[0m",
      "\u001b[0;31mNameError\u001b[0m                                 Traceback (most recent call last)",
      "\u001b[0;32m<ipython-input-135-95a341a59594>\u001b[0m in \u001b[0;36m<module>\u001b[0;34m\u001b[0m\n\u001b[1;32m     12\u001b[0m                              columns=[\"temptation\", \"elo_class\"])\n\u001b[1;32m     13\u001b[0m \u001b[0mprint\u001b[0m\u001b[0;34m(\u001b[0m\u001b[0mgrouped_class\u001b[0m\u001b[0;34m.\u001b[0m\u001b[0mhead\u001b[0m\u001b[0;34m(\u001b[0m\u001b[0;34m)\u001b[0m\u001b[0;34m)\u001b[0m\u001b[0;34m\u001b[0m\u001b[0;34m\u001b[0m\u001b[0m\n\u001b[0;32m---> 14\u001b[0;31m \u001b[0max2\u001b[0m \u001b[0;34m=\u001b[0m \u001b[0msns\u001b[0m\u001b[0;34m.\u001b[0m\u001b[0mdisplot\u001b[0m\u001b[0;34m(\u001b[0m\u001b[0mdata\u001b[0m\u001b[0;34m=\u001b[0m\u001b[0mgrouped_class\u001b[0m\u001b[0;34m,\u001b[0m \u001b[0mx\u001b[0m\u001b[0;34m=\u001b[0m\u001b[0;34m'temptation'\u001b[0m\u001b[0;34m,\u001b[0m \u001b[0mhue\u001b[0m\u001b[0;34m=\u001b[0m\u001b[0;34m'elo_class'\u001b[0m\u001b[0;34m,\u001b[0m \u001b[0mkind\u001b[0m\u001b[0;34m=\u001b[0m\u001b[0;34m'kde'\u001b[0m\u001b[0;34m,\u001b[0m \u001b[0mfill\u001b[0m\u001b[0;34m=\u001b[0m\u001b[0;32mTrue\u001b[0m\u001b[0;34m,\u001b[0m \u001b[0mpalette\u001b[0m\u001b[0;34m=\u001b[0m\u001b[0mcolorblind\u001b[0m\u001b[0;34m,\u001b[0m \u001b[0mheight\u001b[0m\u001b[0;34m=\u001b[0m\u001b[0;36m5\u001b[0m\u001b[0;34m,\u001b[0m \u001b[0maspect\u001b[0m\u001b[0;34m=\u001b[0m\u001b[0;36m1.5\u001b[0m\u001b[0;34m)\u001b[0m\u001b[0;34m\u001b[0m\u001b[0;34m\u001b[0m\u001b[0m\n\u001b[0m\u001b[1;32m     15\u001b[0m \u001b[0max2\u001b[0m\u001b[0;34m.\u001b[0m\u001b[0mset\u001b[0m\u001b[0;34m(\u001b[0m\u001b[0mxlim\u001b[0m\u001b[0;34m=\u001b[0m\u001b[0;34m(\u001b[0m\u001b[0;34m-\u001b[0m\u001b[0;36m20\u001b[0m\u001b[0;34m,\u001b[0m \u001b[0;36m0\u001b[0m\u001b[0;34m)\u001b[0m\u001b[0;34m)\u001b[0m\u001b[0;34m\u001b[0m\u001b[0;34m\u001b[0m\u001b[0m\n\u001b[1;32m     16\u001b[0m \u001b[0;34m\u001b[0m\u001b[0m\n",
      "\u001b[0;31mNameError\u001b[0m: name 'colorblind' is not defined"
     ]
    }
   ],
   "source": [
    "# ep_happened_class_1 = temptation_data[temptation_data[\"elo_class\"] == 1].copy(deep=True)\n",
    "# ep_happened_class_2 = temptation_data[temptation_data[\"elo_class\"] == 2].copy(deep=True)\n",
    "# ep_happened_class_3 = temptation_data[temptation_data[\"elo_class\"] == 3].copy(deep=True)\n",
    "# grouped_class_1 = ep_happened_class_1[ep_happened_class_1[\"ep_happened\"] == True].groupby('temptation').size().rename(\"total\")\n",
    "# grouped_class_2 = ep_happened_class_2[ep_happened_class_2[\"ep_happened\"] == True].groupby('temptation').size().rename(\"total\")\n",
    "# grouped_class_3 = ep_happened_class_3[ep_happened_class_3[\"ep_happened\"] == True].groupby('temptation').size().rename(\"total\")\n",
    "# ep_happened_class_1 = ep_happened_total[ep_happened_total[\"elo_class\"] == 1]\n",
    "\n",
    "only_ep = temptation_data[temptation_data[\"ep_happened\"] == True]\n",
    "\n",
    "grouped_class = pd.DataFrame(data=np.c_[only_ep[\"temptation\"], only_ep[\"elo_class\"]],\n",
    "                             columns=[\"temptation\", \"elo_class\"])\n",
    "print(grouped_class.head())\n",
    "ax2 = sns.displot(data=grouped_class, x='temptation', hue='elo_class', kind='kde', fill=True, palette=\"colorblind\", height=5, aspect=1.5)\n",
    "ax2.set(xlim=(-20, 0))\n",
    "\n",
    "# fig, ax2 = plt.subplots()\n",
    "# sns.displot(data=grouped_class_1, x=\"temptation\", kind=\"kde\", ax=ax2)\n",
    "# sns.displot(data=grouped_class_2, x=\"temptation\", kind=\"kde\", ax=ax2)\n",
    "# sns.displot(data=grouped_class_3, x=\"temptation\", kind=\"kde\", ax=ax2)"
   ]
  },
  {
   "cell_type": "markdown",
   "metadata": {},
   "source": [
    "#### Prepare unneccessary columns and set dummy variables for PCA "
   ]
  },
  {
   "cell_type": "code",
   "execution_count": 75,
   "metadata": {},
   "outputs": [
    {
     "name": "stdout",
     "output_type": "stream",
     "text": [
      "ep_happened         int64\n",
      "time_class          int64\n",
      "time_taken        float64\n",
      "state_player        int64\n",
      "elo_class_tens      int64\n",
      "quotient          float64\n",
      "temptation        float64\n",
      "elo_class           int64\n",
      "dtype: object\n"
     ]
    }
   ],
   "source": [
    "def prep_temptation_dataframe(temptation_data):\n",
    "    # Uneccessary columns for PCA\n",
    "    temptation_data = temp_clone.drop(['fen', 'pgn', 'move_list', 'time_control', 'player_rating'], axis=1)\n",
    "    temptation_data = temptation_data.drop(['state_best', 'state_ep', 'pre_state', 'username'], axis=1)\n",
    "\n",
    "    # Dummy variables\n",
    "    temptation_data['ep_happened'] = temptation_data['ep_happened'].replace({True:1, False:0})\n",
    "    temptation_data['ep_colour'] = temptation_data['ep_colour'].replace({'White':1, 'Black':0})\n",
    "    temptation_data['rated'] = temptation_data['rated'].replace({True:1, False:0})\n",
    "    temptation_data['time_class'] = temptation_data['time_class'].replace({'rapid':2, 'blitz':1, 'bullet':0})\n",
    "\n",
    "    # Drop columns that don't contribute to PCA\n",
    "    temptation_data = temptation_data.drop(['rated', 'ep_colour'], axis=1)\n",
    "    return temptation_data\n",
    "\n",
    "temptation_data = prep_temptation_dataframe(temptation_data)\n",
    "print(temptation_data.dtypes) # PCA hyperparameters"
   ]
  },
  {
   "cell_type": "markdown",
   "metadata": {},
   "source": [
    "#### Testing coefficients for exponential model"
   ]
  },
  {
   "cell_type": "code",
   "execution_count": 58,
   "metadata": {},
   "outputs": [
    {
     "name": "stdout",
     "output_type": "stream",
     "text": [
      "220 factor: 0.3588667366211957\n"
     ]
    }
   ],
   "source": [
    "from mpl_toolkits.mplot3d import Axes3D\n",
    "\n",
    "from sklearn.preprocessing import StandardScaler\n",
    "\n",
    "def tempting(n):\n",
    "    \n",
    "    temptation_data = save_temptation_data.copy(deep=True)\n",
    "    temptation_data = prep_temptation_dataframe(temptation_data)\n",
    "    \n",
    "    elo_labels=temptation_data[\"elo_class\"]\n",
    "    elo_features=temptation_data.drop(columns=[\"elo_class\"])\n",
    "\n",
    "    train, test, train_lbl, test_lbl = train_test_split(elo_features, elo_labels, test_size=0.2)\n",
    "\n",
    "    scaler = StandardScaler()\n",
    "    scaler.fit(train)\n",
    "\n",
    "    # Apply transform to both the training set and the test set\n",
    "    train = scaler.transform(train)\n",
    "    test = scaler.transform(test)\n",
    "    # Make an instance of the pca model\n",
    "    pca = PCA(n_components=(len(temptation_data.columns)-1))\n",
    "    pca.fit(train)\n",
    "    # print(pca.explained_variance_ratio_)\n",
    "\n",
    "    # Transform images with pca model\n",
    "    train_result = pca.transform(train)\n",
    "    test_result = pca.transform(test)\n",
    "    # print(train_result)\n",
    "    # Make an instance of knn model\n",
    "\n",
    "    # get the highest accuracy number of neighbours\n",
    "    kns = 0\n",
    "    n_neighbors = 0\n",
    "    for i in range (3,7):\n",
    "        knn = KNeighborsClassifier(i)\n",
    "        knn.fit(train_result, train_lbl)\n",
    "\n",
    "        # Accuracy of knn test\n",
    "        if knn.score(test, test_lbl) > kns:\n",
    "            kns = knn.score(test, test_lbl)\n",
    "            n_neighbors = i\n",
    "\n",
    "    accuracy = 0\n",
    "    for i in range(100):\n",
    "        # print(\"optimal num: \" + str(n_neighbors))\n",
    "        knn = KNeighborsClassifier(n_neighbors)\n",
    "        knn.fit(train_result, train_lbl)\n",
    "        accuracy += knn.score(test, test_lbl)\n",
    "    print(str(n) + \" factor: \" + str(accuracy/100))\n",
    "    \n",
    "    return accuracy/100\n",
    "\n",
    "for i in range(1):\n",
    "    tempting(220)"
   ]
  },
  {
   "cell_type": "code",
   "execution_count": 76,
   "metadata": {},
   "outputs": [
    {
     "name": "stdout",
     "output_type": "stream",
     "text": [
      "[0.27304232 0.18365434 0.1456251  0.1345709  0.11973873 0.10182248\n",
      " 0.04154612]\n",
      "Accuracy: 0.4089238845144357\n"
     ]
    }
   ],
   "source": [
    "elo_labels=temptation_data[\"elo_class\"]\n",
    "elo_features=temptation_data.drop(columns=[\"elo_class\"])\n",
    "\n",
    "train, test, train_lbl, test_lbl = train_test_split(elo_features, elo_labels, stratify=elo_labels, test_size=0.4)\n",
    "\n",
    "scaler = StandardScaler()\n",
    "scaler.fit(train)\n",
    "\n",
    "# Apply transform to both the training set and the test set\n",
    "train = scaler.transform(train)\n",
    "test = scaler.transform(test)\n",
    "\n",
    "# Make an instance of the pca model\n",
    "pca = PCA(n_components=(len(temptation_data.columns)-1))\n",
    "pca.fit(train)\n",
    "print(pca.explained_variance_ratio_)\n",
    "\n",
    "# Transform images with pca model\n",
    "train_result = pca.transform(train)\n",
    "test_result = pca.transform(test)\n",
    "# print(train_result)\n",
    "# Make an instance of knn model\n",
    "\n",
    "# get the highest accuracy number of neighbours\n",
    "kns = 0\n",
    "n_neighbors = 0\n",
    "for i in range (3,7):\n",
    "    knn = KNeighborsClassifier(i)\n",
    "    knn.fit(train_result[:,:2], train_lbl)\n",
    "\n",
    "    # Accuracy of knn test\n",
    "    if knn.score(test[:,:2], test_lbl) > kns:\n",
    "        kns = knn.score(test[:,:2], test_lbl)\n",
    "        n_neighbors = i\n",
    "\n",
    "# knn = KNeighborsClassifier(n_neighbors)\n",
    "# knn.fit(train_result, train_lbl)\n",
    "# accuracy = knn.score(test, test_lbl)\n",
    "# print(accuracy)\n",
    "\n",
    "X_data = train_result[:,:2]\n",
    "y = train_lbl\n",
    "h = .02\n",
    "\n",
    "clf = KNeighborsClassifier(n_neighbors, weights='uniform')\n",
    "clf.fit(X_data, y)\n",
    "accuracy = clf.score(test[:,:2], test_lbl)\n",
    "print(f'Accuracy: {accuracy}')\n",
    "\n",
    "# For k-NN metrics later\n",
    "# test_predictions is the categories the classifier predicted for the test set's data\n",
    "test_predictions = clf.predict(test[:,:2])"
   ]
  },
  {
   "cell_type": "code",
   "execution_count": 78,
   "metadata": {},
   "outputs": [
    {
     "name": "stdout",
     "output_type": "stream",
     "text": [
      "['#0173b2', '#de8f05', '#029e73', '#d55e00', '#cc78bc', '#ca9161', '#fbafe4', '#949494', '#ece133', '#56b4e9']\n"
     ]
    },
    {
     "data": {
      "text/plain": [
       "Text(0, 0.5, 'PC2')"
      ]
     },
     "execution_count": 78,
     "metadata": {},
     "output_type": "execute_result"
    },
    {
     "data": {
      "image/png": "[encoded data removed]",
      "text/plain": [
       "<Figure size 432x288 with 1 Axes>"
      ]
     },
     "metadata": {
      "needs_background": "light"
     },
     "output_type": "display_data"
    }
   ],
   "source": [
    "x_min, x_max = X_data[:, 0].min() - 1, X_data[:, 0].max() + 1\n",
    "y_min, y_max = X_data[:, 1].min() - 1, X_data[:, 1].max() + 1\n",
    "xx, yy = np.meshgrid(np.arange(x_min, x_max, h),\n",
    "np.arange(y_min, y_max, h))\n",
    "Z = clf.predict(np.c_[xx.ravel(), yy.ravel()])\n",
    "Z = Z.reshape(xx.shape)\n",
    "\n",
    "Z = np.array(Z, dtype=float)\n",
    "\n",
    "plt.figure()\n",
    "\n",
    "# Find colour vision deficiency (CVD) accessible colours\n",
    "cmap_1 = ListedColormap(sns.color_palette(\"colorblind\"))\n",
    "print(sns.color_palette(\"colorblind\").as_hex())\n",
    "\n",
    "hex_cols = sns.color_palette(\"colorblind\").as_hex()\n",
    "\n",
    "cols = [\"#158ccc\", \"#e7a838\", \"#0bb888\"]\n",
    "cmap_2 = ListedColormap(cols)\n",
    "\n",
    "# Plot contours using CVD accessible colours\n",
    "plt.contourf(xx, yy, Z, cmap=cmap_2)\n",
    "\n",
    "# Labels for classes\n",
    "train_lbl = train_lbl.replace({\n",
    "    1: \"0 - 1000\",\n",
    "    2: \"1001 - 1250\",\n",
    "    3: \"1250 - 1600\"\n",
    "})\n",
    "\n",
    "# Plot data\n",
    "ax2 = sns.scatterplot(x=X_data[:, 0], y=X_data[:, 1], hue=train_lbl,\n",
    "palette=\"colorblind\", alpha=1.0, edgecolor=\"black\", hue_order=['0 - 1000', '1001 - 1250', '1250 - 1600'])\n",
    "sns.move_legend(ax2, title='Elo Class', loc='best')\n",
    "\n",
    "# Set graph dimensions\n",
    "ax2.set_xlim(xx.min(), xx.max())\n",
    "ax2.set_ylim(yy.min(), yy.max())\n",
    "\n",
    "# Label axes\n",
    "ax2.set_title(\"k-Nearest Neighbours of PCA Graph\")\n",
    "ax2.set_xlabel(\"PC1\")\n",
    "ax2.set_ylabel(\"PC2\")"
   ]
  },
  {
   "cell_type": "code",
   "execution_count": 20,
   "metadata": {},
   "outputs": [
    {
     "data": {
      "image/png": "[encoded data removed]",
      "text/plain": [
       "<Figure size 432x288 with 1 Axes>"
      ]
     },
     "metadata": {
      "needs_background": "light"
     },
     "output_type": "display_data"
    }
   ],
   "source": [
    "PC_values = np.arange(pca.n_components_) + 1\n",
    "plt.plot(PC_values, pca.explained_variance_ratio_, 'o-', linewidth=2, color=hex_cols[0])\n",
    "plt.title('Scree Plot of most significant principle components')\n",
    "plt.xlabel('Principal Component')\n",
    "plt.ylabel('Variance Explained')\n",
    "plt.show()"
   ]
  },
  {
   "cell_type": "code",
   "execution_count": 44,
   "metadata": {},
   "outputs": [
    {
     "name": "stdout",
     "output_type": "stream",
     "text": [
      "Confusion matrix:\n",
      "    Predicted\n",
      "    1   2   3\n",
      "[[  0   0   0   0]\n",
      " [276 464 408 162]\n",
      " [ 58 119 183 115]\n",
      " [ 13  41  44  22]]\n",
      "Precision score:  0.5878329445250492\n",
      "Recall score:  0.35118110236220473\n",
      "F1 score:  0.41879595840350736\n",
      "Accuracy:  0.35118110236220473\n",
      "Sensitivity of 1:  0.0\n",
      "Sensitivity of 2:  0.7958833619210978\n",
      "Sensitivity of 3:  0.3096446700507614\n"
     ]
    },
    {
     "name": "stderr",
     "output_type": "stream",
     "text": [
      "/afs/inf.ed.ac.uk/user/s22/s2202694/.local/lib/python3.8/site-packages/sklearn/metrics/_classification.py:1344: UndefinedMetricWarning: Recall is ill-defined and being set to 0.0 in labels with no true samples. Use `zero_division` parameter to control this behavior.\n",
      "  _warn_prf(average, modifier, msg_start, len(result))\n"
     ]
    }
   ],
   "source": [
    "from sklearn.metrics import confusion_matrix\n",
    "from sklearn.metrics import precision_score\n",
    "from sklearn.metrics import recall_score\n",
    "from sklearn.metrics import f1_score\n",
    "from sklearn.metrics import accuracy_score\n",
    "\n",
    "\n",
    "#LILA\n",
    "# Documentation for confusion matrix:https://scikit-learn.org/stable/modules/generated/sklearn.metrics.confusion_matrix.html\n",
    "# Link for interpreting confusion matrix output: https://stats.stackexchange.com/questions/318780/how-to-understand-confusion-matrix-for-3x3\n",
    "\n",
    "# Actual is the y-axis on confusion matrix for 1, 2, 3 going downwards\n",
    "confusion = confusion_matrix(test_predictions, test_lbl)\n",
    "print('Confusion matrix:\\n    Predicted\\n    1   2   3')\n",
    "print(confusion_matrix(test_predictions, test_lbl))\n",
    "print('Precision score: ', precision_score(test_predictions, test_lbl, average='weighted')) # LILA CHECK THIS IS MEANT TO BE WEIGHTED AND NOT ONE OF THE OTHER CRITERIA\n",
    "print('Recall score: ', recall_score(test_predictions, test_lbl, average='weighted'))\n",
    "print('F1 score: ', f1_score(test_predictions, test_lbl, average='weighted'))\n",
    "print('Accuracy: ', accuracy_score(test_predictions, test_lbl))\n",
    "\n",
    "def sensitivity(TP, FN):\n",
    "    '''Returns sensitivity of a class given the number of its true positives TP and false negatives FN.'''\n",
    "    return TP / (TP + FN)\n",
    "\n",
    "def selectivity(TN, FP):\n",
    "    '''Returns selectivity of a class given the number of its true negatives TN and false positives FP.'''\n",
    "    return TN / (TN + FP)\n",
    "\n",
    "# Good explanation of what each TP, TN etc is: https://stackoverflow.com/questions/55635406/how-to-calculate-multiclass-overall-accuracy-sensitivity-and-specificity\n",
    "\n",
    "# Class 1\n",
    "TP_1 = confusion[0][0]\n",
    "TN_1 = confusion[1][1] + confusion[1][2] + confusion[2][1] + confusion[2][2]\n",
    "FP_1 = confusion[0][1] + confusion[0][2]\n",
    "FN_1 = confusion[1][0] + confusion[2][0]\n",
    "\n",
    "# Class 2\n",
    "TP_2 = confusion[1][1]\n",
    "TN_2 = confusion[0][0] + confusion[0][2] + confusion[2][0] + confusion[2][2]\n",
    "FP_2 = confusion[1][0] + confusion[1][2]\n",
    "FN_2 = confusion[0][1] + confusion[2][1]\n",
    "\n",
    "# Class 3\n",
    "TP_3 = confusion[2][2]\n",
    "TN_3 = confusion[0][0] + confusion[0][1] + confusion[1][0] + confusion[1][1]\n",
    "FP_3 = confusion[2][0] + confusion[2][1]\n",
    "FN_3 = confusion[0][2] + confusion[1][2]\n",
    "\n",
    "\n",
    "print('Sensitivity of 1: ', sensitivity(TP_1, FN_1))\n",
    "print('Sensitivity of 2: ', sensitivity(TP_2, FN_2))\n",
    "print('Sensitivity of 3: ', sensitivity(TP_3, FN_3))\n",
    "\n",
    "\n"
   ]
  },
  {
   "cell_type": "code",
   "execution_count": 22,
   "metadata": {},
   "outputs": [],
   "source": [
    "# AUC info: https://stephenallwright.com/interpret-auc-score/\n",
    "\n",
    "# AUC for logistic regression info: https://www.statology.org/auc-in-python/#:~:text=We%20can%20use%20the%20metrics.roc_auc_score%20%28%29%20function%20to,%3D%20metrics.roc_auc_score%28y_test%2C%20y_pred_proba%29%20%23print%20AUC%20score%20print%28auc%29%200.5602104030579559\n",
    "\n",
    "# ROC for k-NN: https://www.cambridge.org/core/services/aop-cambridge-core/content/view/S1481803500013336"
   ]
  },
  {
   "attachments": {},
   "cell_type": "markdown",
   "metadata": {},
   "source": [
    "### Making Scree plot for K-Means, Elbow Method\n",
    "\n",
    "Plotting mean squared error E against number of clusters K"
   ]
  },
  {
   "cell_type": "code",
   "execution_count": 23,
   "metadata": {},
   "outputs": [
    {
     "data": {
      "image/png": "[encoded data removed]",
      "text/plain": [
       "<Figure size 432x288 with 1 Axes>"
      ]
     },
     "metadata": {
      "needs_background": "light"
     },
     "output_type": "display_data"
    }
   ],
   "source": [
    "upper = 26\n",
    "\n",
    "elo_labels = temptation_data[\"elo_class\"]\n",
    "elo_features = temptation_data.drop(columns=[\"elo_class\"])\n",
    "\n",
    "# Standardize ELO features\n",
    "scaler = StandardScaler()\n",
    "scaled_elo_feats = scaler.fit_transform(elo_features)\n",
    "\n",
    "# Find standard squared error for each k\n",
    "SSE = []\n",
    "for k in range(1, upper):\n",
    "    pre_k_means = KMeans(n_clusters=k, n_init=3)\n",
    "    pre_k_means.fit(scaled_elo_feats)\n",
    "    # Record SSE for this k\n",
    "    SSE.append(pre_k_means.inertia_)\n",
    "\n",
    "# Create Scree plot\n",
    "plt.title(\"Standard Squared Error for different numbers of K-Means clusters\")\n",
    "plt.plot(range(1, upper), SSE)\n",
    "plt.xticks(range(1, upper))\n",
    "plt.xlabel(\"Number of Clusters\")\n",
    "plt.ylabel(\"SSE\")\n",
    "plt.show()"
   ]
  },
  {
   "attachments": {},
   "cell_type": "markdown",
   "metadata": {},
   "source": [
    "### Applying K-Means"
   ]
  },
  {
   "cell_type": "code",
   "execution_count": 24,
   "metadata": {},
   "outputs": [
    {
     "name": "stderr",
     "output_type": "stream",
     "text": [
      "/afs/inf.ed.ac.uk/user/s22/s2202694/.local/lib/python3.8/site-packages/sklearn/cluster/_kmeans.py:870: FutureWarning: The default value of `n_init` will change from 10 to 'auto' in 1.4. Set the value of `n_init` explicitly to suppress the warning\n",
      "  warnings.warn(\n"
     ]
    },
    {
     "data": {
      "text/plain": [
       "Text(0.5, 1.0, 'K-Means groupings for 9 clusters')"
      ]
     },
     "execution_count": 24,
     "metadata": {},
     "output_type": "execute_result"
    },
    {
     "data": {
      "image/png": "[encoded data removed]",
      "text/plain": [
       "<Figure size 432x288 with 1 Axes>"
      ]
     },
     "metadata": {
      "needs_background": "light"
     },
     "output_type": "display_data"
    }
   ],
   "source": [
    "# Set number of clusters and PCAs\n",
    "num_clusters = 9\n",
    "num_PCA_components = 7\n",
    "\n",
    "# Apply PCA to reduce number of dimensions\n",
    "pca = PCA(n_components=num_PCA_components).fit(scaled_elo_feats)\n",
    "pca_scores = pca.transform(scaled_elo_feats)\n",
    "\n",
    "# Apply K-Means clustering\n",
    "model_kmeans = KMeans(n_clusters=num_clusters, max_iter=10) # Lila Justify why max_iter=5\n",
    "pca_scores_kmeans = model_kmeans.fit(pca_scores)\n",
    "\n",
    "# Find cluster centres\n",
    "centres = np.array(model_kmeans.cluster_centers_)\n",
    "\n",
    "# Initialise new dataframe for K-Means predictions\n",
    "kmeans_df = pd.DataFrame(pca_scores)\n",
    "predicted = []\n",
    "\n",
    "# Fit model to each PCA score\n",
    "for s in pca_scores:\n",
    "    predicted.append(model_kmeans.predict(s.reshape(1, -1)))\n",
    "\n",
    "# Helper method to convert 'predicts's list format into a single element\n",
    "def list_to_elem(lst):\n",
    "    '''Converts single element list to an element'''\n",
    "    return lst[0]\n",
    "\n",
    "# Add predicted points to dataframe\n",
    "kmeans_df['Cluster'] = predicted\n",
    "kmeans_df['Cluster'] = kmeans_df['Cluster'].apply(list_to_elem)\n",
    "\n",
    "# Plot scatter plot\n",
    "sns.color_palette(\"colorblind\")\n",
    "sns.scatterplot(x=kmeans_df.iloc[:,0], y=kmeans_df.iloc[:,1], hue=kmeans_df['Cluster'], palette='colorblind')\n",
    "plt.scatter(centres[:,0], centres[:,1], marker=\"x\", color='black') # Plot centres of clusters\n",
    "\n",
    "# Lila check these should be labelled PC1 and PC2\n",
    "plt.xlabel('PC1')\n",
    "plt.ylabel('PC2')\n",
    "plt.legend(loc=\"upper right\",ncol=2, title=\"Clusters\")\n",
    "plt.title(f\"K-Means groupings for {num_clusters} clusters\") # Lila better title?\n"
   ]
  },
  {
   "attachments": {},
   "cell_type": "markdown",
   "metadata": {},
   "source": [
    "### Evaluation techniques for K-NN\n",
    "\n",
    "(Probs gonna not include K-Means???)\n",
    "\n",
    "- Classification accuracy (DONE). Watch out for: should we also justify using a graph whhy 3 different ELO classes at these class boundaries gives the best accuracy? https://towardsdatascience.com/metrics-to-evaluate-your-machine-learning-algorithm-f10ba6e38234\n",
    "- Confusion matrix (DONE)\n",
    "- F1 scores (DONE)\n",
    "- Area Under Curve USE THIS ONE DEFINITELY\n",
    "- Mean absolute error\n",
    "- Mean Square Error\n",
    "\n",
    "\n",
    "\n",
    "### Q1 evaluation idea\n",
    "- Bayes factor? https://www.statisticshowto.com/bayes-factor-definition/\n",
    "- AUC https://www.statology.org/auc-in-python/#:~:text=We%20can%20use%20the%20metrics.roc_auc_score%20%28%29%20function%20to,%3D%20metrics.roc_auc_score%28y_test%2C%20y_pred_proba%29%20%23print%20AUC%20score%20print%28auc%29%200.5602104030579559\n"
   ]
  }
 ],
 "metadata": {
  "kernelspec": {
   "display_name": "Python 3",
   "language": "python",
   "name": "python3"
  },
  "language_info": {
   "codemirror_mode": {
    "name": "ipython",
    "version": 3
   },
   "file_extension": ".py",
   "mimetype": "text/x-python",
   "name": "python",
   "nbconvert_exporter": "python",
   "pygments_lexer": "ipython3",
   "version": "3.8.10"
  },
  "orig_nbformat": 4,
  "vscode": {
   "interpreter": {
    "hash": "767d51c1340bd893661ea55ea3124f6de3c7a262a8b4abca0554b478b1e2ff90"
   }
  }
 },
 "nbformat": 4,
 "nbformat_minor": 2
}
