{
 "cells": [
  {
   "attachments": {},
   "cell_type": "markdown",
   "metadata": {},
   "source": [
    "## Assignment 3"
   ]
  },
  {
   "attachments": {},
   "cell_type": "markdown",
   "metadata": {},
   "source": [
    "#### Import Libraries"
   ]
  },
  {
   "cell_type": "code",
   "execution_count": 7,
   "metadata": {},
   "outputs": [],
   "source": [
    "import os\n",
    "import matplotlib.pyplot as plt\n",
    "import numpy as np\n",
    "import pandas as pd\n",
    "import csv\n",
    "import chess\n",
    "import chess.pgn\n",
    "import io\n",
    "import re\n",
    "import time\n",
    "# import seaborn as sns\n",
    "\n",
    "from sklearn.linear_model import LogisticRegression\n",
    "from sklearn.neighbors import KNeighborsClassifier\n",
    "from sklearn.preprocessing import StandardScaler\n",
    "from sklearn.pipeline import make_pipeline"
   ]
  },
  {
   "attachments": {},
   "cell_type": "markdown",
   "metadata": {},
   "source": [
    "#### Import CSV file\n",
    "\n",
    "66879 entries in dataframe"
   ]
  },
  {
   "cell_type": "code",
   "execution_count": 8,
   "metadata": {},
   "outputs": [],
   "source": [
    "# Load CSV into a big dataframe\n",
    "CHESS_DATA_LOCATION = \"data/club_games_data.csv\"\n",
    "chess_data = pd.read_csv(CHESS_DATA_LOCATION)"
   ]
  },
  {
   "attachments": {},
   "cell_type": "markdown",
   "metadata": {},
   "source": [
    "#### Dataframe info\n",
    "\n",
    "Using:\n",
    "print(chess_data.dtypes)\n",
    "print(chess[\"rules\"].unique())\n",
    "\n",
    "\n",
    "Chess rules:\n",
    "['chess' 'chess960' 'threecheck' 'crazyhouse' 'kingofthehill']\n",
    "\n",
    "Time control:\n",
    "['1/259200' '1/172800' '1800' '1/86400' '1/432000' '1/604800' '600'\n",
    " '120+1' '900+10' '300' '180+2' '3600+5' '2700+45' '3600' '1/1209600'\n",
    " '180' '600+10' '60' '480+3' '300+5' '420+3' '600+5' '600+2' '1200' '30'\n",
    " '60+1' '120' '1500+3' '900+2' '1500+5' '1500+10' '1/864000' '900' '300+2'\n",
    " '1500' '7200' '300+1' '5400' '3600+60' '2700+30' '3480+45' '10' '2700+10'\n",
    " '15' '2700' '3600+20' '4500' '4200' '900+5' '1800+10' '2700+5' '480+5'\n",
    " '1800+30' '300+3' '600+1' '1800+5' '420+5' '5400+30' '240+10' '420' '303'\n",
    " '60+10']\n",
    "\n",
    " Time class:\n",
    "['daily' 'rapid' 'bullet' 'blitz']"
   ]
  },
  {
   "attachments": {},
   "cell_type": "markdown",
   "metadata": {},
   "source": [
    "#### Clean data\n",
    "\n",
    "Undeveloped board shouldn't matter if we're filtering games for potential ep\n",
    "Same for draws"
   ]
  },
  {
   "cell_type": "code",
   "execution_count": 9,
   "metadata": {},
   "outputs": [],
   "source": [
    "# Drops rows if any value is a NaN (data is clean so it doesn't do anything)\n",
    "chess_data.dropna(axis = 0, how = 'any')\n",
    "\n",
    "# Filter out alternative rules like chess960 etc\n",
    "chess_data = chess_data[chess_data['rules'] == \"chess\"]\n"
   ]
  },
  {
   "attachments": {},
   "cell_type": "markdown",
   "metadata": {},
   "source": [
    "#### Stratified sample\n",
    "Is this needed for Q2?\n",
    "Commented for now"
   ]
  },
  {
   "cell_type": "code",
   "execution_count": 10,
   "metadata": {},
   "outputs": [],
   "source": [
    "# print(len(chess_data[chess_data[\"time_class\"] == \"daily\"]))\n",
    "# print(len(chess_data[chess_data[\"time_class\"] == \"rapid\"]))\n",
    "# print(len(chess_data[chess_data[\"time_class\"] == \"bullet\"]))\n",
    "# print(len(chess_data[chess_data[\"time_class\"] == \"blitz\"]))\n",
    "\n",
    "# # Select stratified sample (grouping proportionally by time class)\n",
    "# chess_data_sample = chess_data.groupby('time_class', group_keys=False).apply(lambda x: x.sample(frac=0.2))"
   ]
  },
  {
   "attachments": {},
   "cell_type": "markdown",
   "metadata": {},
   "source": [
    "#### Get pgn from last column"
   ]
  },
  {
   "cell_type": "code",
   "execution_count": 11,
   "metadata": {},
   "outputs": [
    {
     "name": "stdout",
     "output_type": "stream",
     "text": [
      "1. d4 {[%clk 0:09:48]} 1... Nf6 {[%clk 0:09:58.3]} 2. Nc3 {[%clk 0:09:45.4]} 2... d5 {[%clk 0:09:57.2]} 3. e4 {[%clk 0:09:44.5]} 3... dxe4 {[%clk 0:09:55.3]} 4. f3 {[%clk 0:09:43.5]} 4... Nc6 {[%clk 0:09:45.5]} 5. fxe4 {[%clk 0:09:37]} 5... Qxd4 {[%clk 0:09:42.5]} 6. Qxd4 {[%clk 0:09:34]} 6... Nxd4 {[%clk 0:09:41.5]} 7. Bb5+ {[%clk 0:09:21.6]} 7... c6 {[%clk 0:09:37.4]} 8. Ba4 {[%clk 0:09:20.6]} 8... b5 {[%clk 0:09:35.6]} 9. Bb3 {[%clk 0:09:19.2]} 9... b4 {[%clk 0:09:32.9]} 10. Na4 {[%clk 0:09:10.2]} 10... e5 {[%clk 0:09:24.7]} 11. Be3 {[%clk 0:09:05.3]} 11... Nxb3 {[%clk 0:09:12.3]} 12. cxb3 {[%clk 0:08:56.7]} 12... Nxe4 {[%clk 0:09:10.4]} 13. Nf3 {[%clk 0:08:48.1]} 13... Bg4 {[%clk 0:09:00.7]} 14. O-O {[%clk 0:08:45.3]} 14... Be7 {[%clk 0:08:54.4]} 15. Nxe5 {[%clk 0:08:40.4]} 15... Be2 {[%clk 0:08:41.1]} 16. Rxf7 {[%clk 0:08:25.6]} 16... Bf6 {[%clk 0:08:20.3]} 17. Bf4 {[%clk 0:08:01.1]} 17... Bxe5 {[%clk 0:08:17.8]} 18. Rf5 {[%clk 0:07:50.3]} 18... Bd4+ {[%clk 0:08:04.6]} 19. Kh1 {[%clk 0:07:42]} 19... Nf2+ {[%clk 0:07:57.7]} 20. Kg1 {[%clk 0:07:39.7]} 20... Ng4+ {[%clk 0:07:46.3]} 21. Kh1 {[%clk 0:07:36.6]} 21... Nf6 {[%clk 0:07:02.3]} 22. Re1 {[%clk 0:07:23]} 22... O-O {[%clk 0:06:52.1]} 23. Rxe2 {[%clk 0:07:12.6]} 23... Rae8 {[%clk 0:06:48.7]} 24. Rxe8 {[%clk 0:06:56]} 24... Rxe8 {[%clk 0:06:47.2]} 25. h3 {[%clk 0:06:52.7]} 25... Re1+ {[%clk 0:06:15.5]} 26. Kh2 {[%clk 0:06:50.5]} 26... Ra1 {[%clk 0:06:14.2]} 27. Be5 {[%clk 0:06:07]} 27... Bg1+ {[%clk 0:05:57.8]} 28. Kg3 {[%clk 0:06:02]} 28... Ne4+ {[%clk 0:05:55.5]} 29. Kf4 {[%clk 0:05:52.7]} 29... g6 {[%clk 0:05:26.4]} 30. Rh5 {[%clk 0:04:33.2]} 30... gxh5 {[%clk 0:05:05.6]} 31. Kxe4 {[%clk 0:04:30.4]} 31... Re1+ {[%clk 0:05:00]} 32. Kf5 {[%clk 0:04:22.4]} 32... Re2 {[%clk 0:04:54.1]} 33. g3 {[%clk 0:03:57.5]} 33... h6 {[%clk 0:04:09.9]} 34. h4 {[%clk 0:03:53.3]} 34... Kf7 {[%clk 0:03:57.8]} 35. Bd6 {[%clk 0:03:32.5]} 35... Rd2 {[%clk 0:03:41.2]} 36. Bxb4 {[%clk 0:03:22.2]} 36... Rd5+ {[%clk 0:03:27.6]} 37. Ke4 {[%clk 0:03:19.4]} 37... Bf2 {[%clk 0:03:18.9]} 38. Kf3 {[%clk 0:03:15.1]} 38... Bg1 {[%clk 0:03:12.2]} 39. Nc3 {[%clk 0:03:12.8]} 39... Rd2 {[%clk 0:03:04.4]} 40. Ne4 {[%clk 0:02:39.4]} 40... Rxb2 {[%clk 0:02:57.3]} 41. Nd6+ {[%clk 0:02:25.9]} 41... Kg6 {[%clk 0:02:45.6]} 42. Bc5 {[%clk 0:02:12.5]} 42... Bxc5 {[%clk 0:02:42.3]} 43. Ne4 {[%clk 0:02:09]} 43... Bb6 {[%clk 0:02:35.5]} 44. Nc3 {[%clk 0:02:05.3]} 44... Ba5 {[%clk 0:02:32.1]} 45. Na4 {[%clk 0:01:59.4]} 45... Rxa2 {[%clk 0:02:30.1]} 46. Nc5 {[%clk 0:01:53.2]} 46... Rc2 {[%clk 0:02:20.2]} 47. Ne6 {[%clk 0:01:47.6]} 47... Rc3+ {[%clk 0:02:14.7]} 48. Kf2 {[%clk 0:01:46.3]} 48... Rxb3 {[%clk 0:02:12.5]} 49. Nf4+ {[%clk 0:01:44.2]} 49... Kf5 {[%clk 0:02:06.2]} 50. Nxh5 {[%clk 0:01:42.9]} 50... Bb6+ {[%clk 0:02:02.4]} 51. Ke2 {[%clk 0:01:40.9]} 51... a5 {[%clk 0:01:59.7]} 52. Ng7+ {[%clk 0:01:34.7]} 52... Kg4 {[%clk 0:01:56.8]} 53. Ne6 {[%clk 0:01:29.6]} 53... Kxg3 {[%clk 0:01:50.5]} 54. h5 {[%clk 0:01:25.5]} 54... Kg4 {[%clk 0:01:46.7]} 55. Kf1 {[%clk 0:01:16.4]} 55... Kxh5 {[%clk 0:01:42.1]} 56. Ke2 {[%clk 0:01:15.3]} 56... Kg4 {[%clk 0:01:37.5]} 57. Kd2 {[%clk 0:01:13.8]} 57... h5 {[%clk 0:01:35.5]} 58. Ke2 {[%clk 0:01:11.7]} 58... h4 {[%clk 0:01:34.1]} 59. Kf1 {[%clk 0:01:11]} 59... h3 {[%clk 0:01:32.8]} 60. Nd8 {[%clk 0:00:58.1]} 60... Bxd8 {[%clk 0:01:30.4]} 61. Kg1 {[%clk 0:00:56.3]} 61... a4 {[%clk 0:01:29.2]} 62. Kh2 {[%clk 0:00:55.3]} 62... Rb2+ {[%clk 0:01:27.2]} 63. Kh1 {[%clk 0:00:54.2]} 63... a3 {[%clk 0:01:26.3]} 64. Kg1 {[%clk 0:00:52]} 64... a2 {[%clk 0:01:25.7]} 65. Kh1 {[%clk 0:00:49.9]} 65... a1=R# {[%clk 0:01:23.7]} 0-1\n"
     ]
    }
   ],
   "source": [
    "# Save pgn column from dataframe\n",
    "full_pgn = chess_data['pgn']\n",
    "\n",
    "def get_moves(entry):\n",
    "    '''\n",
    "    Retrive series of moves in a game when given the whole full_pgn entry\n",
    "    '''\n",
    "    # # Find last occurrence of ']' in each full_pgn entry\n",
    "    # link_bracket = entry.rindex('[Link ')\n",
    "\n",
    "    # # Cut non-move info of full_pgn\n",
    "    # pgn = full_pgn[link_bracket ::]\n",
    "\n",
    "    # # Find first occurrence of '1. ', signifying first move, in each full_pgn entry\n",
    "    # first_move_index = pgn.rindex('1. ')\n",
    "\n",
    "\n",
    "    # pgn is just a string \"separated\" by newlines so turn into an array, and pgn is\n",
    "    # always the final entry in the array. though turning into array may not be the most\n",
    "    # efficient maybe? not sure tho  - leon\n",
    "    pgn = entry.splitlines()[-1]\n",
    "    return pgn\n",
    "\n",
    "chess_data['move_list'] = full_pgn.apply(get_moves)\n",
    "print(chess_data['move_list'][134])\n",
    "# get_moves(full_pgn[0])\n",
    "# ouput: '1. d4 Nf6 2. c4 e6 3. Nc3 Bb4 4. Qb3 Bxc3+ 5. Qxc3 O-O 6. Bg5 c5 7. dxc5 Nc6 8. Nf3 Qa5 9. Bxf6 gxf6 10. Qxa5 Nxa5 11. e3 Rd8 12. Rd1 Kg7 13. Be2 b6 14. Rd4 bxc5 15. Rg4+ Kh6 16. Bd3 f5 17. Rh4+ Kg6 18. g4 Ba6 19. gxf5+ exf5 20. Ne5+ Kf6 21. Rh6+ Kxe5 22. f4# 1-0'"
   ]
  },
  {
   "attachments": {},
   "cell_type": "markdown",
   "metadata": {},
   "source": [
    "#### Import chess info\n",
    "https://python-chess.readthedocs.io/en/latest/core.html#chess.Board.san\n",
    "\n",
    "\n",
    "#### En Passant functions\n",
    "- has_legal_en_passant() tests if en passant capturing would actually be possible on the next move.\n",
    "- has_pseudo_legal_en_passant()\n",
    "- has_legal_en_passant()\n",
    "- is_en_passant(move: Move) Checks if the given pseudo-legal move is an en passant capture.\n",
    "\n",
    "\n",
    "\n",
    "\n",
    "Use StringIO to parse games from a string.\n",
    "\n",
    "```python\n",
    "import io\n",
    "pgn = io.StringIO(\"1. e4 e5 2. Nf3 *\")\n",
    "game = chess.pgn.read_game(pgn)\n",
    "```"
   ]
  },
  {
   "cell_type": "raw",
   "metadata": {},
   "source": [
    "# chess testing\n",
    "fen = \"6k1/6p1/p3r2p/3Q4/4NK2/P1r2q2/8/8 w - -\"\n",
    "board = chess.Board(fen)\n",
    "# print(board)\n",
    "\n",
    "pgntext = \"1. d4 d5 2. e3 c6 3. c4 dxc4 4. Bxc4 b5 5. Bb3 a5 6. Qf3 Bb7 7. Bxf7+ Kd7 8. Qf5+ Kc7 9. Nf3 Nh6 10. Qe5+ Kb6 11. a4 bxa4 12. Nc3 Ng4 13. Nxa4+ Ka6 14. Bc4+ Ka7 15. Qc5+ 1-0\"\n",
    "\n",
    "pgn_en = \"1. e4 h5 2. e5 f5 3. exf6 b5\"\n",
    "\n",
    "pgn_en2 = \"1. d4 h5 2. d5 e5 3. h3\"\n",
    "\n",
    "# pgn = io.StringIO(chess_data['pgn'][134])\n",
    "pgn = io.StringIO(pgn_en)\n",
    "game = chess.pgn.read_game(pgn)\n",
    "board = game.board()\n",
    "\n",
    "# print(game)\n",
    "\n",
    "check = False\n",
    "\n",
    "def check_pgn(pgn_in, check_actual_ep):\n",
    "    '''\n",
    "    \n",
    "    check_actual_ep is True if you want to know whether ep was a move\n",
    "    Is False if you are just checking whether it could happen at any point\n",
    "    '''\n",
    "    pgn = io.StringIO(pgn_in)       # PGN as a file\n",
    "    game = chess.pgn.read_game(pgn) # Read PGN and put into game\n",
    "    board = game.board()            # \"board\" of a game\n",
    "    \n",
    "    precheck = False                # is en passant possible\n",
    "    moved = False                   # was en passant moved?\n",
    "    for move in game.mainline_moves():\n",
    "        # B bishop Q queen K king N knight R rook O castle ELSE pawn\n",
    "        # print(move)\n",
    "        turn = board.turn\n",
    "        san = board.san(move)\n",
    "        move_piece = san[0]\n",
    "        # print(move_piece)\n",
    "        match move_piece:\n",
    "            case \"K\":\n",
    "                board.push(move)\n",
    "                continue\n",
    "                # print(\"king\")\n",
    "            case \"Q\":\n",
    "                board.push(move)\n",
    "                continue\n",
    "                # print(\"queen\")\n",
    "            case \"B\":\n",
    "                board.push(move)\n",
    "                continue\n",
    "                # print(\"bishop\")\n",
    "            case \"N\":\n",
    "                board.push(move)\n",
    "                continue\n",
    "                # print(\"knight\")\n",
    "            case \"R\":\n",
    "                board.push(move)\n",
    "                continue\n",
    "                # print(\"rook\")\n",
    "            case \"O\":\n",
    "                board.push(move)\n",
    "                continue\n",
    "                # print(\"castled\")\n",
    "            case _: # pawn\n",
    "                # if we are checking for actual e.p. moves\n",
    "                if (check_actual_ep):\n",
    "                    moved = board.is_en_passant(move)\n",
    "                    board.push(move)\n",
    "                # if we are only checking for e.p. opportunity\n",
    "                else:\n",
    "                    # push the move before checking the board\n",
    "                    board.push(move)\n",
    "                    precheck = board.has_legal_en_passant()\n",
    "                # if a condition is true return True\n",
    "                if moved:\n",
    "                    return [True, turn]\n",
    "                if precheck:\n",
    "                    return [True, not(turn)]\n",
    "    # if ran through every move without true then return False\n",
    "    return [False, \"\"]\n",
    "\n",
    "# create new series\n",
    "ep = [False] * len(chess_data)\n",
    "ep_series = pd.Series(ep)\n",
    "\n",
    "turn = [\"\"] * len(chess_data)\n",
    "ep_turn = pd.Series(turn)\n",
    "\n",
    "print(check_pgn(pgn_en2, True))\n",
    "# true is white\n",
    "\n",
    "# for each game in chess_data\n",
    "for i in range(len(chess_data)):\n",
    "    # check if there is e.p. opportunity and store in series if yes\n",
    "    checkpgn = check_pgn(chess_data['pgn'][i], False)\n",
    "    if (checkpgn[0] == True):\n",
    "        ep_series[i] = True\n",
    "        if (checkpgn[1] == True):\n",
    "            ep_turn[i] = \"White\"\n",
    "        else:\n",
    "            ep_turn[i] = \"Black\"\n",
    "\n",
    "# append series to main dataframe\n",
    "chess_data['en_passant'] = ep_series\n",
    "chess_data['ep_turn'] = ep_turn"
   ]
  },
  {
   "cell_type": "raw",
   "metadata": {},
   "source": [
    "# new series\n",
    "ep_acted = pd.Series(ep)\n",
    "\n",
    "# for each in chess data\n",
    "for i in range(len(chess_data)):\n",
    "    # if there is e.p. opportunity, check if the player acted on it store if yes\n",
    "    if (chess_data['en_passant'][i] == True and check_pgn(chess_data['pgn'][i], True)):\n",
    "        ep_acted[i] = True\n",
    "\n",
    "# append series to main dataframe\n",
    "chess_data['ep_acted'] = ep_acted"
   ]
  },
  {
   "cell_type": "raw",
   "metadata": {},
   "source": [
    "print(\"number of E.P. opportunities:\")\n",
    "print(len(chess_data[chess_data['en_passant'] == True]))\n",
    "print(\"number of E.P. moves\")\n",
    "print(len(chess_data[chess_data['ep_acted'] == True]))"
   ]
  },
  {
   "attachments": {},
   "cell_type": "markdown",
   "metadata": {},
   "source": [
    "### Number of games with at least 1 possible en-passant move:\n",
    "## 4750\n",
    "(maybe 4913 or even 4945)\n",
    "\n",
    "### Number of games with an actual en-passant move:\n",
    "## 1566"
   ]
  },
  {
   "attachments": {},
   "cell_type": "markdown",
   "metadata": {},
   "source": [
    "### Sample for Q2 and apply PCA\n",
    "\n",
    "Should we also filter data so that each player appears once? Idk"
   ]
  },
  {
   "cell_type": "code",
   "execution_count": null,
   "metadata": {},
   "outputs": [
    {
     "name": "stdout",
     "output_type": "stream",
     "text": [
      "  white_username black_username  white_rating  black_rating white_result  \\\n",
      "0         -Amos-    miniman2804          1708          1608          win   \n",
      "1         -Amos-      koltcho69          1726          1577          win   \n",
      "2         -Amos-      enhmandah          1727           842          win   \n",
      "3      enhmandah         -Amos-           819          1727   checkmated   \n",
      "4         -Amos-  Shalllow-Blue          1729          1116          win   \n",
      "\n",
      "  black_result time_class time_control  rules  rated  \\\n",
      "0   checkmated      daily     1/259200  chess   True   \n",
      "1     resigned      daily     1/172800  chess   True   \n",
      "2     resigned      daily     1/172800  chess   True   \n",
      "3          win      daily     1/172800  chess   True   \n",
      "4     resigned      daily     1/172800  chess   True   \n",
      "\n",
      "                                                 fen  \\\n",
      "0  r2r4/p2p1p1p/b6R/n1p1kp2/2P2P2/3BP3/PP5P/4K2R ...   \n",
      "1       8/5Q1k/4n1pp/8/7P/2N2b2/PP3P2/5K2 b - - 1 33   \n",
      "2  rn1q1b1r/kb2p1pp/2p5/p1Q5/N1BP2n1/4PN2/1P3PPP/...   \n",
      "3  r3kb1r/pp3ppp/3p1n2/2pKp3/P3P3/1P6/4qP1P/QNB5 ...   \n",
      "4  r3b2r/pp6/2pPpR1k/4n3/2P3Q1/3B4/PP4PP/R5K1 b -...   \n",
      "\n",
      "                                                 pgn  \n",
      "0  [Event \"Enjoyable games 2 - Round 1\"]\\n[Site \"...  \n",
      "1  [Event \"Rapid Rats - Board 5\"]\\n[Site \"Chess.c...  \n",
      "2  [Event \"CHESS BOARD CLASH - Round 1\"]\\n[Site \"...  \n",
      "3  [Event \"CHESS BOARD CLASH - Round 1\"]\\n[Site \"...  \n",
      "4  [Event \"CHESS BOARD CLASH - Round 1\"]\\n[Site \"...  \n"
     ]
    }
   ],
   "source": [
    "CHESS_DATA_LOCATION = \"data/club_games_data.csv\"\n",
    "# MOVIES_DATA_LOCATION = \"data/movies.csv\"\n",
    "\n",
    "# load csv into a big dataframe\n",
    "chess_data = pd.read_csv(CHESS_DATA_LOCATION)\n",
    "\n",
    "# Drop irrelevant columns\n",
    "chess_data = chess_data.drop(['white_id', 'black_id'], axis=1)\n",
    "\n",
    "print(chess_data.head(5))"
   ]
  }
 ],
 "metadata": {
  "kernelspec": {
   "display_name": "Python 3.10.0 64-bit",
   "language": "python",
   "name": "python3"
  },
  "language_info": {
   "codemirror_mode": {
    "name": "ipython",
    "version": 3
   },
   "file_extension": ".py",
   "mimetype": "text/x-python",
   "name": "python",
   "nbconvert_exporter": "python",
   "pygments_lexer": "ipython3",
   "version": "3.10.4"
  },
  "orig_nbformat": 4,
  "vscode": {
   "interpreter": {
    "hash": "9112fe3e2dae33b69188b1195510ef537e931a9b15228f951e97333c147361b1"
   }
  }
 },
 "nbformat": 4,
 "nbformat_minor": 2
}
