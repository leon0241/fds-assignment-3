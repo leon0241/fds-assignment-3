{
 "cells": [
  {
   "attachments": {},
   "cell_type": "markdown",
   "metadata": {},
   "source": [
    "## Assignment 3 Question 2\n",
    "\n",
    "Is it possible to predict ELO of a player based on context of a potential en passant move?\n",
    "\n",
    "Only investigating the player who is in the position of making the en passant move.\n",
    "\n",
    "Lila See FDS PCA solutions for 3 good points for what PCA is good for - include in report?"
   ]
  },
  {
   "attachments": {},
   "cell_type": "markdown",
   "metadata": {},
   "source": [
    "#### Import Libraries"
   ]
  },
  {
   "cell_type": "code",
   "execution_count": 67,
   "metadata": {},
   "outputs": [],
   "source": [
    "import pandas as pd\n",
    "import chess\n",
    "import chess.pgn\n",
    "import chess.engine\n",
    "import io\n",
    "import os\n",
    "import numpy as np\n",
    "import seaborn as sns\n",
    "import matplotlib.pyplot as plt\n",
    "import importlib\n",
    "import math\n",
    "\n",
    "from pandarallel import pandarallel\n",
    "\n",
    "import data_cleaning\n",
    "\n",
    "from sklearn.decomposition import PCA\n",
    "from sklearn.preprocessing import StandardScaler\n",
    "from mpl_toolkits.mplot3d import Axes3D\n",
    "from sklearn.neighbors import KNeighborsClassifier\n",
    "from sklearn.model_selection import train_test_split\n",
    "from sklearn.cluster import KMeans\n",
    "\n",
    "from matplotlib.colors import ListedColormap"
   ]
  },
  {
   "cell_type": "markdown",
   "metadata": {},
   "source": [
    "#### Import stockfish 🐟🐟🐟"
   ]
  },
  {
   "cell_type": "code",
   "execution_count": 68,
   "metadata": {},
   "outputs": [
    {
     "name": "stderr",
     "output_type": "stream",
     "text": [
      "Exception ignored in: <function Stockfish.__del__ at 0x7fc20e5cddc0>\n",
      "Traceback (most recent call last):\n",
      "  File \"/afs/inf.ed.ac.uk/user/s22/s2202694/.local/lib/python3.8/site-packages/stockfish/models.py\", line 757, in __del__\n",
      "    if self._stockfish.poll() is None:\n",
      "AttributeError: 'Stockfish' object has no attribute '_stockfish'\n"
     ]
    }
   ],
   "source": [
    "# Windows installation\n",
    "# STOCKFISH_LOC = os.getcwd() + \"\\stockfish_15_1\\stockfish-windows-2022-x86-64-avx2.exe\"\n",
    "STOCKFISH_LOC = os.getcwd() + \"\\stockfish_14_win_x64\\stockfish_14_x64.exe\"\n",
    "# Unix based installation i.e. DICE/Codespaces\n",
    "STOCKFISH_LOC_UNIX = os.getcwd() + \"/stockfish_14_linux/stockfish_14_x64\"\n",
    "\n",
    "# Import stockfish package\n",
    "from stockfish import Stockfish\n",
    "# Try and read windows location\n",
    "try:\n",
    "    fish = Stockfish(path=STOCKFISH_LOC, depth=10, parameters={\"Threads\": 2, \"Hash\": 32})\n",
    "    \n",
    "# If error, read the linux location\n",
    "except:\n",
    "    fish = Stockfish(path=STOCKFISH_LOC_UNIX, depth=10, parameters={\"Threads\": 2, \"Hash\": 32})\n",
    "    \n",
    "# It will throw an error but if it still runs then ignore it :D"
   ]
  },
  {
   "attachments": {},
   "cell_type": "markdown",
   "metadata": {},
   "source": [
    "#### Import CSV file\n",
    "\n",
    "66879 entries in dataframe"
   ]
  },
  {
   "cell_type": "code",
   "execution_count": 69,
   "metadata": {},
   "outputs": [
    {
     "name": "stdout",
     "output_type": "stream",
     "text": [
      "white_username    object\n",
      "black_username    object\n",
      "white_rating       int64\n",
      "black_rating       int64\n",
      "time_class        object\n",
      "time_control      object\n",
      "rated               bool\n",
      "fen               object\n",
      "pgn               object\n",
      "dtype: object\n"
     ]
    }
   ],
   "source": [
    "chess_data = data_cleaning.import_data()\n",
    "chess_data = chess_data.drop(['white_id', 'black_id', 'white_result', 'black_result', 'rules'], axis=1)\n",
    "print(chess_data.dtypes)"
   ]
  },
  {
   "attachments": {},
   "cell_type": "markdown",
   "metadata": {},
   "source": [
    "#### Dataframe info\n",
    "\n",
    "Using:\n",
    "print(chess_data.dtypes)\n",
    "print(chess[\"rules\"].unique())\n",
    "\n",
    "\n",
    "Chess rules:\n",
    "['chess' 'chess960' 'threecheck' 'crazyhouse' 'kingofthehill']\n",
    "\n",
    "Time control:\n",
    "['1/259200' '1/172800' '1800' '1/86400' '1/432000' '1/604800' '600'\n",
    " '120+1' '900+10' '300' '180+2' '3600+5' '2700+45' '3600' '1/1209600'\n",
    " '180' '600+10' '60' '480+3' '300+5' '420+3' '600+5' '600+2' '1200' '30'\n",
    " '60+1' '120' '1500+3' '900+2' '1500+5' '1500+10' '1/864000' '900' '300+2'\n",
    " '1500' '7200' '300+1' '5400' '3600+60' '2700+30' '3480+45' '10' '2700+10'\n",
    " '15' '2700' '3600+20' '4500' '4200' '900+5' '1800+10' '2700+5' '480+5'\n",
    " '1800+30' '300+3' '600+1' '1800+5' '420+5' '5400+30' '240+10' '420' '303'\n",
    " '60+10']\n",
    "\n",
    " Time class:\n",
    "['daily' 'rapid' 'bullet' 'blitz']"
   ]
  },
  {
   "attachments": {},
   "cell_type": "markdown",
   "metadata": {},
   "source": [
    "#### Clean data\n",
    "\n",
    "Undeveloped board shouldn't matter if we're filtering games for potential ep\n",
    "\n",
    "Same for draws\n",
    "\n",
    "Can filter our time class if are looking at time controls\n",
    "\n",
    "Variables we are considering when predicting ELO (for a player who could potentially make en passant move) are:\n",
    "- Colour who had ep opportunity (boolean)\n",
    "- Did they take the en passant? (boolean)\n",
    "- Does their choice on taking/not taking support them if gaining an advantage? (numerical value for how much of an advantage it gives) [Lila rn is __________________]\n",
    "- \n",
    "- Time taken to decide to capture/not capture en passant (percentage of total time for the game)\n",
    "- Is the game rated? (boolean)\n",
    "- Game time class (numerical value), don't include daily because daily don't have times attached to move"
   ]
  },
  {
   "attachments": {},
   "cell_type": "markdown",
   "metadata": {},
   "source": [
    "### Processing data and adding information"
   ]
  },
  {
   "attachments": {},
   "cell_type": "markdown",
   "metadata": {},
   "source": [
    "#### Checks every game for ones that have potential en-passant moves\n",
    "- Gets whether a game has an en-passant opportunity\n",
    "- Gets whether the said en passant move was played\n",
    "- Gets the colour of the player that has the e.p. opportunity"
   ]
  },
  {
   "cell_type": "code",
   "execution_count": 70,
   "metadata": {},
   "outputs": [
    {
     "name": "stdout",
     "output_type": "stream",
     "text": [
      "INFO: Pandarallel will run on 4 workers.\n",
      "INFO: Pandarallel will use Memory file system to transfer data between the main process and workers.\n"
     ]
    }
   ],
   "source": [
    "def check_pgn(df_row):\n",
    "    '''\n",
    "    Checks PGN for whether opportunity for EP happened in the game.\n",
    "    '''\n",
    "    \n",
    "    # needs individual imports for pandarallel\n",
    "    import io\n",
    "    import chess\n",
    "    import chess.pgn\n",
    "    \n",
    "    pgn_file = io.StringIO(df_row[\"pgn\"])   # PGN as a file\n",
    "    game = chess.pgn.read_game(pgn_file)    # Read PGN and put into game\n",
    "    board = game.board()                    # \"board\" of a game\n",
    "    \n",
    "    # pre-initialise df_row values\n",
    "    precheck = False\n",
    "    moved = False\n",
    "    move_colour = \"\"\n",
    "\n",
    "    # comparison sets when checking move piece\n",
    "    ep_set = set([\"ax\",\"bx\",\"cx\",\"dx\",\"ex\",\"fx\",\"gx\", \"hx\"])\n",
    "    check_set = set(\"abcdefgh\")\n",
    "    \n",
    "    # Find only pawn moves in game\n",
    "    for board_move in game.mainline():\n",
    "        move = board_move.move  # Move in square form\n",
    "        san = board.san(move)   # Move in SAN form\n",
    "        turn = board.turn       # Colour of player making turn\n",
    "        move_piece = san[0]     # First letter of san (indicates piece)\n",
    "\n",
    "        # check if precheck was flagged in previous move\n",
    "        if precheck:\n",
    "            # get first 2 letters, and compare to a set\n",
    "            move_ep_piece = san[:2]\n",
    "            if move_ep_piece in ep_set:\n",
    "                # check if e.p. actually happened\n",
    "                moved = board.is_en_passant(move)\n",
    "            # break out for loop, no need to check further\n",
    "            break\n",
    "        \n",
    "        # if the move was a pawn (lower case)\n",
    "        if move_piece in check_set:\n",
    "            # Push the move before checking the board\n",
    "            board.push(move)\n",
    "            # check if the next move can be en passant\n",
    "            precheck = board.has_legal_en_passant()\n",
    "            # if precheck is true then set the turn\n",
    "            if precheck:\n",
    "                if turn:\n",
    "                    move_colour = 'Black'\n",
    "                else:\n",
    "                    move_colour = 'White'\n",
    "        # if the move wasn't a pawn then just continue as normal\n",
    "        else:\n",
    "            board.push(move)\n",
    "    \n",
    "    # set row values\n",
    "    df_row[\"ep_opportunity\"] = precheck\n",
    "    df_row[\"ep_happened\"] = moved\n",
    "    df_row[\"ep_colour\"] = move_colour\n",
    "    return df_row\n",
    "\n",
    "chess_filter = chess_data.copy(deep=True)\n",
    "pandarallel.initialize()\n",
    "\n",
    "# apply e.p. finding function\n",
    "try:\n",
    "    chess_filter = chess_filter.parallel_apply(check_pgn, axis=1)\n",
    "except:\n",
    "    chess_filter = chess_filter.apply(check_pgn, axis=1)"
   ]
  },
  {
   "attachments": {},
   "cell_type": "markdown",
   "metadata": {},
   "source": [
    "#### Filter out games that don't have en-passant opportunity"
   ]
  },
  {
   "cell_type": "code",
   "execution_count": 71,
   "metadata": {},
   "outputs": [
    {
     "name": "stdout",
     "output_type": "stream",
     "text": [
      "5074\n",
      "1563\n"
     ]
    }
   ],
   "source": [
    "chess_filter = chess_filter[chess_filter['ep_opportunity'] == True]\n",
    "chess_filter = chess_filter.drop(['ep_opportunity'], axis=1)\n",
    "chess_filter = chess_filter.reset_index(drop=True)\n",
    "print(len(chess_filter))\n",
    "print(len(chess_filter[chess_filter['ep_happened'] == True]))"
   ]
  },
  {
   "attachments": {},
   "cell_type": "markdown",
   "metadata": {},
   "source": [
    "#### Get the time taken to respond to an en-passant pawn move"
   ]
  },
  {
   "cell_type": "code",
   "execution_count": 72,
   "metadata": {},
   "outputs": [
    {
     "name": "stdout",
     "output_type": "stream",
     "text": [
      "INFO: Pandarallel will run on 4 workers.\n",
      "INFO: Pandarallel will use Memory file system to transfer data between the main process and workers.\n"
     ]
    }
   ],
   "source": [
    "\n",
    "def check_times(df_row):\n",
    "    '''\n",
    "    Checks PGN for the time taken to play a move\n",
    "    '''\n",
    "    \n",
    "    import io\n",
    "    import chess\n",
    "    import chess.pgn\n",
    "\n",
    "    pgn_file = io.StringIO(df_row[\"pgn\"])   # PGN as a file\n",
    "    game = chess.pgn.read_game(pgn_file)    # Read PGN and put into game\n",
    "    board = game.board()                    # \"board\" of a game\n",
    "    # pre-initialise df_row values\n",
    "    precheck = False\n",
    "\n",
    "    # comparison sets when checking move piece\n",
    "    check_set = set(\"abcdefgh\")\n",
    "    \n",
    "    rolling_white_time = [0,0]\n",
    "    rolling_black_time = [0,0]\n",
    "    \n",
    "    # Find only pawn moves in game\n",
    "    for board_move in game.mainline():\n",
    "        if board.turn:\n",
    "            rolling_white_time = [board_move.clock(), rolling_white_time[0]]\n",
    "        else:\n",
    "            rolling_black_time = [board_move.clock(), rolling_black_time[0]]\n",
    "        \n",
    "        move = board_move.move\n",
    "        san = board.san(move)\n",
    "        move_piece = san[0]\n",
    "        # check if precheck was flagged in previous move\n",
    "        if precheck:\n",
    "            # get first 2 letters, and compare to a set\n",
    "            norm = df_row[\"time_control\"]\n",
    "\n",
    "            if board.turn:\n",
    "                df_row[\"time_taken\"] = (rolling_white_time[1] - rolling_white_time[0])/float(norm)\n",
    "            else:\n",
    "                df_row[\"time_taken\"] = (rolling_black_time[1] - rolling_black_time[0])/float(norm)\n",
    "            return df_row\n",
    "        \n",
    "        # if the move was a pawn (lower case)\n",
    "        if move_piece in check_set:\n",
    "            # Push the move before checking the board\n",
    "            board.push(move)\n",
    "            # check if the next move can be en passant\n",
    "            precheck = board.has_legal_en_passant()\n",
    "        # if the move wasn't a pawn then just continue as normal\n",
    "        else:\n",
    "            board.push(move)\n",
    "    return df_row\n",
    "\n",
    "# parallel processing\n",
    "pandarallel.initialize()\n",
    "\n",
    "# if device supports parallel processing then apply, else use regular apply\n",
    "try:\n",
    "    chess_filter = chess_filter.parallel_apply(check_times, axis=1)\n",
    "except:\n",
    "    chess_filter = chess_filter.apply(check_times, axis=1)"
   ]
  },
  {
   "attachments": {},
   "cell_type": "markdown",
   "metadata": {},
   "source": [
    "#### Stockfish Evaluation to get evaluations of board choices\n",
    "- Gets the evaluation before an ep opportunity\n",
    "- Gets the evaluation of the best move calculated by Stockfish\n",
    "- Gets the evaluation of the (best) en passant move calculated by Stockfish"
   ]
  },
  {
   "cell_type": "code",
   "execution_count": 73,
   "metadata": {},
   "outputs": [],
   "source": [
    "# reload eval file\n",
    "import stockfish_eval\n",
    "importlib.reload(stockfish_eval);\n",
    "\n",
    "def stockfish_analyse_board(df_row, board, move):\n",
    "    '''\n",
    "    Gets a stockfish evaluation of the best move played, if e.p. is played,\n",
    "    and the stockfish evaluation of the player's move\n",
    "    \n",
    "    Returns the pre-move evaluation, evaluation of best move, evaluation\n",
    "    of (best) en passant move, evaluation of players move. evals are an absolute\n",
    "    value so the same for both sides, and calculated as the difference from the pre-move\n",
    "\n",
    "    '''\n",
    "    \n",
    "    # initialise stockfish\n",
    "    fish_eval = stockfish_eval.StockfishEval(fish, board, df_row[\"ep_colour\"])\n",
    "\n",
    "    # reset fen to board position\n",
    "    fish_eval.reset_fen()\n",
    "    \n",
    "    # set the player move class variable\n",
    "    fish_eval.set_player_move(move)\n",
    "    # get pre-move stockfish evaluation of board\n",
    "    pre_eval = fish_eval.evaluate_board()[\"value\"]\n",
    "    \n",
    "    # get the best move and store in class variable\n",
    "    fish_eval.find_best_move()\n",
    "    \n",
    "    # find adjacent squares to pawn move\n",
    "    fish_eval.find_adj_squares()\n",
    "    # find if square is on a left bound (A file) or right bound (H file)\n",
    "    fish_eval.find_bounds()\n",
    "    # find if each valid square is also a valid (opposing) pawn\n",
    "    fish_eval.find_valid_pawns()\n",
    "\n",
    "    # find a fen representation of each move\n",
    "    fish_eval.find_ep_moves()\n",
    "        \n",
    "    \n",
    "    move_list = fish_eval.get_movelist()\n",
    "    # should end up with move_list class variable in the following configs\n",
    "    \n",
    "    # | best_move | player_move | ep_move_left | ep_move_right|\n",
    "    # |===========|=============|==============|==============|\n",
    "    # |   move    |    move     |     move     |     move     |\n",
    "    # |   move    |    move     |     ----     |     move     |\n",
    "    # |   move    |    move     |     move     |     ----     |\n",
    "    \n",
    "    # get the evaluation of the best move, and absolute advantage\n",
    "    best_eval = fish_eval.evaluate_move(move_list[\"best_move\"])\n",
    "    best_difference = fish_eval.get_abs_advantage(best_eval, pre_eval)\n",
    "    \n",
    "    \n",
    "    # lookup table of en-passant moves\n",
    "    ep_moves = [move_list[\"ep_move_left\"], move_list[\"ep_move_right\"]]\n",
    "    # if the best move is also an en-passant\n",
    "    \n",
    "    if move_list[\"best_move\"] in ep_moves:\n",
    "        # set the ep_eval to best val. This is for consistency because\n",
    "        # stockfish returns a different evaluation each time you run a move\n",
    "        \n",
    "        ep_eval = best_eval\n",
    "        ep_difference = best_difference\n",
    "    else:\n",
    "        # if it's different, then evaluate e.p. move separately\n",
    "        # evaluate_en_passants() finds evaluation for both moves,\n",
    "        # and returns the maximum value i.e. the better e.p. move\n",
    "        ep_eval = fish_eval.evaluate_en_passants()\n",
    "        ep_difference = fish_eval.get_abs_advantage(ep_eval, pre_eval)\n",
    "    \n",
    "    \n",
    "    # if the player move is the best move\n",
    "    if fish_eval.get_movelist()[\"best_move\"] == move:\n",
    "        # same thing as en-passant\n",
    "        best_eval = best_eval\n",
    "        player_difference = best_difference\n",
    "    else:\n",
    "        player_eval = fish_eval.evaluate_move(move_list[\"player_move\"])\n",
    "        player_difference = fish_eval.get_abs_advantage(player_eval, pre_eval)\n",
    "    \n",
    "    return [pre_eval, best_difference, ep_difference, player_difference]\n",
    "\n",
    "def get_advantage(df_row):\n",
    "    '''\n",
    "    Get stockfish evaluations for a given game. For a dataframe row,\n",
    "    sets columns \"pre_eval\", \"eval_best\", \"eval_ep\", \"eval_player\"\n",
    "    '''\n",
    "    \n",
    "    # pawn lookup set\n",
    "    check_set = set(\"abcdefgh\")\n",
    "    # print(df_row.name)\n",
    "    \n",
    "    # initialise board\n",
    "    pgn_file = io.StringIO(df_row[\"pgn\"])   # PGN as a file\n",
    "    game = chess.pgn.read_game(pgn_file)    # Read PGN and put into game\n",
    "    board = game.board()                    # \"board\" of a game\n",
    "\n",
    "    # e.p. check\n",
    "    precheck = False\n",
    "    \n",
    "    # initialise vars\n",
    "    pre_eval = 0\n",
    "    best_eval = 0\n",
    "    ep_eval = 0\n",
    "    player_eval = 0\n",
    "    \n",
    "    # iterate over every move in a game\n",
    "    for move in game.mainline_moves():\n",
    "        # representation of a move\n",
    "        san = board.san(move)\n",
    "        move_piece = san[0]\n",
    "\n",
    "        # check if precheck was flagged in previous move\n",
    "        if precheck:\n",
    "            # reset to not flag final move precheck edge case \n",
    "            precheck = False\n",
    "\n",
    "            # analyse board\n",
    "            values = stockfish_analyse_board(df_row, board, str(move))\n",
    "            # print(values)\n",
    "            # set values\n",
    "            pre_eval = values[0]\n",
    "            best_eval = values[1]\n",
    "            ep_eval = values[2]\n",
    "            player_eval = values[3]\n",
    "            # break out of for loop since we have all values\n",
    "            break\n",
    "            \n",
    "            \n",
    "        # if the move was a pawn (lower case)\n",
    "        if move_piece in check_set:\n",
    "            # Push the move before checking the board\n",
    "            board.push(move)\n",
    "            # check if the next move can be en passant\n",
    "            precheck = board.has_legal_en_passant()\n",
    "        # if the move wasn't a pawn then just continue as normal\n",
    "        else:\n",
    "            board.push(move) \n",
    "\n",
    "    # edge case where the final move was pawn 2 space, and there is no next\n",
    "    # move to run stockfish_analyse_board. In this case just return NA\n",
    "    # since there was no best move to compare to if the game has ended\n",
    "    if precheck:\n",
    "        pre_eval = pd.NA\n",
    "        best_eval = pd.NA\n",
    "        ep_eval = pd.NA\n",
    "        player_eval = pd.NA\n",
    "    \n",
    "    # set dataframe values\n",
    "    df_row[\"pre_eval\"] = pre_eval     # pre-moved stockfish eval\n",
    "    df_row[\"eval_best\"] = best_eval  # stockfish eval if best move\n",
    "    df_row[\"eval_ep\"] = ep_eval\n",
    "    df_row[\"eval_player\"] = player_eval\n",
    "    return df_row"
   ]
  },
  {
   "cell_type": "code",
   "execution_count": 74,
   "metadata": {},
   "outputs": [],
   "source": [
    "def write_fish_to_parquet():\n",
    "    print(chess_filter.dtypes)\n",
    "    stockfish_eval_dataframe = chess_filter[['pre_eval', 'eval_best', 'eval_ep', 'eval_player']]\n",
    "    print(stockfish_eval_dataframe.head())\n",
    "\n",
    "    STOCKFISH_EXPORT_PATH = os.getcwd() + \"\\data\\stockfish_eval_results.parquet\"\n",
    "    STOCKFISH_EXPORT_PATH_UNIX = os.getcwd() + \"/data/stockfish_eval_results.parquet\"\n",
    "\n",
    "    try:\n",
    "        stockfish_eval_dataframe.to_parquet(STOCKFISH_EXPORT_PATH)\n",
    "    # If error, read the linux location\n",
    "    except:\n",
    "        stockfish_eval_dataframe.to_parquet(STOCKFISH_EXPORT_PATH_UNIX)\n",
    "\n",
    "def read_fish_from_parquet(input_df):\n",
    "    STOCKFISH_EXPORT_PATH = os.getcwd() + \"\\data\\stockfish_eval_results.parquet\"\n",
    "    STOCKFISH_EXPORT_PATH_UNIX = os.getcwd() + \"/data/stockfish_eval_results.parquet\"\n",
    "    \n",
    "    try:\n",
    "        fish_fields = pd.read_parquet(STOCKFISH_EXPORT_PATH)\n",
    "    # If error, read the linux location\n",
    "    except:\n",
    "        fish_fields = pd.read_parquet(STOCKFISH_EXPORT_PATH_UNIX)\n",
    "    \n",
    "    chess_filter = pd.concat([input_df, fish_fields], axis=1)\n",
    "    \n",
    "    return chess_filter\n",
    "\n",
    "# # Calculate Stockfish Evals and/or store\n",
    "# chess_filter = chess_filter.apply(get_advantage, axis=1)\n",
    "# write_fish_to_parquet()\n",
    "\n",
    "# # Read pre-existing Stockfish Evals\n",
    "chess_filter = read_fish_from_parquet(chess_filter)"
   ]
  },
  {
   "cell_type": "markdown",
   "metadata": {},
   "source": [
    "#### Isolate stats of player with the en-passant opportunity\n",
    "The other player's Elo and username is irrelevant so drop them"
   ]
  },
  {
   "cell_type": "code",
   "execution_count": 75,
   "metadata": {},
   "outputs": [],
   "source": [
    "def get_player_stats(df_row):\n",
    "    '''\n",
    "    returns the player with e.p. opportunity's ELO and username.\n",
    "    Also deletes the hanging username/rating fields for both sides.\n",
    "    '''\n",
    "    \n",
    "    # if the rows have already been deleted then just do nothing\n",
    "    try:\n",
    "        a = df_row[\"white_rating\"]\n",
    "    except:\n",
    "        return df_row\n",
    "    \n",
    "    # binary check\n",
    "    col = df_row[\"ep_colour\"]\n",
    "    if col == \"White\":\n",
    "        elo = df_row[\"white_rating\"]\n",
    "        user = df_row[\"white_username\"]\n",
    "    else:\n",
    "        elo = df_row[\"black_rating\"]\n",
    "        user = df_row[\"black_username\"]\n",
    "    \n",
    "    # set new fields\n",
    "    df_row[\"player_rating\"] = elo\n",
    "    df_row[\"username\"] = user\n",
    "    \n",
    "    # drop fields\n",
    "    df_row = df_row.drop([\"white_username\", \"black_username\"])\n",
    "    df_row = df_row.drop([\"white_rating\", \"black_rating\"])\n",
    "    return df_row\n",
    "\n",
    "chess_filter = chess_filter.apply(get_player_stats, axis=1)"
   ]
  },
  {
   "attachments": {},
   "cell_type": "markdown",
   "metadata": {},
   "source": [
    "### PCA Prep and calculating Temptation (Likelihood of taking a move)"
   ]
  },
  {
   "cell_type": "markdown",
   "metadata": {},
   "source": [
    "#### Normal distribution of player Elo"
   ]
  },
  {
   "cell_type": "code",
   "execution_count": 76,
   "metadata": {},
   "outputs": [
    {
     "name": "stdout",
     "output_type": "stream",
     "text": [
      "standard deviation: 399.3739962372178\n",
      "mean: 1240.5744974379188\n"
     ]
    },
    {
     "data": {
      "image/png": "[encoded data removed]",
      "text/plain": [
       "<Figure size 360x360 with 1 Axes>"
      ]
     },
     "metadata": {
      "needs_background": "light"
     },
     "output_type": "display_data"
    }
   ],
   "source": [
    "# get mean and std\n",
    "mean = chess_filter[\"player_rating\"].mean()\n",
    "std = chess_filter[\"player_rating\"].std()\n",
    "\n",
    "# display normal distribution\n",
    "fhgt_hist = sns.displot(chess_filter[\"player_rating\"], kde = False, bins = 15)\n",
    "\n",
    "print(\"standard deviation: \" + str(std))\n",
    "print(\"mean: \" + str(mean))"
   ]
  },
  {
   "cell_type": "markdown",
   "metadata": {},
   "source": [
    "#### Getting temptation and ep-capture probability of each player"
   ]
  },
  {
   "cell_type": "code",
   "execution_count": 181,
   "metadata": {},
   "outputs": [],
   "source": [
    "def group_elo_tens(df_row):\n",
    "    '''Rounds a player's ELO to the nearest 10 and create a new field for it'''    \n",
    "    \n",
    "    df_row[\"elo_class_tens\"] = int(math.ceil(df_row[\"player_rating\"] / 10.0)) * 10\n",
    "    return df_row\n",
    "\n",
    "def divider(df_row):\n",
    "    '''Divides the amount of times en passant happened in an ELO class by\n",
    "    the total number of en passant opportunities'''\n",
    "    \n",
    "    df_row[\"quotient\"] = df_row[\"instances\"] / df_row[\"total\"]\n",
    "    return df_row\n",
    "\n",
    "def apply_quotient(df_row):\n",
    "    '''For each row, store the probability of someone in\n",
    "    their rounded elo class playing en-passant'''\n",
    "    \n",
    "    num = df_row[\"elo_class_tens\"]\n",
    "    \n",
    "    # get probability from separate grouped dataframe\n",
    "    quot = temptation_quotient.loc[num][\"quotient\"]\n",
    "    df_row[\"quotient\"] = quot\n",
    "    return df_row\n",
    "\n",
    "def temptation(df_row):\n",
    "    '''For a board state, get the en-passant temptation of said state'''\n",
    "    \n",
    "    # arbritrary constant\n",
    "    const = 220\n",
    "    temptation = -1*(np.exp((df_row[\"eval_best\"] - df_row[\"eval_ep\"])/const))+1\n",
    "    \n",
    "    # if division by zero just exclude\n",
    "    if (df_row[\"eval_best\"] == 0):\n",
    "        df_row[\"temptation\"] = pd.NA\n",
    "    else:\n",
    "        df_row[\"temptation\"] = temptation\n",
    "    return df_row\n",
    "\n",
    "def group_elo_stds(df_row):\n",
    "    '''Group a player's ELO in larger ELO class for PCA and KNN predictions'''\n",
    "    \n",
    "    elo = df_row[\"player_rating\"]\n",
    "    if elo <= 1000: # approx (mean - std)\n",
    "        df_row[\"elo_class\"] = 1 # \"Low ELO: 0 - ~1000\"\n",
    "    elif elo <= 1400: # approx (mean + std)\n",
    "        df_row[\"elo_class\"] = 2 # \"Average ELO: ~1000 - ~1400\"\n",
    "    else:\n",
    "        df_row[\"elo_class\"] = 3 # \"High ELO: ~1400+\"\n",
    "    return df_row\n",
    "\n",
    "# copy chess filter\n",
    "temptation_data = chess_filter.copy(deep=True)\n",
    "\n",
    "# Group data by 10s\n",
    "temptation_data = temptation_data.apply(group_elo_tens, axis=1)\n",
    "\n",
    "# total amount of a group has a potential e.p. move\n",
    "temptation_totals = temptation_data.groupby('elo_class_tens').size().rename(\"total\")\n",
    "# amount of times a group actually made the e.p. move\n",
    "temptation_instances = temptation_data.groupby('elo_class_tens')['ep_happened'].sum().rename(\"instances\")\n",
    "\n",
    "# get quotient\n",
    "temptation_quotient = pd.concat([temptation_instances, temptation_totals], axis=1)\n",
    "temptation_quotient = temptation_quotient.apply(divider, axis=1)\n",
    "\n",
    "# apply quotient and temptation to main dataframe\n",
    "temptation_data = temptation_data.dropna()\n",
    "temptation_data = temptation_data.apply(apply_quotient, axis=1)\n",
    "temptation_data = temptation_data.apply(temptation, axis=1)\n",
    "temptation_data = temptation_data.dropna()\n",
    "\n",
    "# main elo class grouping\n",
    "temptation_data = temptation_data.apply(group_elo_stds, axis=1)\n",
    "\n",
    "# filter out any entries with negative time taken (for some reason there are some)\n",
    "temptation_data = temptation_data[temptation_data[\"time_taken\"] > 0]\n",
    "\n",
    "# filter out crazy high temptations\n",
    "temptation_data = temptation_data[temptation_data[\"temptation\"] > -500]\n",
    "temptation_data = temptation_data[temptation_data[\"temptation\"] <= 500]\n",
    "temptation_data = temptation_data[temptation_data[\"temptation\"] < 0]\n",
    "\n",
    "# Save for later function tempting(n)\n",
    "save_temptation_data = temptation_data.copy(deep=True)\n",
    "\n",
    "# temptation_data = make_temptation_dataframe()\n",
    "temp_clone = temptation_data.copy(deep=True)"
   ]
  },
  {
   "cell_type": "markdown",
   "metadata": {},
   "source": [
    "#### Reason for ELO grouping to classify probability\n",
    "Ideally we group by player instead of rounding ELOs, but as you can see it does not make a good sample as a majority of players don't have more than 10 entries which will not be very accurate"
   ]
  },
  {
   "cell_type": "code",
   "execution_count": 78,
   "metadata": {},
   "outputs": [
    {
     "name": "stdout",
     "output_type": "stream",
     "text": [
      "ELO grouping\n",
      "standard deviation: 17.943348185429162\n",
      "mean: 22.352422907488986\n",
      "\n",
      "username grouping\n",
      "standard deviation: 4.036735195470273\n",
      "mean: 1.7370763437179049\n"
     ]
    },
    {
     "data": {
      "image/png": "[encoded data removed]",
      "text/plain": [
       "<Figure size 360x360 with 1 Axes>"
      ]
     },
     "metadata": {
      "needs_background": "light"
     },
     "output_type": "display_data"
    },
    {
     "data": {
      "image/png": "[encoded data removed]",
      "text/plain": [
       "<Figure size 360x360 with 1 Axes>"
      ]
     },
     "metadata": {
      "needs_background": "light"
     },
     "output_type": "display_data"
    }
   ],
   "source": [
    "# mini clone of make_temptation_dataframe()\n",
    "temptation_data_2 = chess_filter.copy(deep=True)\n",
    "\n",
    "# Group data by 10s\n",
    "temptation_data_2 = temptation_data_2.apply(group_elo_tens, axis=1)\n",
    "\n",
    "# total amount of a group has a potential e.p. move\n",
    "temptation_totals = temptation_data_2.groupby('elo_class_tens').size().rename(\"total\")\n",
    "# amount of times a group actually made the e.p. move\n",
    "temptation_instances = temptation_data_2.groupby('elo_class_tens')['ep_happened'].sum().rename(\"instances\")\n",
    "\n",
    "# data for groups of 10\n",
    "mean = temptation_totals.mean()\n",
    "std = temptation_totals.std()\n",
    "elo_hist = sns.displot(temptation_totals, kde = False, bins = 15)\n",
    "print(\"ELO grouping\")\n",
    "print(\"standard deviation: \" + str(std))\n",
    "print(\"mean: \" + str(mean))\n",
    "print()\n",
    "\n",
    "# data for groups of username\n",
    "username_totals = temptation_data_2.groupby('username').size().rename(\"total\")\n",
    "\n",
    "mean = username_totals.mean()\n",
    "std = username_totals.std()\n",
    "\n",
    "username_hist = sns.displot(username_totals, kde = False, bins = 15)\n",
    "\n",
    "print(\"username grouping\")\n",
    "print(\"standard deviation: \" + str(std))\n",
    "print(\"mean: \" + str(mean))"
   ]
  },
  {
   "cell_type": "markdown",
   "metadata": {},
   "source": [
    "#### Graph of temptation against probability"
   ]
  },
  {
   "cell_type": "code",
   "execution_count": 182,
   "metadata": {},
   "outputs": [
    {
     "name": "stderr",
     "output_type": "stream",
     "text": [
      "/usr/lib/python3/dist-packages/matplotlib/colors.py:235: VisibleDeprecationWarning: Creating an ndarray from ragged nested sequences (which is a list-or-tuple of lists-or-tuples-or ndarrays with different lengths or shapes) is deprecated. If you meant to do this, you must specify 'dtype=object' when creating the ndarray.\n",
      "  c = np.array(c)\n"
     ]
    },
    {
     "data": {
      "text/plain": [
       "(-100, 0)"
      ]
     },
     "execution_count": 182,
     "metadata": {},
     "output_type": "execute_result"
    },
    {
     "data": {
      "image/png": "[encoded data removed]",
      "text/plain": [
       "<Figure size 432x288 with 1 Axes>"
      ]
     },
     "metadata": {
      "needs_background": "light"
     },
     "output_type": "display_data"
    }
   ],
   "source": [
    "elo_class_display = temptation_data[\"elo_class\"].replace({\n",
    "    1: \"0 - 1000\",\n",
    "    2: \"1001 - 1400\",\n",
    "    3: \"1401+\"\n",
    "})\n",
    "\n",
    "# print(temptation_data[temptation_data[\"temptation\"] < -400].head())\n",
    "# print(len(temptation_data[temptation_data[\"temptation\"] < -400]))\n",
    "\n",
    "ax1 = sns.scatterplot(x=temptation_data[\"temptation\"], y=temptation_data[\"quotient\"], \n",
    "                hue=elo_class_display, palette=\"colorblind\", hue_order=['0 - 1000', '1001 - 1400', '1401+'])\n",
    "sns.move_legend(ax1, title='Elo Class', loc='best')\n",
    "ax1.set_xlabel('Temptation')\n",
    "ax1.set_ylabel('Probability of a player in ELO class making the move')\n",
    "ax1.set_title('Charting Temptation of an EP move against probability')\n",
    "ax1.set_xlim((-100, 0))"
   ]
  },
  {
   "attachments": {},
   "cell_type": "markdown",
   "metadata": {},
   "source": [
    "#### Distribution graph of Temptation throughout different Elo classes"
   ]
  },
  {
   "cell_type": "code",
   "execution_count": 80,
   "metadata": {},
   "outputs": [
    {
     "data": {
      "image/png": "[encoded data removed]",
      "text/plain": [
       "<Figure size 513.8x288 with 1 Axes>"
      ]
     },
     "metadata": {
      "needs_background": "light"
     },
     "output_type": "display_data"
    }
   ],
   "source": [
    "# only entries with an actual en passant capture\n",
    "only_ep = temptation_data[temptation_data[\"ep_happened\"] == True]\n",
    "\n",
    "# long format for sns displot\n",
    "grouped_class = pd.DataFrame(data=np.c_[only_ep[\"temptation\"], only_ep[\"elo_class\"]],\n",
    "                             columns=[\"temptation\", \"elo_class\"])\n",
    "\n",
    "# make distribution plot\n",
    "ax2 = sns.displot(data=grouped_class, x='temptation', hue='elo_class', kind=\"kde\", \n",
    "                  fill=True, palette=\"colorblind\", height=4, aspect=1.6)\n",
    "\n",
    "# limit to -40, goes past that but the graph stays at 0 after this point\n",
    "ax2.set(xlim=(-40, 0))\n",
    "\n",
    "# title and labels\n",
    "ax2.fig.suptitle(\"Distribution of En-Passant plays throughout three ELO classes\", fontsize=12)\n",
    "ax2.fig.subplots_adjust(top=0.9)\n",
    "ax2.ax.set_xlabel(\"Temptation\", fontsize=10)\n",
    "ax2.ax.set_ylabel(\"Density\", fontsize=10)\n",
    "\n",
    "# legend\n",
    "sns.move_legend(ax2, \"upper center\", ncol=3, title=\"ELO Class\", bbox_to_anchor=(0.5, 0.93)\n",
    "                , frameon=True)\n",
    "\n",
    "# legend labels\n",
    "new_labels = ['0 - 1000', '1001 - 1400', '1401+']\n",
    "for t, l in zip(ax2._legend.texts, new_labels):\n",
    "    t.set_text(l)\n",
    "\n",
    "# save high quality image\n",
    "plt.savefig('report/images/ep_distplot_exp.png', dpi=300)"
   ]
  },
  {
   "cell_type": "markdown",
   "metadata": {},
   "source": [
    "#### Prepare unneccessary columns and set dummy variables for PCA "
   ]
  },
  {
   "cell_type": "code",
   "execution_count": 152,
   "metadata": {},
   "outputs": [
    {
     "name": "stdout",
     "output_type": "stream",
     "text": [
      "ep_colour        int64\n",
      "ep_happened      int64\n",
      "rated            int64\n",
      "time_class       int64\n",
      "time_taken     float64\n",
      "eval_player    float64\n",
      "quotient       float64\n",
      "temptation     float64\n",
      "elo_class        int64\n",
      "dtype: object\n"
     ]
    }
   ],
   "source": [
    "def prep_temptation_dataframe(temptation_data):\n",
    "    # Uneccessary columns for PCA\n",
    "    temptation_data = temptation_data.drop(['fen', 'pgn', 'time_control', 'player_rating'], axis=1)\n",
    "    temptation_data = temptation_data.drop(['eval_best', 'eval_ep', 'pre_eval', 'username'], axis=1)\n",
    "    \n",
    "    # Dummy variables\n",
    "    temptation_data['ep_happened'] = temptation_data['ep_happened'].replace({True:1, False:0})\n",
    "    temptation_data['ep_colour'] = temptation_data['ep_colour'].replace({'White':1, 'Black':0})\n",
    "    temptation_data['rated'] = temptation_data['rated'].replace({True:1, False:0})\n",
    "    temptation_data['time_class'] = temptation_data['time_class'].replace({'rapid':2, 'blitz':1, 'bullet':0})\n",
    "\n",
    "    # Drop columns that don't contribute to PCA\n",
    "    temptation_data = temptation_data.drop(['elo_class_tens'], axis=1)\n",
    "    return temptation_data\n",
    "\n",
    "# Drop games with repeated player names so that all records are independent\n",
    "temptation_data = temptation_data.drop_duplicates(subset=['username'])\n",
    "\n",
    "temptation_data = prep_temptation_dataframe(temptation_data)\n",
    "print(temptation_data.dtypes) # PCA hyperparameters"
   ]
  },
  {
   "cell_type": "markdown",
   "metadata": {},
   "source": [
    "### Applying PCA and K-nearest Neighbours"
   ]
  },
  {
   "cell_type": "markdown",
   "metadata": {},
   "source": [
    "#### Testing coefficients for exponential model"
   ]
  },
  {
   "cell_type": "code",
   "execution_count": 82,
   "metadata": {},
   "outputs": [],
   "source": [
    "from mpl_toolkits.mplot3d import Axes3D\n",
    "\n",
    "from sklearn.preprocessing import StandardScaler\n",
    "\n",
    "def tempting(n):\n",
    "    '''\n",
    "    Repeats a temptation function to try and find the best coefficient for knn\n",
    "    '''\n",
    "    \n",
    "    \n",
    "    # copy and prep temptation data\n",
    "    temptation_data = save_temptation_data.copy(deep=True)\n",
    "    temptation_data = prep_temptation_dataframe(temptation_data)\n",
    "    \n",
    "    # features and labels\n",
    "    elo_labels=temptation_data[\"elo_class\"]\n",
    "    elo_features=temptation_data.drop(columns=[\"elo_class\"])\n",
    "\n",
    "    # split data\n",
    "    train, test, train_lbl, test_lbl = train_test_split(elo_features, elo_labels, test_size=0.2)\n",
    "\n",
    "    # normalise\n",
    "    scaler = StandardScaler()\n",
    "    scaler.fit(train)\n",
    "\n",
    "    # Apply transform to both the training set and the test set\n",
    "    train = scaler.transform(train)\n",
    "    test = scaler.transform(test)\n",
    "    # Make an instance of the pca model\n",
    "    pca = PCA(n_components=(len(temptation_data.columns)-1))\n",
    "    pca.fit(train)\n",
    "\n",
    "    # Transform images with pca model\n",
    "    train_result = pca.transform(train)\n",
    "\n",
    "    # get the highest accuracy number of neighbours\n",
    "    kns = 0\n",
    "    n_neighbors = 0\n",
    "    for i in range (3,7):\n",
    "        knn = KNeighborsClassifier(i)\n",
    "        knn.fit(train_result, train_lbl)\n",
    "\n",
    "        # Accuracy of knn test\n",
    "        if knn.score(test, test_lbl) > kns:\n",
    "            kns = knn.score(test, test_lbl)\n",
    "            n_neighbors = i\n",
    "\n",
    "    # repeat 100 times and get average value\n",
    "    accuracy = 0\n",
    "    for i in range(100):\n",
    "        # print(\"optimal num: \" + str(n_neighbors))\n",
    "        knn = KNeighborsClassifier(n_neighbors)\n",
    "        knn.fit(train_result, train_lbl)\n",
    "        accuracy += knn.score(test, test_lbl)\n",
    "    print(str(n) + \" factor: \" + str(accuracy/100))\n",
    "    \n",
    "    return accuracy/100\n",
    "\n",
    "# for i in range(1):\n",
    "#     tempting(220)"
   ]
  },
  {
   "cell_type": "markdown",
   "metadata": {},
   "source": [
    "#### Apply PCA"
   ]
  },
  {
   "cell_type": "code",
   "execution_count": 175,
   "metadata": {},
   "outputs": [
    {
     "name": "stdout",
     "output_type": "stream",
     "text": [
      "[0.16375475 0.15609785 0.13279046 0.12393376 0.12339981 0.11851649\n",
      " 0.09742907 0.0840778 ]\n"
     ]
    }
   ],
   "source": [
    "# labels and features0\n",
    "elo_labels=temptation_data[\"elo_class\"]\n",
    "elo_features=temptation_data.drop(columns=[\"elo_class\"])\n",
    "\n",
    "# split data\n",
    "train, test, train_lbl, test_lbl = train_test_split(elo_features, elo_labels, stratify=elo_labels, test_size=0.4)\n",
    "\n",
    "# standardise\n",
    "scaler = StandardScaler()\n",
    "scaler.fit(train)\n",
    "\n",
    "# Apply transform to both the training set and the test set\n",
    "train = scaler.transform(train)\n",
    "test = scaler.transform(test)\n",
    "\n",
    "# Make an instance of the pca model\n",
    "pca = PCA(n_components=(len(temptation_data.columns)-1))\n",
    "pca.fit(train)\n",
    "print(pca.explained_variance_ratio_)\n",
    "\n",
    "# Transform images with pca model\n",
    "train_result = pca.transform(train)\n",
    "test_result = pca.transform(test)"
   ]
  },
  {
   "cell_type": "markdown",
   "metadata": {},
   "source": [
    "#### Apply K-nearest Neighbours"
   ]
  },
  {
   "cell_type": "code",
   "execution_count": 180,
   "metadata": {},
   "outputs": [
    {
     "name": "stdout",
     "output_type": "stream",
     "text": [
      "Accuracy: 0.0\n"
     ]
    }
   ],
   "source": [
    "# set up data\n",
    "X_data = train_result[:,:2] # This needs 2cols for knn graph\n",
    "y = train_lbl\n",
    "\n",
    "# get the highest accuracy number of neighbours\n",
    "clf = KNeighborsClassifier(5, weights='uniform')\n",
    "clf.fit(X_data, y)\n",
    "\n",
    "# create knn classifier\n",
    "\n",
    "accuracy = clf.score(test[:,:2], test_lbl)\n",
    "print(f'Accuracy: {accuracy}')\n",
    "\n",
    "# For k-NN metrics later\n",
    "# test_predictions is the categories the classifier predicted for the test set's data\n",
    "test_predictions = clf.predict(test[:,:2])"
   ]
  },
  {
   "cell_type": "markdown",
   "metadata": {},
   "source": [
    "#### Display KNN Boundary Chart"
   ]
  },
  {
   "cell_type": "code",
   "execution_count": 179,
   "metadata": {},
   "outputs": [
    {
     "name": "stderr",
     "output_type": "stream",
     "text": [
      "/usr/lib/python3/dist-packages/matplotlib/colors.py:235: VisibleDeprecationWarning: Creating an ndarray from ragged nested sequences (which is a list-or-tuple of lists-or-tuples-or ndarrays with different lengths or shapes) is deprecated. If you meant to do this, you must specify 'dtype=object' when creating the ndarray.\n",
      "  c = np.array(c)\n"
     ]
    },
    {
     "data": {
      "image/png": "[encoded data removed]",
      "text/plain": [
       "<Figure size 432x288 with 1 Axes>"
      ]
     },
     "metadata": {
      "needs_background": "light"
     },
     "output_type": "display_data"
    }
   ],
   "source": [
    "# Meshgrid size\n",
    "h = .02\n",
    "\n",
    "# Make mesh grid\n",
    "x_min, x_max = X_data[:, 0].min() - 1, X_data[:, 0].max() + 1\n",
    "y_min, y_max = X_data[:, 1].min() - 1, X_data[:, 1].max() + 1\n",
    "xx, yy = np.meshgrid(np.arange(x_min, x_max, h),\n",
    "np.arange(y_min, y_max, h))\n",
    "Z = clf.predict(np.c_[xx.ravel(), yy.ravel()])\n",
    "Z = Z.reshape(xx.shape)\n",
    "\n",
    "Z = np.array(Z, dtype=float)\n",
    "\n",
    "# Create fig\n",
    "fig, ax2 = plt.subplots(figsize=(6,4))\n",
    "\n",
    "# colour palettes of sns colour blind imported as matplotlib colours\n",
    "cmap_1 = ListedColormap(sns.color_palette(\"colorblind\"))\n",
    "hex_cols = sns.color_palette(\"colorblind\").as_hex()\n",
    "\n",
    "# cols = [\"#BFDBEB\", \"#F6E2C0\", \"#BFE6DB\"]  # same hue as sns fill\n",
    "cols = [\"#158ccc\", \"#e7a838\", \"#0bb888\"]    # custom darker colours\n",
    "cmap_2 = ListedColormap(cols) \n",
    "\n",
    "# plot contours using darker colours\n",
    "plt.contourf(xx, yy, Z, cmap=cmap_2)\n",
    "\n",
    "# hue labels\n",
    "hue_labels = ['0 - 1000', '1001 - 1400', '1401+']\n",
    "\n",
    "# Labels for classes\n",
    "train_lbl = train_lbl.replace({\n",
    "    1: hue_labels[0],\n",
    "    2: hue_labels[1],\n",
    "    3: hue_labels[2]\n",
    "})\n",
    "\n",
    "# Plot data\n",
    "ax2 = sns.scatterplot(x=X_data[:, 0], y=X_data[:, 1], hue=train_lbl,\n",
    "palette=\"colorblind\", alpha=1.0, edgecolor=\"black\", hue_order=hue_labels)\n",
    "sns.move_legend(ax2, title='ELO Class', loc='best')\n",
    "\n",
    "# Set graph dimensions\n",
    "ax2.set_xlim(xx.min(), xx.max())\n",
    "ax2.set_ylim(yy.min(), yy.max())\n",
    "\n",
    "# Label axes\n",
    "ax2.set_title(\"K-Nearest Neighbours of PCA Graph, classifying three ELO classes\", fontsize=12)\n",
    "ax2.set_xlabel(\"PC1\", fontsize=10)\n",
    "ax2.set_ylabel(\"PC2\", fontsize=10)\n",
    "\n",
    "plt.savefig('report/images/knn_graph_exp.png', dpi=300)"
   ]
  },
  {
   "cell_type": "code",
   "execution_count": 86,
   "metadata": {},
   "outputs": [
    {
     "data": {
      "image/png": "[encoded data removed]",
      "text/plain": [
       "<Figure size 432x288 with 1 Axes>"
      ]
     },
     "metadata": {
      "needs_background": "light"
     },
     "output_type": "display_data"
    }
   ],
   "source": [
    "PC_values = np.arange(pca.n_components_) + 1\n",
    "plt.plot(PC_values, pca.explained_variance_ratio_, 'o-', linewidth=2, color=hex_cols[0])\n",
    "plt.title('Scree Plot of most significant principle components')\n",
    "plt.xlabel('Principal Component')\n",
    "plt.ylabel('Variance Explained')\n",
    "plt.show()"
   ]
  },
  {
   "cell_type": "code",
   "execution_count": 178,
   "metadata": {},
   "outputs": [
    {
     "name": "stdout",
     "output_type": "stream",
     "text": [
      "Confusion matrix:\n",
      "    Predicted\n",
      "    1   2   3\n",
      "[[ 84  71  75]\n",
      " [ 19  40  37]\n",
      " [ 95 120  92]]\n",
      "Precision score:  0.3991313026718658\n",
      "Recall score:  0.3412322274881517\n",
      "F1 score:  0.35436120643766256\n",
      "Accuracy:  0.3412322274881517\n",
      "Sensitivity of 1:  0.42424242424242425\n",
      "Sensitivity of 2:  0.17316017316017315\n",
      "Sensitivity of 3:  0.45098039215686275\n"
     ]
    }
   ],
   "source": [
    "from sklearn.metrics import confusion_matrix\n",
    "from sklearn.metrics import precision_score\n",
    "from sklearn.metrics import recall_score\n",
    "from sklearn.metrics import f1_score\n",
    "from sklearn.metrics import accuracy_score\n",
    "\n",
    "\n",
    "#LILA\n",
    "# Documentation for confusion matrix:https://scikit-learn.org/stable/modules/generated/sklearn.metrics.confusion_matrix.html\n",
    "# Link for interpreting confusion matrix output: https://stats.stackexchange.com/questions/318780/how-to-understand-confusion-matrix-for-3x3\n",
    "\n",
    "# Actual is the y-axis on confusion matrix for 1, 2, 3 going downwards\n",
    "confusion = confusion_matrix(test_predictions, test_lbl)\n",
    "print('Confusion matrix:\\n    Predicted\\n    1   2   3')\n",
    "print(confusion_matrix(test_predictions, test_lbl))\n",
    "print('Precision score: ', precision_score(test_predictions, test_lbl, average='weighted')) # LILA CHECK THIS IS MEANT TO BE WEIGHTED AND NOT ONE OF THE OTHER CRITERIA\n",
    "print('Recall score: ', recall_score(test_predictions, test_lbl, average='weighted'))\n",
    "print('F1 score: ', f1_score(test_predictions, test_lbl, average='weighted'))\n",
    "print('Accuracy: ', accuracy_score(test_predictions, test_lbl))\n",
    "\n",
    "def sensitivity(TP, FN):\n",
    "    '''Returns sensitivity of a class given the number of its true positives TP and false negatives FN.'''\n",
    "    return TP / (TP + FN)\n",
    "\n",
    "def selectivity(TN, FP):\n",
    "    '''Returns selectivity of a class given the number of its true negatives TN and false positives FP.'''\n",
    "    return TN / (TN + FP)\n",
    "\n",
    "# Good explanation of what each TP, TN etc is: https://stackoverflow.com/questions/55635406/how-to-calculate-multiclass-overall-accuracy-sensitivity-and-specificity\n",
    "\n",
    "# Class 1\n",
    "TP_1 = confusion[0][0]\n",
    "TN_1 = confusion[1][1] + confusion[1][2] + confusion[2][1] + confusion[2][2]\n",
    "FP_1 = confusion[0][1] + confusion[0][2]\n",
    "FN_1 = confusion[1][0] + confusion[2][0]\n",
    "\n",
    "# Class 2\n",
    "TP_2 = confusion[1][1]\n",
    "TN_2 = confusion[0][0] + confusion[0][2] + confusion[2][0] + confusion[2][2]\n",
    "FP_2 = confusion[1][0] + confusion[1][2]\n",
    "FN_2 = confusion[0][1] + confusion[2][1]\n",
    "\n",
    "# Class 3\n",
    "TP_3 = confusion[2][2]\n",
    "TN_3 = confusion[0][0] + confusion[0][1] + confusion[1][0] + confusion[1][1]\n",
    "FP_3 = confusion[2][0] + confusion[2][1]\n",
    "FN_3 = confusion[0][2] + confusion[1][2]\n",
    "\n",
    "\n",
    "print('Sensitivity of 1: ', sensitivity(TP_1, FN_1))\n",
    "print('Sensitivity of 2: ', sensitivity(TP_2, FN_2))\n",
    "print('Sensitivity of 3: ', sensitivity(TP_3, FN_3))\n",
    "\n",
    "\n"
   ]
  },
  {
   "cell_type": "code",
   "execution_count": 88,
   "metadata": {},
   "outputs": [],
   "source": [
    "# AUC info: https://stephenallwright.com/interpret-auc-score/\n",
    "\n",
    "# AUC for logistic regression info: https://www.statology.org/auc-in-python/#:~:text=We%20can%20use%20the%20metrics.roc_auc_score%20%28%29%20function%20to,%3D%20metrics.roc_auc_score%28y_test%2C%20y_pred_proba%29%20%23print%20AUC%20score%20print%28auc%29%200.5602104030579559\n",
    "\n",
    "# ROC for k-NN: https://www.cambridge.org/core/services/aop-cambridge-core/content/view/S1481803500013336"
   ]
  },
  {
   "attachments": {},
   "cell_type": "markdown",
   "metadata": {},
   "source": [
    "### Making Scree plot for K-Means, Elbow Method\n",
    "\n",
    "Plotting mean squared error E against number of clusters K"
   ]
  },
  {
   "cell_type": "code",
   "execution_count": 89,
   "metadata": {},
   "outputs": [
    {
     "data": {
      "image/png": "[encoded data removed]",
      "text/plain": [
       "<Figure size 432x288 with 1 Axes>"
      ]
     },
     "metadata": {
      "needs_background": "light"
     },
     "output_type": "display_data"
    }
   ],
   "source": [
    "upper = 26\n",
    "\n",
    "elo_labels = temptation_data[\"elo_class\"]\n",
    "elo_features = temptation_data.drop(columns=[\"elo_class\"])\n",
    "\n",
    "# Standardize ELO features\n",
    "scaler = StandardScaler()\n",
    "scaled_elo_feats = scaler.fit_transform(elo_features)\n",
    "\n",
    "# Find standard squared error for each k\n",
    "SSE = []\n",
    "for k in range(1, upper):\n",
    "    pre_k_means = KMeans(n_clusters=k, n_init=3)\n",
    "    pre_k_means.fit(scaled_elo_feats)\n",
    "    # Record SSE for this k\n",
    "    SSE.append(pre_k_means.inertia_)\n",
    "\n",
    "# Create Scree plot\n",
    "plt.title(\"Standard Squared Error for different numbers of K-Means clusters\")\n",
    "plt.plot(range(1, upper), SSE)\n",
    "plt.xticks(range(1, upper))\n",
    "plt.xlabel(\"Number of Clusters\")\n",
    "plt.ylabel(\"SSE\")\n",
    "plt.show()"
   ]
  },
  {
   "attachments": {},
   "cell_type": "markdown",
   "metadata": {},
   "source": [
    "### Applying K-Means"
   ]
  },
  {
   "cell_type": "code",
   "execution_count": 90,
   "metadata": {},
   "outputs": [
    {
     "name": "stderr",
     "output_type": "stream",
     "text": [
      "/afs/inf.ed.ac.uk/user/s22/s2202694/.local/lib/python3.8/site-packages/sklearn/cluster/_kmeans.py:870: FutureWarning: The default value of `n_init` will change from 10 to 'auto' in 1.4. Set the value of `n_init` explicitly to suppress the warning\n",
      "  warnings.warn(\n"
     ]
    },
    {
     "data": {
      "text/plain": [
       "Text(0.5, 1.0, 'K-Means groupings for 9 clusters')"
      ]
     },
     "execution_count": 90,
     "metadata": {},
     "output_type": "execute_result"
    },
    {
     "data": {
      "image/png": "[encoded data removed]",
      "text/plain": [
       "<Figure size 432x288 with 1 Axes>"
      ]
     },
     "metadata": {
      "needs_background": "light"
     },
     "output_type": "display_data"
    }
   ],
   "source": [
    "# Set number of clusters and PCAs\n",
    "num_clusters = 9\n",
    "num_PCA_components = 7\n",
    "\n",
    "# Apply PCA to reduce number of dimensions\n",
    "pca = PCA(n_components=num_PCA_components).fit(scaled_elo_feats)\n",
    "pca_scores = pca.transform(scaled_elo_feats)\n",
    "\n",
    "# Apply K-Means clustering\n",
    "model_kmeans = KMeans(n_clusters=num_clusters, max_iter=10) # Lila Justify why max_iter=5\n",
    "pca_scores_kmeans = model_kmeans.fit(pca_scores)\n",
    "\n",
    "# Find cluster centres\n",
    "centres = np.array(model_kmeans.cluster_centers_)\n",
    "\n",
    "# Initialise new dataframe for K-Means predictions\n",
    "kmeans_df = pd.DataFrame(pca_scores)\n",
    "predicted = []\n",
    "\n",
    "# Fit model to each PCA score\n",
    "for s in pca_scores:\n",
    "    predicted.append(model_kmeans.predict(s.reshape(1, -1)))\n",
    "\n",
    "# Helper method to convert 'predicts's list format into a single element\n",
    "def list_to_elem(lst):\n",
    "    '''Converts single element list to an element'''\n",
    "    return lst[0]\n",
    "\n",
    "# Add predicted points to dataframe\n",
    "kmeans_df['Cluster'] = predicted\n",
    "kmeans_df['Cluster'] = kmeans_df['Cluster'].apply(list_to_elem)\n",
    "\n",
    "# Plot scatter plot\n",
    "sns.color_palette(\"colorblind\")\n",
    "sns.scatterplot(x=kmeans_df.iloc[:,0], y=kmeans_df.iloc[:,1], hue=kmeans_df['Cluster'], palette='colorblind')\n",
    "plt.scatter(centres[:,0], centres[:,1], marker=\"x\", color='black') # Plot centres of clusters\n",
    "\n",
    "# Lila check these should be labelled PC1 and PC2\n",
    "plt.xlabel('PC1')\n",
    "plt.ylabel('PC2')\n",
    "plt.legend(loc=\"upper right\",ncol=2, title=\"Clusters\")\n",
    "plt.title(f\"K-Means groupings for {num_clusters} clusters\") # Lila better title?\n"
   ]
  },
  {
   "attachments": {},
   "cell_type": "markdown",
   "metadata": {},
   "source": [
    "### Evaluation techniques for K-NN\n",
    "\n",
    "(Probs gonna not include K-Means???)\n",
    "\n",
    "- Classification accuracy (DONE). Watch out for: should we also justify using a graph whhy 3 different ELO classes at these class boundaries gives the best accuracy? https://towardsdatascience.com/metrics-to-evaluate-your-machine-learning-algorithm-f10ba6e38234\n",
    "- Confusion matrix (DONE)\n",
    "- F1 scores (DONE)\n",
    "- Area Under Curve USE THIS ONE DEFINITELY\n",
    "- Mean absolute error\n",
    "- Mean Square Error\n",
    "\n",
    "\n",
    "\n",
    "### Q1 evaluation idea\n",
    "- Bayes factor? https://www.statisticshowto.com/bayes-factor-definition/\n",
    "- AUC https://www.statology.org/auc-in-python/#:~:text=We%20can%20use%20the%20metrics.roc_auc_score%20%28%29%20function%20to,%3D%20metrics.roc_auc_score%28y_test%2C%20y_pred_proba%29%20%23print%20AUC%20score%20print%28auc%29%200.5602104030579559\n"
   ]
  }
 ],
 "metadata": {
  "kernelspec": {
   "display_name": "Python 3.10.0 64-bit",
   "language": "python",
   "name": "python3"
  },
  "language_info": {
   "codemirror_mode": {
    "name": "ipython",
    "version": 3
   },
   "file_extension": ".py",
   "mimetype": "text/x-python",
   "name": "python",
   "nbconvert_exporter": "python",
   "pygments_lexer": "ipython3",
   "version": "3.10.0"
  },
  "orig_nbformat": 4,
  "vscode": {
   "interpreter": {
    "hash": "af9e20a8a0966cbd372a0aa7bed274057977050c7fa80906a459a8652c37ca3c"
   }
  }
 },
 "nbformat": 4,
 "nbformat_minor": 2
}
