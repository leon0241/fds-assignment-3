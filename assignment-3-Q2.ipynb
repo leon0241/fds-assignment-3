{
 "cells": [
  {
   "attachments": {},
   "cell_type": "markdown",
   "metadata": {},
   "source": [
    "## Assignment 3 Question 2\n",
    "\n",
    "Is it possible to predict ELO of a player based on context of a potential en passant move?\n",
    "\n",
    "Only investigating the player who is in the position of making the en passant move.\n",
    "\n",
    "Lila See FDS PCA solutions for 3 good points for what PCA is good for - include in report?"
   ]
  },
  {
   "attachments": {},
   "cell_type": "markdown",
   "metadata": {},
   "source": [
    "#### Import Libraries"
   ]
  },
  {
   "cell_type": "code",
   "execution_count": 1,
   "metadata": {},
   "outputs": [],
   "source": [
    "import pandas as pd\n",
    "import chess\n",
    "import chess.pgn\n",
    "import chess.engine\n",
    "import io\n",
    "import os\n",
    "import numpy as np\n",
    "import seaborn as sns\n",
    "import matplotlib.pyplot as plt\n",
    "import re\n",
    "import time\n",
    "\n",
    "import data_cleaning\n",
    "\n",
    "# PCA\n",
    "from sklearn.decomposition import PCA\n",
    "from sklearn.preprocessing import StandardScaler"
   ]
  },
  {
   "cell_type": "markdown",
   "metadata": {},
   "source": [
    "#### Import stockfish 🐟🐟🐟"
   ]
  },
  {
   "cell_type": "code",
   "execution_count": 3,
   "metadata": {},
   "outputs": [
    {
     "name": "stdout",
     "output_type": "stream",
     "text": [
      "/afs/inf.ed.ac.uk/user/s22/s2202694/Documents/fds-assignment-3\\stockfish\\stockfish-windows-2022-x86-64-avx2.exe\n"
     ]
    },
    {
     "ename": "PermissionError",
     "evalue": "[Errno 13] Permission denied: '/afs/inf.ed.ac.uk/user/s22/s2202694/Documents/fds-assignment-3/stockfish/stockfish-windows-2022-x86-64-avx2.exe'",
     "output_type": "error",
     "traceback": [
      "\u001b[0;31m---------------------------------------------------------------------------\u001b[0m",
      "\u001b[0;31mFileNotFoundError\u001b[0m                         Traceback (most recent call last)",
      "\u001b[0;32m<ipython-input-3-d641fd91affa>\u001b[0m in \u001b[0;36m<module>\u001b[0;34m\u001b[0m\n\u001b[1;32m      6\u001b[0m \u001b[0;32mtry\u001b[0m\u001b[0;34m:\u001b[0m\u001b[0;34m\u001b[0m\u001b[0;34m\u001b[0m\u001b[0m\n\u001b[0;32m----> 7\u001b[0;31m     \u001b[0mfish\u001b[0m \u001b[0;34m=\u001b[0m \u001b[0mStockfish\u001b[0m\u001b[0;34m(\u001b[0m\u001b[0mpath\u001b[0m\u001b[0;34m=\u001b[0m\u001b[0mSTOCKFISH_LOC\u001b[0m\u001b[0;34m)\u001b[0m\u001b[0;34m\u001b[0m\u001b[0;34m\u001b[0m\u001b[0m\n\u001b[0m\u001b[1;32m      8\u001b[0m \u001b[0;32mexcept\u001b[0m\u001b[0;34m:\u001b[0m\u001b[0;34m\u001b[0m\u001b[0;34m\u001b[0m\u001b[0m\n",
      "\u001b[0;32m~/.local/lib/python3.8/site-packages/stockfish/models.py\u001b[0m in \u001b[0;36m__init__\u001b[0;34m(self, path, depth, parameters)\u001b[0m\n\u001b[1;32m     46\u001b[0m         \u001b[0mself\u001b[0m\u001b[0;34m.\u001b[0m\u001b[0m_path\u001b[0m \u001b[0;34m=\u001b[0m \u001b[0mpath\u001b[0m\u001b[0;34m\u001b[0m\u001b[0;34m\u001b[0m\u001b[0m\n\u001b[0;32m---> 47\u001b[0;31m         self._stockfish = subprocess.Popen(\n\u001b[0m\u001b[1;32m     48\u001b[0m             \u001b[0mself\u001b[0m\u001b[0;34m.\u001b[0m\u001b[0m_path\u001b[0m\u001b[0;34m,\u001b[0m\u001b[0;34m\u001b[0m\u001b[0;34m\u001b[0m\u001b[0m\n",
      "\u001b[0;32m/usr/lib/python3.8/subprocess.py\u001b[0m in \u001b[0;36m__init__\u001b[0;34m(self, args, bufsize, executable, stdin, stdout, stderr, preexec_fn, close_fds, shell, cwd, env, universal_newlines, startupinfo, creationflags, restore_signals, start_new_session, pass_fds, encoding, errors, text)\u001b[0m\n\u001b[1;32m    857\u001b[0m \u001b[0;34m\u001b[0m\u001b[0m\n\u001b[0;32m--> 858\u001b[0;31m             self._execute_child(args, executable, preexec_fn, close_fds,\n\u001b[0m\u001b[1;32m    859\u001b[0m                                 \u001b[0mpass_fds\u001b[0m\u001b[0;34m,\u001b[0m \u001b[0mcwd\u001b[0m\u001b[0;34m,\u001b[0m \u001b[0menv\u001b[0m\u001b[0;34m,\u001b[0m\u001b[0;34m\u001b[0m\u001b[0;34m\u001b[0m\u001b[0m\n",
      "\u001b[0;32m/usr/lib/python3.8/subprocess.py\u001b[0m in \u001b[0;36m_execute_child\u001b[0;34m(self, args, executable, preexec_fn, close_fds, pass_fds, cwd, env, startupinfo, creationflags, shell, p2cread, p2cwrite, c2pread, c2pwrite, errread, errwrite, restore_signals, start_new_session)\u001b[0m\n\u001b[1;32m   1703\u001b[0m                         \u001b[0merr_msg\u001b[0m \u001b[0;34m=\u001b[0m \u001b[0mos\u001b[0m\u001b[0;34m.\u001b[0m\u001b[0mstrerror\u001b[0m\u001b[0;34m(\u001b[0m\u001b[0merrno_num\u001b[0m\u001b[0;34m)\u001b[0m\u001b[0;34m\u001b[0m\u001b[0;34m\u001b[0m\u001b[0m\n\u001b[0;32m-> 1704\u001b[0;31m                     \u001b[0;32mraise\u001b[0m \u001b[0mchild_exception_type\u001b[0m\u001b[0;34m(\u001b[0m\u001b[0merrno_num\u001b[0m\u001b[0;34m,\u001b[0m \u001b[0merr_msg\u001b[0m\u001b[0;34m,\u001b[0m \u001b[0merr_filename\u001b[0m\u001b[0;34m)\u001b[0m\u001b[0;34m\u001b[0m\u001b[0;34m\u001b[0m\u001b[0m\n\u001b[0m\u001b[1;32m   1705\u001b[0m                 \u001b[0;32mraise\u001b[0m \u001b[0mchild_exception_type\u001b[0m\u001b[0;34m(\u001b[0m\u001b[0merr_msg\u001b[0m\u001b[0;34m)\u001b[0m\u001b[0;34m\u001b[0m\u001b[0;34m\u001b[0m\u001b[0m\n",
      "\u001b[0;31mFileNotFoundError\u001b[0m: [Errno 2] No such file or directory: '/afs/inf.ed.ac.uk/user/s22/s2202694/Documents/fds-assignment-3\\\\stockfish\\\\stockfish-windows-2022-x86-64-avx2.exe'",
      "\nDuring handling of the above exception, another exception occurred:\n",
      "\u001b[0;31mPermissionError\u001b[0m                           Traceback (most recent call last)",
      "\u001b[0;32m<ipython-input-3-d641fd91affa>\u001b[0m in \u001b[0;36m<module>\u001b[0;34m\u001b[0m\n\u001b[1;32m      7\u001b[0m     \u001b[0mfish\u001b[0m \u001b[0;34m=\u001b[0m \u001b[0mStockfish\u001b[0m\u001b[0;34m(\u001b[0m\u001b[0mpath\u001b[0m\u001b[0;34m=\u001b[0m\u001b[0mSTOCKFISH_LOC\u001b[0m\u001b[0;34m)\u001b[0m\u001b[0;34m\u001b[0m\u001b[0;34m\u001b[0m\u001b[0m\n\u001b[1;32m      8\u001b[0m \u001b[0;32mexcept\u001b[0m\u001b[0;34m:\u001b[0m\u001b[0;34m\u001b[0m\u001b[0;34m\u001b[0m\u001b[0m\n\u001b[0;32m----> 9\u001b[0;31m     \u001b[0mfish\u001b[0m \u001b[0;34m=\u001b[0m \u001b[0mStockfish\u001b[0m\u001b[0;34m(\u001b[0m\u001b[0mpath\u001b[0m\u001b[0;34m=\u001b[0m\u001b[0mSTOCKFISH_LOC_UNIX\u001b[0m\u001b[0;34m)\u001b[0m\u001b[0;34m\u001b[0m\u001b[0;34m\u001b[0m\u001b[0m\n\u001b[0m",
      "\u001b[0;32m~/.local/lib/python3.8/site-packages/stockfish/models.py\u001b[0m in \u001b[0;36m__init__\u001b[0;34m(self, path, depth, parameters)\u001b[0m\n\u001b[1;32m     45\u001b[0m         }\n\u001b[1;32m     46\u001b[0m         \u001b[0mself\u001b[0m\u001b[0;34m.\u001b[0m\u001b[0m_path\u001b[0m \u001b[0;34m=\u001b[0m \u001b[0mpath\u001b[0m\u001b[0;34m\u001b[0m\u001b[0;34m\u001b[0m\u001b[0m\n\u001b[0;32m---> 47\u001b[0;31m         self._stockfish = subprocess.Popen(\n\u001b[0m\u001b[1;32m     48\u001b[0m             \u001b[0mself\u001b[0m\u001b[0;34m.\u001b[0m\u001b[0m_path\u001b[0m\u001b[0;34m,\u001b[0m\u001b[0;34m\u001b[0m\u001b[0;34m\u001b[0m\u001b[0m\n\u001b[1;32m     49\u001b[0m             \u001b[0muniversal_newlines\u001b[0m\u001b[0;34m=\u001b[0m\u001b[0;32mTrue\u001b[0m\u001b[0;34m,\u001b[0m\u001b[0;34m\u001b[0m\u001b[0;34m\u001b[0m\u001b[0m\n",
      "\u001b[0;32m/usr/lib/python3.8/subprocess.py\u001b[0m in \u001b[0;36m__init__\u001b[0;34m(self, args, bufsize, executable, stdin, stdout, stderr, preexec_fn, close_fds, shell, cwd, env, universal_newlines, startupinfo, creationflags, restore_signals, start_new_session, pass_fds, encoding, errors, text)\u001b[0m\n\u001b[1;32m    856\u001b[0m                             encoding=encoding, errors=errors)\n\u001b[1;32m    857\u001b[0m \u001b[0;34m\u001b[0m\u001b[0m\n\u001b[0;32m--> 858\u001b[0;31m             self._execute_child(args, executable, preexec_fn, close_fds,\n\u001b[0m\u001b[1;32m    859\u001b[0m                                 \u001b[0mpass_fds\u001b[0m\u001b[0;34m,\u001b[0m \u001b[0mcwd\u001b[0m\u001b[0;34m,\u001b[0m \u001b[0menv\u001b[0m\u001b[0;34m,\u001b[0m\u001b[0;34m\u001b[0m\u001b[0;34m\u001b[0m\u001b[0m\n\u001b[1;32m    860\u001b[0m                                 \u001b[0mstartupinfo\u001b[0m\u001b[0;34m,\u001b[0m \u001b[0mcreationflags\u001b[0m\u001b[0;34m,\u001b[0m \u001b[0mshell\u001b[0m\u001b[0;34m,\u001b[0m\u001b[0;34m\u001b[0m\u001b[0;34m\u001b[0m\u001b[0m\n",
      "\u001b[0;32m/usr/lib/python3.8/subprocess.py\u001b[0m in \u001b[0;36m_execute_child\u001b[0;34m(self, args, executable, preexec_fn, close_fds, pass_fds, cwd, env, startupinfo, creationflags, shell, p2cread, p2cwrite, c2pread, c2pwrite, errread, errwrite, restore_signals, start_new_session)\u001b[0m\n\u001b[1;32m   1702\u001b[0m                     \u001b[0;32mif\u001b[0m \u001b[0merrno_num\u001b[0m \u001b[0;34m!=\u001b[0m \u001b[0;36m0\u001b[0m\u001b[0;34m:\u001b[0m\u001b[0;34m\u001b[0m\u001b[0;34m\u001b[0m\u001b[0m\n\u001b[1;32m   1703\u001b[0m                         \u001b[0merr_msg\u001b[0m \u001b[0;34m=\u001b[0m \u001b[0mos\u001b[0m\u001b[0;34m.\u001b[0m\u001b[0mstrerror\u001b[0m\u001b[0;34m(\u001b[0m\u001b[0merrno_num\u001b[0m\u001b[0;34m)\u001b[0m\u001b[0;34m\u001b[0m\u001b[0;34m\u001b[0m\u001b[0m\n\u001b[0;32m-> 1704\u001b[0;31m                     \u001b[0;32mraise\u001b[0m \u001b[0mchild_exception_type\u001b[0m\u001b[0;34m(\u001b[0m\u001b[0merrno_num\u001b[0m\u001b[0;34m,\u001b[0m \u001b[0merr_msg\u001b[0m\u001b[0;34m,\u001b[0m \u001b[0merr_filename\u001b[0m\u001b[0;34m)\u001b[0m\u001b[0;34m\u001b[0m\u001b[0;34m\u001b[0m\u001b[0m\n\u001b[0m\u001b[1;32m   1705\u001b[0m                 \u001b[0;32mraise\u001b[0m \u001b[0mchild_exception_type\u001b[0m\u001b[0;34m(\u001b[0m\u001b[0merr_msg\u001b[0m\u001b[0;34m)\u001b[0m\u001b[0;34m\u001b[0m\u001b[0;34m\u001b[0m\u001b[0m\n\u001b[1;32m   1706\u001b[0m \u001b[0;34m\u001b[0m\u001b[0m\n",
      "\u001b[0;31mPermissionError\u001b[0m: [Errno 13] Permission denied: '/afs/inf.ed.ac.uk/user/s22/s2202694/Documents/fds-assignment-3/stockfish/stockfish-windows-2022-x86-64-avx2.exe'"
     ]
    }
   ],
   "source": [
    "STOCKFISH_LOC = os.getcwd() + \"\\stockfish\\stockfish-windows-2022-x86-64-avx2.exe\"\n",
    "STOCKFISH_LOC_UNIX = os.getcwd() + \"/stockfish_linux/stockfish_15_x64\"\n",
    "\n",
    "print(STOCKFISH_LOC)\n",
    "from stockfish import Stockfish\n",
    "try:\n",
    "    fish = Stockfish(path=STOCKFISH_LOC)\n",
    "except:\n",
    "    fish = Stockfish(path=STOCKFISH_LOC_UNIX)"
   ]
  },
  {
   "attachments": {},
   "cell_type": "markdown",
   "metadata": {},
   "source": [
    "#### Import CSV file\n",
    "\n",
    "66879 entries in dataframe"
   ]
  },
  {
   "cell_type": "code",
   "execution_count": null,
   "metadata": {},
   "outputs": [
    {
     "ename": "",
     "evalue": "",
     "output_type": "error",
     "traceback": [
      "\u001b[1;31mRunning cells with 'base' requires the ipykernel package.\n",
      "\u001b[1;31mRun the following command to install 'ipykernel' into the Python environment. \n",
      "\u001b[1;31mCommand: 'conda install -n base ipykernel --update-deps --force-reinstall'"
     ]
    }
   ],
   "source": [
    "chess_data = data_cleaning.import_data()\n",
    "print(chess_data.dtypes)"
   ]
  },
  {
   "attachments": {},
   "cell_type": "markdown",
   "metadata": {},
   "source": [
    "#### Dataframe info\n",
    "\n",
    "Using:\n",
    "print(chess_data.dtypes)\n",
    "print(chess[\"rules\"].unique())\n",
    "\n",
    "\n",
    "Chess rules:\n",
    "['chess' 'chess960' 'threecheck' 'crazyhouse' 'kingofthehill']\n",
    "\n",
    "Time control:\n",
    "['1/259200' '1/172800' '1800' '1/86400' '1/432000' '1/604800' '600'\n",
    " '120+1' '900+10' '300' '180+2' '3600+5' '2700+45' '3600' '1/1209600'\n",
    " '180' '600+10' '60' '480+3' '300+5' '420+3' '600+5' '600+2' '1200' '30'\n",
    " '60+1' '120' '1500+3' '900+2' '1500+5' '1500+10' '1/864000' '900' '300+2'\n",
    " '1500' '7200' '300+1' '5400' '3600+60' '2700+30' '3480+45' '10' '2700+10'\n",
    " '15' '2700' '3600+20' '4500' '4200' '900+5' '1800+10' '2700+5' '480+5'\n",
    " '1800+30' '300+3' '600+1' '1800+5' '420+5' '5400+30' '240+10' '420' '303'\n",
    " '60+10']\n",
    "\n",
    " Time class:\n",
    "['daily' 'rapid' 'bullet' 'blitz']"
   ]
  },
  {
   "attachments": {},
   "cell_type": "markdown",
   "metadata": {},
   "source": [
    "#### Clean data\n",
    "\n",
    "Undeveloped board shouldn't matter if we're filtering games for potential ep\n",
    "\n",
    "Same for draws\n",
    "\n",
    "Can filter our time class if are looking at time controls\n",
    "\n",
    "After making a new move_list column, should we drop the pgn column?\n",
    "\n",
    "\n",
    "Variables we are considering when predicting ELO (for a player who could potentially make en passant move) are: (Y = DONE, N = NOT DONE)\n",
    "- Y: Colour who had ep opportunity (boolean)\n",
    "- Y: Did they take the en passant? (boolean)\n",
    "- N: Does their choice on taking/not taking support them if gaining an advantage? (numerical value for how much of an advantage it gives)\n",
    "- N: Time taken to decide to capture/not capture en passant (... whatever can be time, a number in seconds ig)\n",
    "- Y: Is the game rated? (boolean)\n",
    "- Y: Game time class\n",
    "\n",
    "\n",
    "To do:\n",
    "- Work out which colour is making the potential en passant move, add a column to dataframe detailing this\n",
    "- Make dataframe columns for other variables\n",
    "- Apply PCA reduction"
   ]
  },
  {
   "cell_type": "code",
   "execution_count": null,
   "metadata": {},
   "outputs": [
    {
     "ename": "",
     "evalue": "",
     "output_type": "error",
     "traceback": [
      "\u001b[1;31mRunning cells with 'base' requires the ipykernel package.\n",
      "\u001b[1;31mRun the following command to install 'ipykernel' into the Python environment. \n",
      "\u001b[1;31mCommand: 'conda install -n base ipykernel --update-deps --force-reinstall'"
     ]
    }
   ],
   "source": [
    "# Save PGN column from dataframe\n",
    "full_pgn = chess_data['pgn']\n",
    "\n",
    "def get_moves(entry):\n",
    "    '''\n",
    "    Retrive series of moves in a game when given the whole full_pgn entry\n",
    "    '''\n",
    "    pgn = entry.splitlines()[-1]\n",
    "    return pgn\n",
    "\n",
    "# Add list of moves (string) as a new column to dataframe\n",
    "chess_data['move_list'] = full_pgn.apply(get_moves)\n",
    "# Drop irrelevant columns\n",
    "chess_data = chess_data.drop(['time_control', 'white_username', 'black_username','white_id', 'black_id', 'white_result', 'black_result', 'rules'], axis=1)"
   ]
  },
  {
   "cell_type": "code",
   "execution_count": null,
   "metadata": {},
   "outputs": [
    {
     "ename": "",
     "evalue": "",
     "output_type": "error",
     "traceback": [
      "\u001b[1;31mRunning cells with 'base' requires the ipykernel package.\n",
      "\u001b[1;31mRun the following command to install 'ipykernel' into the Python environment. \n",
      "\u001b[1;31mCommand: 'conda install -n base ipykernel --update-deps --force-reinstall'"
     ]
    }
   ],
   "source": [
    "print(chess_data.iloc[0])"
   ]
  },
  {
   "attachments": {},
   "cell_type": "markdown",
   "metadata": {},
   "source": [
    "#### Import chess info\n",
    "https://python-chess.readthedocs.io/en/latest/core.html#chess.Board.san\n",
    "\n",
    "\n",
    "#### En Passant functions\n",
    "- has_legal_en_passant() tests if en passant capturing would actually be possible on the next move.\n",
    "- has_pseudo_legal_en_passant()\n",
    "- has_legal_en_passant()\n",
    "- is_en_passant(move: Move) Checks if the given pseudo-legal move is an en passant capture.\n",
    "\n",
    "\n",
    "\n",
    "\n",
    "Use StringIO to parse games from a string.\n",
    "\n",
    "```python\n",
    "import io\n",
    "pgn = io.StringIO(\"1. e4 e5 2. Nf3 *\")\n",
    "game = chess.pgn.read_game(pgn)\n",
    "```"
   ]
  },
  {
   "attachments": {},
   "cell_type": "markdown",
   "metadata": {},
   "source": [
    "#### Clean data specifically for ep\n",
    "\n",
    "Filter out columns that don't have potential ep\n",
    "Add columns for: whether ep happened, which colour had potential to take ep"
   ]
  },
  {
   "cell_type": "code",
   "execution_count": null,
   "metadata": {},
   "outputs": [
    {
     "ename": "",
     "evalue": "",
     "output_type": "error",
     "traceback": [
      "\u001b[1;31mRunning cells with 'base' requires the ipykernel package.\n",
      "\u001b[1;31mRun the following command to install 'ipykernel' into the Python environment. \n",
      "\u001b[1;31mCommand: 'conda install -n base ipykernel --update-deps --force-reinstall'"
     ]
    }
   ],
   "source": [
    "def check_pgn(df_row):\n",
    "    '''\n",
    "    Checks PGN for whether opportunity for EP happened in the game.\n",
    "    '''\n",
    "    \n",
    "    pgn_file = io.StringIO(df_row[\"pgn\"])   # PGN as a file\n",
    "    game = chess.pgn.read_game(pgn_file)    # Read PGN and put into game\n",
    "    board = game.board()                    # \"board\" of a game\n",
    "    # pre-initialise df_row values\n",
    "    precheck = False\n",
    "    moved = False\n",
    "    move_colour = \"\"\n",
    "    \n",
    "    # comparison sets when checking move piece\n",
    "    ep_set = set([\"ax\",\"bx\",\"cx\",\"dx\",\"ex\",\"fx\",\"gx\", \"hx\"])\n",
    "    check_set = set(\"abcdefgh\")\n",
    "    \n",
    "    # Find only pawn moves in game\n",
    "    for move in game.mainline_moves():\n",
    "        san = board.san(move)\n",
    "        turn = board.turn\n",
    "        move_piece = san[0]\n",
    "        # check if precheck was flagged in previous move\n",
    "        if precheck:\n",
    "            # get first 2 letters, and compare to a set\n",
    "            move_ep_piece = san[:2]\n",
    "            if move_ep_piece in ep_set:\n",
    "                # check if e.p. actually happened\n",
    "                moved = board.is_en_passant(move)\n",
    "            # break out for loop, no need to check further\n",
    "            break\n",
    "        \n",
    "        # if the move was a pawn (lower case)\n",
    "        if move_piece in check_set:\n",
    "            # Push the move before checking the board\n",
    "            board.push(move)\n",
    "            # check if the next move can be en passant\n",
    "            precheck = board.has_legal_en_passant()\n",
    "            # if precheck is true then set the turn\n",
    "            if precheck:\n",
    "                if turn:\n",
    "                    move_colour = 'Black'\n",
    "                else:\n",
    "                    move_colour = 'White'\n",
    "        # if the move wasn't a pawn then just continue as normal\n",
    "        else:\n",
    "            board.push(move)\n",
    "    \n",
    "    # set row values\n",
    "    df_row[\"ep_opportunity\"] = precheck\n",
    "    df_row[\"ep_happened\"] = moved\n",
    "    df_row[\"ep_colour\"] = move_colour\n",
    "    return df_row\n",
    "\n",
    "chess_filter = chess_data.copy(deep=True)\n",
    "\n",
    "start = time.time()\n",
    "# apply e.p. finding function\n",
    "chess_filter = chess_filter.apply(check_pgn, axis=1)\n",
    "end = time.time()\n",
    "print(end - start)"
   ]
  },
  {
   "cell_type": "code",
   "execution_count": null,
   "metadata": {},
   "outputs": [
    {
     "ename": "",
     "evalue": "",
     "output_type": "error",
     "traceback": [
      "\u001b[1;31mRunning cells with 'base' requires the ipykernel package.\n",
      "\u001b[1;31mRun the following command to install 'ipykernel' into the Python environment. \n",
      "\u001b[1;31mCommand: 'conda install -n base ipykernel --update-deps --force-reinstall'"
     ]
    }
   ],
   "source": [
    "chess_filter = chess_filter[chess_filter['ep_opportunity'] == True]\n",
    "chess_filter = chess_filter.drop(['ep_opportunity'], axis=1)\n",
    "chess_filter = chess_filter[chess_filter['time_class'] != \"daily\"]\n",
    "chess_filter = chess_filter.reset_index(drop=True)\n",
    "print(len(chess_filter))\n",
    "print(len(chess_filter[chess_filter['ep_happened'] == True]))\n",
    "# print(chess_filter[\"move_list\"].sample(50).head(20))"
   ]
  },
  {
   "cell_type": "code",
   "execution_count": null,
   "metadata": {},
   "outputs": [
    {
     "ename": "",
     "evalue": "",
     "output_type": "error",
     "traceback": [
      "\u001b[1;31mRunning cells with 'base' requires the ipykernel package.\n",
      "\u001b[1;31mRun the following command to install 'ipykernel' into the Python environment. \n",
      "\u001b[1;31mCommand: 'conda install -n base ipykernel --update-deps --force-reinstall'"
     ]
    }
   ],
   "source": [
    "# print(chess_filter.values)"
   ]
  },
  {
   "cell_type": "code",
   "execution_count": null,
   "metadata": {},
   "outputs": [
    {
     "ename": "",
     "evalue": "",
     "output_type": "error",
     "traceback": [
      "\u001b[1;31mRunning cells with 'base' requires the ipykernel package.\n",
      "\u001b[1;31mRun the following command to install 'ipykernel' into the Python environment. \n",
      "\u001b[1;31mCommand: 'conda install -n base ipykernel --update-deps --force-reinstall'"
     ]
    }
   ],
   "source": [
    "samp = chess_filter.sample(10)"
   ]
  },
  {
   "attachments": {},
   "cell_type": "markdown",
   "metadata": {},
   "source": [
    "#### Cleaning data for EP - Advantage for ep\n",
    "\n",
    "Analysing game - finding if ep move would have given an edvantage\n",
    "\n",
    "\n",
    "Split into cases: ep happened and ep didn't happen\n",
    "\n",
    "\n",
    "NOT DONE YET"
   ]
  },
  {
   "cell_type": "code",
   "execution_count": null,
   "metadata": {},
   "outputs": [
    {
     "ename": "",
     "evalue": "",
     "output_type": "error",
     "traceback": [
      "\u001b[1;31mRunning cells with 'base' requires the ipykernel package.\n",
      "\u001b[1;31mRun the following command to install 'ipykernel' into the Python environment. \n",
      "\u001b[1;31mCommand: 'conda install -n base ipykernel --update-deps --force-reinstall'"
     ]
    }
   ],
   "source": [
    "def increment_letter(letter):\n",
    "    '''dumb increment func'''\n",
    "    match letter:\n",
    "        case \"a\":\n",
    "            return \"b\"\n",
    "        case \"b\":\n",
    "            return \"c\"\n",
    "        case \"c\":\n",
    "            return \"d\"\n",
    "        case \"d\":\n",
    "            return \"e\"\n",
    "        case \"e\":\n",
    "            return \"f\"\n",
    "        case \"f\":\n",
    "            return \"g\"\n",
    "        case \"g\":\n",
    "            return \"h\"\n",
    "        case \"h\":\n",
    "            return \"z\"\n",
    "\n",
    "def decrement_letter(letter):\n",
    "    '''dumb decrement func'''\n",
    "    match letter:\n",
    "        case \"a\":\n",
    "            return \"y\"\n",
    "        case \"b\":\n",
    "            return \"a\"\n",
    "        case \"c\":\n",
    "            return \"b\"\n",
    "        case \"d\":\n",
    "            return \"c\"\n",
    "        case \"e\":\n",
    "            return \"d\"\n",
    "        case \"f\":\n",
    "            return \"e\"\n",
    "        case \"g\":\n",
    "            return \"f\"\n",
    "        case \"h\":\n",
    "            return \"g\"\n",
    "\n",
    "def get_advantage(df_row):\n",
    "    # make board\n",
    "    # find move with e.p.\n",
    "    # stockfish eval at that point\n",
    "    # get stockfish eval if best move\n",
    "    # get stockfish eval if e.p.\n",
    "    # find difference between two\n",
    "    # return\n",
    "\n",
    "    ep_set = set([\"ax\",\"bx\",\"cx\",\"dx\",\"ex\",\"fx\",\"gx\", \"hx\"])\n",
    "    check_set = set(\"abcdefgh\")\n",
    "\n",
    "    \n",
    "    pgn_file = io.StringIO(df_row[\"pgn\"])   # PGN as a file\n",
    "    game = chess.pgn.read_game(pgn_file)    # Read PGN and put into game\n",
    "    board = game.board()                    # \"board\" of a game\n",
    "    precheck = False\n",
    "    \n",
    "    pre_eval = 0\n",
    "    post_eval_best_diff = 0\n",
    "    post_eval_ep_diff = 0\n",
    "    \n",
    "    for move in game.mainline_moves():\n",
    "        san = board.san(move)\n",
    "        move_piece = san[0]\n",
    "\n",
    "        # check if precheck was flagged in previous move\n",
    "        if precheck:\n",
    "            # set stockfish on position\n",
    "            fish.set_fen_position(board.fen())\n",
    "            \n",
    "            # get pre-move evaluation\n",
    "            pre_eval = fish.get_evaluation()\n",
    "\n",
    "            # get best move\n",
    "            best_move = fish.get_best_move()\n",
    "            # make best move and measure\n",
    "            fish.make_moves_from_current_position([best_move])\n",
    "            post_eval = fish.get_evaluation()\n",
    "            # print(post_evaluation[\"value\"])\n",
    "            \n",
    "            # get difference of best move\n",
    "            post_eval_best_diff = post_eval[\"value\"] - pre_eval[\"value\"]\n",
    "\n",
    "            col = df_row[\"ep_colour\"]\n",
    "            # print(col)\n",
    "\n",
    "\n",
    "            # print(\"board peek: \" + str(board.peek()))\n",
    "            # get previous move\n",
    "            pawn_move_row = str(board.peek())[-2]\n",
    "            pawn_move_col = str(board.peek())[-1]\n",
    "            ep_result_col = \"3\" if pawn_move_col == \"4\" else \"6\"\n",
    "\n",
    "            # get left and right square relative to pawn that just moved\n",
    "            left_square = decrement_letter(pawn_move_row) + pawn_move_col\n",
    "            right_square = increment_letter(pawn_move_row) + pawn_move_col\n",
    "\n",
    "            # print(\"leftsq: \" + left_square)\n",
    "            # print(\"righsq: \" + right_square)\n",
    "\n",
    "            # checks if in leftmost or rightmost file\n",
    "            left_bound = True if left_square[-2] == \"y\" else False\n",
    "            right_bound = True if right_square[-2] == \"z\" else False\n",
    "\n",
    "            # if the piece to the left of the moved pawn is also a pawn\n",
    "            ep_left = False\n",
    "            # if the piece to the right of the moved pawn is also a pawn\n",
    "            ep_right = False\n",
    "\n",
    "            if col == \"Black\":\n",
    "                FISH_PAWN = fish.Piece.BLACK_PAWN\n",
    "            else:\n",
    "                FISH_PAWN = fish.Piece.WHITE_PAWN\n",
    "\n",
    "            # gross conditional :/\n",
    "            fish.set_fen_position(board.fen())\n",
    "\n",
    "            # if somewhere in the middle\n",
    "            if (not left_bound) and (not right_bound):\n",
    "                left_sq_piece = fish.get_what_is_on_square(left_square)\n",
    "                right_sq_piece = fish.get_what_is_on_square(right_square)\n",
    "                # print(\"left sq:\" + str(left_sq_piece))\n",
    "                # print(\"right sq: \" + str(right_sq_piece))\n",
    "                # if left of square is white pawn or black pawn\n",
    "                if left_sq_piece == FISH_PAWN:\n",
    "                    ep_left = True\n",
    "                # if right of square is white pawn or black pawn\n",
    "                if right_sq_piece == FISH_PAWN:\n",
    "                    ep_right = True\n",
    "            \n",
    "            # if A file pawn (leftmost)\n",
    "            elif left_bound:\n",
    "                right_sq_piece = fish.get_what_is_on_square(right_square)\n",
    "                \n",
    "                # if right of square is white pawn or black pawn\n",
    "                if right_sq_piece == FISH_PAWN:\n",
    "                    ep_right = True\n",
    "            \n",
    "            # if H file pawn (rightmost)\n",
    "            elif right_bound:\n",
    "                left_sq_piece = fish.get_what_is_on_square(left_square)\n",
    "                \n",
    "                # if left of square is white pawn or black pawn\n",
    "                if left_sq_piece == FISH_PAWN:\n",
    "                    ep_left = True\n",
    "\n",
    "            # print(ep_left)\n",
    "            # print(ep_right)\n",
    "\n",
    "            # low low post_eval value in case there are two diff e.p. states\n",
    "            post_eval_ep = -100000\n",
    "            \n",
    "            # if left side e.p.\n",
    "            if ep_left:\n",
    "                # reset board\n",
    "                fish.set_fen_position(board.fen())\n",
    "                # concat a move\n",
    "                ep_move = decrement_letter(pawn_move_row) + pawn_move_col + pawn_move_row + ep_result_col\n",
    "                print(ep_move)\n",
    "                # make the move on stockfish\n",
    "                fish.make_moves_from_current_position([ep_move])\n",
    "                print(fish.get_evaluation()[\"value\"])\n",
    "                # get the maximum centipawns\n",
    "                post_eval_ep = max(post_eval_ep, fish.get_evaluation()[\"value\"])\n",
    "            \n",
    "            # if right side e.p.\n",
    "            if ep_right:\n",
    "                # reset board\n",
    "                fish.set_fen_position(board.fen())\n",
    "                # concat a move\n",
    "                ep_move = increment_letter(pawn_move_row) + pawn_move_col + pawn_move_row + ep_result_col\n",
    "                print(ep_move)\n",
    "                # make the move on stockfish\n",
    "                fish.make_moves_from_current_position([ep_move])\n",
    "                print(fish.get_evaluation()[\"value\"])\n",
    "                # get the maximum centipawns\n",
    "                post_eval_ep = max(post_eval_ep, fish.get_evaluation()[\"value\"])\n",
    "            \n",
    "            # calculate difference\n",
    "            post_eval_ep_diff = post_eval_ep - pre_eval[\"value\"]\n",
    "\n",
    "            break\n",
    "            \n",
    "        # if the move was a pawn (lower case)\n",
    "        if move_piece in check_set:\n",
    "            # Push the move before checking the board\n",
    "            board.push(move)\n",
    "            # check if the next move can be en passant\n",
    "            precheck = board.has_legal_en_passant()\n",
    "        # if the move wasn't a pawn then just continue as normal\n",
    "        else:\n",
    "            board.push(move)\n",
    "\n",
    "    df_row[\"pre_state\"] = pre_eval[\"value\"]\n",
    "    df_row[\"state_best\"] = post_eval_best_diff# stockfish eval if e.p. is taken\n",
    "    df_row[\"state_ep\"] = post_eval_ep_diff # stockfish eval if e.p. isn't taken\n",
    "    return df_row\n",
    "\n",
    "# increment_letter(\"a\")\n",
    "# print(get_advantage(chess_filter.iloc[0]))\n",
    "samp2 = samp.apply(get_advantage, axis=1)"
   ]
  },
  {
   "cell_type": "code",
   "execution_count": null,
   "metadata": {},
   "outputs": [
    {
     "ename": "",
     "evalue": "",
     "output_type": "error",
     "traceback": [
      "\u001b[1;31mRunning cells with 'base' requires the ipykernel package.\n",
      "\u001b[1;31mRun the following command to install 'ipykernel' into the Python environment. \n",
      "\u001b[1;31mCommand: 'conda install -n base ipykernel --update-deps --force-reinstall'"
     ]
    }
   ],
   "source": [
    "print(samp2)"
   ]
  },
  {
   "attachments": {},
   "cell_type": "markdown",
   "metadata": {},
   "source": [
    "### Number of games with at least 1 possible en-passant move - ???:\n",
    "## 4750\n",
    "(maybe 4913 or even 4945)\n",
    "\n",
    "### Number of games with an actual en-passant move - ???:\n",
    "## 1566"
   ]
  },
  {
   "attachments": {},
   "cell_type": "markdown",
   "metadata": {},
   "source": [
    "#### Applying PCA\n"
   ]
  },
  {
   "cell_type": "code",
   "execution_count": null,
   "metadata": {},
   "outputs": [
    {
     "ename": "",
     "evalue": "",
     "output_type": "error",
     "traceback": [
      "\u001b[1;31mRunning cells with 'base' requires the ipykernel package.\n",
      "\u001b[1;31mRun the following command to install 'ipykernel' into the Python environment. \n",
      "\u001b[1;31mCommand: 'conda install -n base ipykernel --update-deps --force-reinstall'"
     ]
    }
   ],
   "source": [
    "# Replace Boolean and string variables with numbers\n",
    "chess_filter['ep_happened'] = chess_filter['ep_happened'].replace({True:1, False:0})\n",
    "chess_filter['ep_colour'] = chess_filter['ep_colour'].replace({'White':1, 'Black':0})\n",
    "chess_filter['rated'] = chess_filter['rated'].replace({True:1, False:0})\n",
    "chess_filter['time_class'] = chess_filter['time_class'].replace({'daily':3, 'rapid':2, 'blitz':1, 'bullet':0})\n",
    "\n",
    "# Drop irrelevant columns, and save differently - as a dataframe including the rating and one without\n",
    "chess_data_with_elo = chess_filter.drop(['fen', 'pgn', 'move_list'], axis=1)\n",
    "chess_data_without_elo = chess_data_with_elo.drop(['white_rating', 'black_rating'], axis=1)\n",
    "\n",
    "print(chess_data_with_elo.head())\n",
    "print('\\n')\n",
    "print(chess_data_without_elo.head())"
   ]
  },
  {
   "attachments": {},
   "cell_type": "markdown",
   "metadata": {},
   "source": [
    "##### Data Standardisation (For PCA)\n",
    "\n",
    "Cite week 8 lab sheet in report? Heavily used their code to help"
   ]
  },
  {
   "cell_type": "code",
   "execution_count": null,
   "metadata": {},
   "outputs": [
    {
     "ename": "",
     "evalue": "",
     "output_type": "error",
     "traceback": [
      "\u001b[1;31mRunning cells with 'base' requires the ipykernel package.\n",
      "\u001b[1;31mRun the following command to install 'ipykernel' into the Python environment. \n",
      "\u001b[1;31mCommand: 'conda install -n base ipykernel --update-deps --force-reinstall'"
     ]
    }
   ],
   "source": [
    "# THIS PART IS COPIED AND PASTED FROM WEEK 8 PCA SOLUTIONS:\n",
    "def sort_eigenvalues(eigenvalues, eigenvectors):\n",
    "    idx = eigenvalues.argsort()[::-1]   \n",
    "    eigenvalues = eigenvalues[idx]\n",
    "    eigenvectors = eigenvectors[:,idx]\n",
    "    return eigenvalues, eigenvectors\n",
    "\n",
    "# THE REST IS HEAVILY INFLUENCED BY WEEK 8 PCA SOLUTIONS\n",
    "\n",
    "# Standardise chess_data_without_elo so that it follows the Standard normal distribution\n",
    "for col in chess_data_without_elo.columns:\n",
    "        chess_data_without_elo[col] = (chess_data_without_elo[col] - chess_data_without_elo[col].mean()) / chess_data_without_elo[col].std()\n",
    "\n",
    "# # Create matrix storing covariances of the chess dataframe features\n",
    "# covariances = np.cov(chess_data_without_elo.values.T)\n",
    "\n",
    "# # Record eigenvalues and eigenvectors\n",
    "# eigenvalues, eigenvectors = np.linalg.eig(covariances)\n",
    "# eigenvalues, eigenvalues = sort_eigenvalues(eigenvalues, eigenvectors)\n",
    "\n",
    "# result = chess_data_without_elo.dot(eigenvectors[:,:2])\n",
    "\n",
    "# sns.scatterplot(x= result[0], y = result[1], hue=diagnosis)\n",
    "# plt.xlabel('PC1')\n",
    "# plt.ylabel('PC2')\n",
    "\n",
    "\n",
    "\n",
    "\n",
    "# Lila Can we instead use this? :\n",
    "pca = PCA(n_components=3).fit(chess_data_without_elo.values)\n",
    "pca_result = pca.transform(chess_data_without_elo.values)\n",
    "sns.scatterplot(x=pca_result[:, 0], y=pca_result[:, 1])\n",
    "plt.xlabel('PC1')\n",
    "plt.ylabel('PC2')"
   ]
  }
 ],
 "metadata": {
  "kernelspec": {
   "display_name": "Python 3",
   "language": "python",
   "name": "python3"
  },
  "language_info": {
   "codemirror_mode": {
    "name": "ipython",
    "version": 3
   },
   "file_extension": ".py",
   "mimetype": "text/x-python",
   "name": "python",
   "nbconvert_exporter": "python",
   "pygments_lexer": "ipython3",
   "version": "3.8.10"
  },
  "orig_nbformat": 4,
  "vscode": {
   "interpreter": {
    "hash": "767d51c1340bd893661ea55ea3124f6de3c7a262a8b4abca0554b478b1e2ff90"
   }
  }
 },
 "nbformat": 4,
 "nbformat_minor": 2
}
